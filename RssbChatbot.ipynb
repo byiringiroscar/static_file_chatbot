{
  "cells": [
    {
      "cell_type": "markdown",
      "metadata": {
        "id": "view-in-github",
        "colab_type": "text"
      },
      "source": [
        "<a href=\"https://colab.research.google.com/github/byiringiroscar/static_file_chatbot/blob/main/RssbChatbot.ipynb\" target=\"_parent\"><img src=\"https://colab.research.google.com/assets/colab-badge.svg\" alt=\"Open In Colab\"/></a>"
      ]
    },
    {
      "cell_type": "code",
      "execution_count": 1,
      "metadata": {
        "id": "htyPfrjINWam"
      },
      "outputs": [],
      "source": [
        "import requests\n",
        "from bs4 import BeautifulSoup\n",
        "import pandas as pd\n",
        "import re"
      ]
    },
    {
      "cell_type": "code",
      "source": [
        "#check trans\n",
        "# !pip install googletrans"
      ],
      "metadata": {
        "id": "HLtF1CBWm3J4"
      },
      "execution_count": 2,
      "outputs": []
    },
    {
      "cell_type": "code",
      "source": [
        "# from googletrans import Translator\n",
        "# translate_word = Translator()\n",
        "# out = translate_word.translate('안녕하세요.', dest=\"en\")\n",
        "# out"
      ],
      "metadata": {
        "id": "cZ7f4TJHnCr4"
      },
      "execution_count": 3,
      "outputs": []
    },
    {
      "cell_type": "code",
      "execution_count": 2,
      "metadata": {
        "id": "vdsCfFMUP0e6"
      },
      "outputs": [],
      "source": [
        "#Fetch the content from the front page\n",
        "url_links = 'https://www.rssb.rw/'\n",
        "content = requests.get(url_links).content"
      ]
    },
    {
      "cell_type": "code",
      "execution_count": null,
      "metadata": {
        "id": "G24OVoqoRUfG"
      },
      "outputs": [],
      "source": [
        "#Preview of the Content\n",
        "content"
      ]
    },
    {
      "cell_type": "code",
      "execution_count": 4,
      "metadata": {
        "id": "kldCdJNIRavd"
      },
      "outputs": [],
      "source": [
        "#Initiating the BS4 parser\n",
        "page = BeautifulSoup(content, 'html.parser')"
      ]
    },
    {
      "cell_type": "markdown",
      "source": [
        "#here we are going to store all content we have on first page"
      ],
      "metadata": {
        "id": "PonrGvnpTsF9"
      }
    },
    {
      "cell_type": "markdown",
      "source": [
        "##  use package of pysummarization to summarize our 'p' content"
      ],
      "metadata": {
        "id": "k3GRc5vmUVU4"
      }
    },
    {
      "cell_type": "code",
      "source": [
        "!pip install pysummarization # installation of package"
      ],
      "metadata": {
        "id": "IQxvP2_gUjd3",
        "outputId": "cf1a5f49-a89b-4066-8948-9ab7bbf70548",
        "colab": {
          "base_uri": "https://localhost:8080/"
        }
      },
      "execution_count": 5,
      "outputs": [
        {
          "output_type": "stream",
          "name": "stdout",
          "text": [
            "Looking in indexes: https://pypi.org/simple, https://us-python.pkg.dev/colab-wheels/public/simple/\n",
            "Requirement already satisfied: pysummarization in /usr/local/lib/python3.8/dist-packages (1.1.9)\n",
            "Requirement already satisfied: numpy in /usr/local/lib/python3.8/dist-packages (from pysummarization) (1.21.6)\n",
            "Requirement already satisfied: nltk in /usr/local/lib/python3.8/dist-packages (from pysummarization) (3.7)\n",
            "Requirement already satisfied: regex>=2021.8.3 in /usr/local/lib/python3.8/dist-packages (from nltk->pysummarization) (2022.6.2)\n",
            "Requirement already satisfied: click in /usr/local/lib/python3.8/dist-packages (from nltk->pysummarization) (7.1.2)\n",
            "Requirement already satisfied: tqdm in /usr/local/lib/python3.8/dist-packages (from nltk->pysummarization) (4.64.1)\n",
            "Requirement already satisfied: joblib in /usr/local/lib/python3.8/dist-packages (from nltk->pysummarization) (1.2.0)\n"
          ]
        }
      ]
    },
    {
      "cell_type": "markdown",
      "source": [
        "function to summarize our text by using pysummarization package"
      ],
      "metadata": {
        "id": "CLZumw9GUtIy"
      }
    },
    {
      "cell_type": "code",
      "source": [
        "# here is import which help us to summarize description\n",
        "from pysummarization.nlpbase.auto_abstractor import AutoAbstractor\n",
        "from pysummarization.tokenizabledoc.simple_tokenizer import SimpleTokenizer\n",
        "from pysummarization.abstractabledoc.top_n_rank_abstractor import TopNRankAbstractor\n",
        "# ================ function which help us to summarize word ========================\n",
        "def summarize_description(document):\n",
        "  # Object of automatic summarization.\n",
        "  auto_abstractor = AutoAbstractor()\n",
        "  # Set tokenizer.\n",
        "  auto_abstractor.tokenizable_doc = SimpleTokenizer()\n",
        "  # Set delimiter for making a list of sentence.\n",
        "  auto_abstractor.delimiter_list = [\".\", \"\\n\"]\n",
        "  # Object of abstracting and filtering document.\n",
        "  abstractable_doc = TopNRankAbstractor()\n",
        "  # Summarize document.\n",
        "  result_dict = auto_abstractor.summarize(document, abstractable_doc)\n",
        "  final_text_summarized = ''\n",
        "  # Output result.\n",
        "  for sentence in result_dict[\"summarize_result\"]:\n",
        "      final_text_summarized += sentence\n",
        "  return final_text_summarized"
      ],
      "metadata": {
        "id": "eiqLU29eUvmB"
      },
      "execution_count": 6,
      "outputs": []
    },
    {
      "cell_type": "markdown",
      "source": [
        "get content in our landing page paragraph"
      ],
      "metadata": {
        "id": "BNH_Y2EPYpZ7"
      }
    },
    {
      "cell_type": "code",
      "source": [
        "landing_page_p = page.find_all('p') # p means paragraph\n",
        "landing_page_h = page.find_all('h2') # h means header"
      ],
      "metadata": {
        "id": "_cbcssb3YtsV"
      },
      "execution_count": 7,
      "outputs": []
    },
    {
      "cell_type": "markdown",
      "source": [
        "this function will help us to split our string into to 60 string "
      ],
      "metadata": {
        "id": "QB27CknhZgNz"
      }
    },
    {
      "cell_type": "code",
      "source": [
        "def split_string(page_content):\n",
        "  n = 60\n",
        "  chunks = [page_content[i:i+n] for i in range(0, len(page_content), n)]\n",
        "  return chunks"
      ],
      "metadata": {
        "id": "MogZelfWZogi"
      },
      "execution_count": 8,
      "outputs": []
    },
    {
      "cell_type": "markdown",
      "source": [
        "save data in list with split them and use pysummarization"
      ],
      "metadata": {
        "id": "eu39gBHnamP9"
      }
    },
    {
      "cell_type": "code",
      "source": [
        "# loop the data then save it in list with help \n",
        "page_landing_links_p = [] # links related with first content of page landing p tag\n",
        "page_landing_text_p = [] # content related with first content of page landing p tag\n",
        "for land_page_p in landing_page_p:\n",
        "  p_content = land_page_p.text\n",
        "  split_content_p = split_string(p_content)\n",
        "  for content_p in split_content_p:\n",
        "      new_content_land = summarize_description(content_p) # append content in landing page\n",
        "      if new_content_land not in page_landing_text_p and len(new_content_land) >0:\n",
        "        page_landing_text_p.append(new_content_land)\n",
        "        page_landing_links_p.append(url_links)\n",
        "    "
      ],
      "metadata": {
        "id": "r84KGj_-Y8XM"
      },
      "execution_count": 10,
      "outputs": []
    },
    {
      "cell_type": "code",
      "source": [
        "len(page_landing_text_p)"
      ],
      "metadata": {
        "id": "GJckQvzue8sH",
        "outputId": "e86b6e51-7f29-4cbe-b465-9c0590b483d6",
        "colab": {
          "base_uri": "https://localhost:8080/"
        }
      },
      "execution_count": 11,
      "outputs": [
        {
          "output_type": "execute_result",
          "data": {
            "text/plain": [
              "38"
            ]
          },
          "metadata": {},
          "execution_count": 11
        }
      ]
    },
    {
      "cell_type": "markdown",
      "source": [
        "get content in our landing page header"
      ],
      "metadata": {
        "id": "vZrkRAidca7U"
      }
    },
    {
      "cell_type": "code",
      "source": [
        "# loop the data then save it in list with help \n",
        "page_landing_links_h = [] # links related with first content of page landing h2\n",
        "page_landing_text_h = [] # content related with first content of page landing h2\n",
        "for land_page_p in landing_page_h:\n",
        "  p_content = land_page_p.text\n",
        "  split_content_p = split_string(p_content)\n",
        "  for content_p in split_content_p:\n",
        "    new_content_land = summarize_description(content_p) # append content in landing page\n",
        "    if new_content_land not in page_landing_text_h and len(new_content_land) >0:\n",
        "      page_landing_text_h.append(new_content_land)\n",
        "      page_landing_links_h.append(url_links)"
      ],
      "metadata": {
        "id": "8e6UlWjOcdhU"
      },
      "execution_count": 12,
      "outputs": []
    },
    {
      "cell_type": "code",
      "source": [
        "page_landing_text_h"
      ],
      "metadata": {
        "id": "hqCe3zf4fEha",
        "outputId": "e3dcb99e-6fea-43ca-8592-77c0f11cfb8a",
        "colab": {
          "base_uri": "https://localhost:8080/"
        }
      },
      "execution_count": 13,
      "outputs": [
        {
          "output_type": "execute_result",
          "data": {
            "text/plain": [
              "['Optimistic and forward-looking agent of central government, .\\n',\n",
              " 'working to achieve the financial security and health of all .\\n',\n",
              " 'Digital transformation.\\n']"
            ]
          },
          "metadata": {},
          "execution_count": 13
        }
      ]
    },
    {
      "cell_type": "code",
      "source": [
        "# list for data of p in landing page\n",
        "#list page_landing_links_p # links related with first content of page landing p tag\n",
        "#list page_landing_text_p # content related with first content of page landing p tag\n",
        "# list for data of h2 in landing page\n",
        "#list page_landing_links_h  # links related with first content of page landing h2\n",
        "#list page_landing_text_h # content related with first content of page landing h2"
      ],
      "metadata": {
        "id": "4eDO4O8bcxA5"
      },
      "execution_count": 15,
      "outputs": []
    },
    {
      "cell_type": "code",
      "source": [
        "# extend all list \n",
        "page_landing_text_p.extend(page_landing_text_h)\n",
        "page_landing_links_p.extend(page_landing_links_h)\n",
        "\n"
      ],
      "metadata": {
        "id": "i5bt0pSyd7Yc"
      },
      "execution_count": 14,
      "outputs": []
    },
    {
      "cell_type": "markdown",
      "source": [
        "save our final data for landing page"
      ],
      "metadata": {
        "id": "4eCmDW6ygE8a"
      }
    },
    {
      "cell_type": "code",
      "source": [
        "# final list of data for landing page \n",
        "final_content_landing = page_landing_text_p.copy()\n",
        "final_links_landing = page_landing_links_p.copy()"
      ],
      "metadata": {
        "id": "wxOkbu75flVE"
      },
      "execution_count": 15,
      "outputs": []
    },
    {
      "cell_type": "markdown",
      "source": [
        "get all links in page page landing"
      ],
      "metadata": {
        "id": "0cRayWSHduo3"
      }
    },
    {
      "cell_type": "code",
      "execution_count": 16,
      "metadata": {
        "id": "49zyd2emReMn"
      },
      "outputs": [],
      "source": [
        "#Get all the links in the website\n",
        "links = page.find_all('a')"
      ]
    },
    {
      "cell_type": "code",
      "execution_count": 17,
      "metadata": {
        "colab": {
          "base_uri": "https://localhost:8080/"
        },
        "id": "jdiZqFd9SDOm",
        "outputId": "35f3acd9-34cc-432e-e3f4-1d08434069c9"
      },
      "outputs": [
        {
          "output_type": "execute_result",
          "data": {
            "text/plain": [
              "35"
            ]
          },
          "metadata": {},
          "execution_count": 17
        }
      ],
      "source": [
        "len(links)"
      ]
    },
    {
      "cell_type": "markdown",
      "source": [
        "loop to all links then get text on it and link it's self"
      ],
      "metadata": {
        "id": "XjpEpwODiKYi"
      }
    },
    {
      "cell_type": "code",
      "execution_count": 18,
      "metadata": {
        "id": "l4sW0QyqRjuH"
      },
      "outputs": [],
      "source": [
        "# main links fetching and main titles\n",
        "list_of_links = [] #list()\n",
        "list_of_titles = []\n",
        "\n",
        "for item in links: #loop over the list of links\n",
        "  if not str(item['href']) == '/':\n",
        "    if len(item.text) > 0:\n",
        "        if not item['href'].endswith('docx') and not item['href'].endswith('pdf') and not item['href'].endswith('xl') and not item['href'].endswith('xlsx') and not item['href'].endswith('html') and not item['href'].endswith('gov') and not item['href'].endswith('doc') and not item['href'].endswith('zip') and not item['href'].endswith('mdb') and not item['href'].endswith('xls'):\n",
        "          if str(item['href']).startswith('http'):\n",
        "            if bool(re.search('rssb', str(item['href']))):\n",
        "              if item.text not in list_of_titles and len(item.text)>0:\n",
        "                lin = str(item['href'])\n",
        "                list_of_links.append(lin)\n",
        "                list_of_titles.append(item.text)\n",
        "              \n",
        "          else:\n",
        "            if item.text not in list_of_titles and len(item.text)>0:\n",
        "              lin = str(item['href'])\n",
        "              domain = 'https://www.rssb.rw' + lin\n",
        "              list_of_links.append(domain)\n",
        "              list_of_titles.append(item.text)\n",
        "    \n",
        "    \n",
        "\n",
        "  \n",
        "  "
      ]
    },
    {
      "cell_type": "markdown",
      "source": [
        "get all links in each link and content on it"
      ],
      "metadata": {
        "id": "OLbiE_Gnidso"
      }
    },
    {
      "cell_type": "code",
      "execution_count": 19,
      "metadata": {
        "id": "_iHEuWhCx_I-"
      },
      "outputs": [],
      "source": [
        "# take every link then go inside then get all links associated with it\n",
        "def get_individual_link(fina_l): \n",
        "  try:\n",
        "    if not fina_l.endswith('docx') and not fina_l.endswith('pdf') and not fina_l.endswith('xl') and not fina_l.endswith('xlsx') and not fina_l.endswith('html') and not fina_l.endswith('gov') and not fina_l.endswith('doc') and not fina_l.endswith('zip') and not fina_l.endswith('mdb') and not fina_l.endswith('xls'):\n",
        "      content_individual_link = requests.get(fina_l).content # get content for each link\n",
        "      page_individual_link = BeautifulSoup(content_individual_link, 'html.parser', from_encoding=\"iso-8859-1\")\n",
        "      final_link_individual = page_individual_link.findAll('a')\n",
        "      for links_ind in final_link_individual:\n",
        "        if not str(links_ind['href']) == '/':\n",
        "          if len(links_ind.text) > 0:\n",
        "            if str(links_ind['href']).startswith('http'):\n",
        "              if bool(re.search('rssb', str(links_ind['href']))):\n",
        "                if not links_ind['href'].endswith('docx') and not links_ind['href'].endswith('pdf') and not links_ind['href'].endswith('xl') and not links_ind['href'].endswith('xlsx') and not links_ind['href'].endswith('html') and not links_ind['href'].endswith('gov') and not links_ind['href'].endswith('doc') and not links_ind['href'].endswith('zip') and not links_ind['href'].endswith('mdb') and not links_ind['href'].endswith('xls'):\n",
        "                  if links_ind.text not in list_of_titles and len(links_ind.text) > 0:\n",
        "                    lin = str(links_ind['href'])\n",
        "                    list_of_links.append(lin)\n",
        "                    list_of_titles.append(links_ind.text)\n",
        "            else:\n",
        "              if links_ind.text not in list_of_titles and len(links_ind.text) > 0:\n",
        "                lin = str(links_ind['href'])\n",
        "                domain = 'https://www.rssb.rw' + lin\n",
        "                list_of_links.append(domain)\n",
        "                list_of_titles.append(links_ind.text)\n",
        "  except:\n",
        "    pass\n",
        "\n"
      ]
    },
    {
      "cell_type": "code",
      "execution_count": 20,
      "metadata": {
        "id": "Mxjd5DZa4S0L"
      },
      "outputs": [],
      "source": [
        "for i in range(len(list_of_links)):\n",
        "  fina_links = list_of_links[i]\n",
        "  fin_li_official = get_individual_link(fina_links)"
      ]
    },
    {
      "cell_type": "code",
      "source": [
        "len(list_of_titles)"
      ],
      "metadata": {
        "colab": {
          "base_uri": "https://localhost:8080/"
        },
        "id": "5IYNMLRKLDU9",
        "outputId": "eefd0805-ff21-46a0-9dd1-fdbffa4f46cc"
      },
      "execution_count": 21,
      "outputs": [
        {
          "output_type": "execute_result",
          "data": {
            "text/plain": [
              "57"
            ]
          },
          "metadata": {},
          "execution_count": 21
        }
      ]
    },
    {
      "cell_type": "code",
      "source": [
        "# import re\n",
        "# real_link = []\n",
        "# for lin in list_of_links:\n",
        "#   if bool(re.search('rssb', lin)):\n",
        "#     if not lin.endswith('docx') and not lin.endswith('pdf') and not lin.endswith('xl') and not lin.endswith('xlsx') and not lin.endswith('html') and not lin.endswith('gov') and not lin.endswith('doc') and not lin.endswith('zip') and not lin.endswith('mdb') and not lin.endswith('xls'):\n",
        "#       real_link.append(lin)\n",
        "\n",
        "\n",
        "\n"
      ],
      "metadata": {
        "id": "I-ZmgzjRWv_0"
      },
      "execution_count": 24,
      "outputs": []
    },
    {
      "cell_type": "code",
      "source": [
        "# len(real_link)"
      ],
      "metadata": {
        "id": "jFpStdvGGaH0"
      },
      "execution_count": 25,
      "outputs": []
    },
    {
      "cell_type": "code",
      "source": [
        "# remove duplicate in order to see all rssb what content inside then append it in list called list_of_links\n",
        "# real_link = list(set(list_of_links))\n",
        "# len(real_link)"
      ],
      "metadata": {
        "id": "Vfj7aBuYZLZr"
      },
      "execution_count": 26,
      "outputs": []
    },
    {
      "cell_type": "code",
      "source": [
        "def get_content_link_rssb_links(link_rssb):\n",
        "  try:\n",
        "      content_rssb = requests.get(link_rssb).content\n",
        "      page_rssb = BeautifulSoup(content_rssb, 'html.parser')\n",
        "      links_rssb = page_rssb.find_all('p')\n",
        "      links_rssb_h_tag = page_rssb.find_all('h2')\n",
        "      if len(links_rssb) > 0:\n",
        "        for links_rssb in links_rssb:\n",
        "          links_rssb = links_rssb.text\n",
        "          new_list_content = split_string(links_rssb)\n",
        "          for new_cont in new_list_content:\n",
        "            if new_cont not in list_of_titles and len(new_cont)> 0:\n",
        "              list_of_titles.append(new_cont)\n",
        "              list_of_links.append(link_rssb)\n",
        "      if len(links_rssb_h_tag) > 0:\n",
        "        for links_rssb_h_tag in links_rssb_h_tag:\n",
        "          if links_rssb_h_tag.text not in list_of_titles:\n",
        "            content_header = links_rssb_h_tag.text.strip()\n",
        "            list_of_titles.append(content_header)\n",
        "            list_of_links.append(link_rssb)\n",
        "  except:\n",
        "    pass"
      ],
      "metadata": {
        "id": "XzY8RxJjHKcj"
      },
      "execution_count": 22,
      "outputs": []
    },
    {
      "cell_type": "code",
      "source": [
        "for index, lin_rssb in enumerate(list_of_links):\n",
        "    try:\n",
        "      get_content_link_rssb_links(lin_rssb)\n",
        "    except:\n",
        "      pass\n"
      ],
      "metadata": {
        "id": "SEq13LtgOJGH"
      },
      "execution_count": 23,
      "outputs": []
    },
    {
      "cell_type": "code",
      "source": [
        "\n",
        "len(list_of_titles)\n",
        "len(list_of_links)"
      ],
      "metadata": {
        "colab": {
          "base_uri": "https://localhost:8080/"
        },
        "id": "LrobAWMpInGF",
        "outputId": "d413ac49-84f8-4e63-b829-26b656243cab"
      },
      "execution_count": 25,
      "outputs": [
        {
          "output_type": "execute_result",
          "data": {
            "text/plain": [
              "882"
            ]
          },
          "metadata": {},
          "execution_count": 25
        }
      ]
    },
    {
      "cell_type": "code",
      "source": [
        "print(len(final_content_landing))\n",
        "print(len(final_links_landing)) "
      ],
      "metadata": {
        "id": "9CQtpG2ziUe9"
      },
      "execution_count": null,
      "outputs": []
    },
    {
      "cell_type": "markdown",
      "source": [
        "extend these list of all data and data from our landing page"
      ],
      "metadata": {
        "id": "GCRJAptSnxDi"
      }
    },
    {
      "cell_type": "code",
      "source": [
        "list_of_titles.extend(final_content_landing)\n",
        "list_of_links.extend(final_links_landing)"
      ],
      "metadata": {
        "id": "cbkNhmzCn48r"
      },
      "execution_count": 27,
      "outputs": []
    },
    {
      "cell_type": "code",
      "source": [
        "len(list_of_titles)\n",
        "len(list_of_links)"
      ],
      "metadata": {
        "id": "MKVOX9CWoC_J",
        "outputId": "cf4de92d-144f-446d-ee62-7a83f7c0f683",
        "colab": {
          "base_uri": "https://localhost:8080/"
        }
      },
      "execution_count": 28,
      "outputs": [
        {
          "output_type": "execute_result",
          "data": {
            "text/plain": [
              "923"
            ]
          },
          "metadata": {},
          "execution_count": 28
        }
      ]
    },
    {
      "cell_type": "code",
      "execution_count": 54,
      "metadata": {
        "id": "UxaG2V0r5gEq"
      },
      "outputs": [],
      "source": [
        "df = pd.DataFrame()\n",
        "df['title'] = list_of_titles\n",
        "df['link'] = list_of_links"
      ]
    },
    {
      "cell_type": "code",
      "execution_count": 55,
      "metadata": {
        "colab": {
          "base_uri": "https://localhost:8080/",
          "height": 175
        },
        "id": "952XIE29-vMG",
        "outputId": "98948f25-1931-43e5-bdc6-4570c2a00eda"
      },
      "outputs": [
        {
          "output_type": "execute_result",
          "data": {
            "text/plain": [
              "          title                                               link\n",
              "count       923                                                923\n",
              "unique      923                                                 36\n",
              "top     schemes  https://www.rssb.rw/rssb-embarks-on-a-new-five...\n",
              "freq          1                                                 93"
            ],
            "text/html": [
              "\n",
              "  <div id=\"df-b7465021-0262-4968-8f50-086d945a8bb4\">\n",
              "    <div class=\"colab-df-container\">\n",
              "      <div>\n",
              "<style scoped>\n",
              "    .dataframe tbody tr th:only-of-type {\n",
              "        vertical-align: middle;\n",
              "    }\n",
              "\n",
              "    .dataframe tbody tr th {\n",
              "        vertical-align: top;\n",
              "    }\n",
              "\n",
              "    .dataframe thead th {\n",
              "        text-align: right;\n",
              "    }\n",
              "</style>\n",
              "<table border=\"1\" class=\"dataframe\">\n",
              "  <thead>\n",
              "    <tr style=\"text-align: right;\">\n",
              "      <th></th>\n",
              "      <th>title</th>\n",
              "      <th>link</th>\n",
              "    </tr>\n",
              "  </thead>\n",
              "  <tbody>\n",
              "    <tr>\n",
              "      <th>count</th>\n",
              "      <td>923</td>\n",
              "      <td>923</td>\n",
              "    </tr>\n",
              "    <tr>\n",
              "      <th>unique</th>\n",
              "      <td>923</td>\n",
              "      <td>36</td>\n",
              "    </tr>\n",
              "    <tr>\n",
              "      <th>top</th>\n",
              "      <td>schemes</td>\n",
              "      <td>https://www.rssb.rw/rssb-embarks-on-a-new-five...</td>\n",
              "    </tr>\n",
              "    <tr>\n",
              "      <th>freq</th>\n",
              "      <td>1</td>\n",
              "      <td>93</td>\n",
              "    </tr>\n",
              "  </tbody>\n",
              "</table>\n",
              "</div>\n",
              "      <button class=\"colab-df-convert\" onclick=\"convertToInteractive('df-b7465021-0262-4968-8f50-086d945a8bb4')\"\n",
              "              title=\"Convert this dataframe to an interactive table.\"\n",
              "              style=\"display:none;\">\n",
              "        \n",
              "  <svg xmlns=\"http://www.w3.org/2000/svg\" height=\"24px\"viewBox=\"0 0 24 24\"\n",
              "       width=\"24px\">\n",
              "    <path d=\"M0 0h24v24H0V0z\" fill=\"none\"/>\n",
              "    <path d=\"M18.56 5.44l.94 2.06.94-2.06 2.06-.94-2.06-.94-.94-2.06-.94 2.06-2.06.94zm-11 1L8.5 8.5l.94-2.06 2.06-.94-2.06-.94L8.5 2.5l-.94 2.06-2.06.94zm10 10l.94 2.06.94-2.06 2.06-.94-2.06-.94-.94-2.06-.94 2.06-2.06.94z\"/><path d=\"M17.41 7.96l-1.37-1.37c-.4-.4-.92-.59-1.43-.59-.52 0-1.04.2-1.43.59L10.3 9.45l-7.72 7.72c-.78.78-.78 2.05 0 2.83L4 21.41c.39.39.9.59 1.41.59.51 0 1.02-.2 1.41-.59l7.78-7.78 2.81-2.81c.8-.78.8-2.07 0-2.86zM5.41 20L4 18.59l7.72-7.72 1.47 1.35L5.41 20z\"/>\n",
              "  </svg>\n",
              "      </button>\n",
              "      \n",
              "  <style>\n",
              "    .colab-df-container {\n",
              "      display:flex;\n",
              "      flex-wrap:wrap;\n",
              "      gap: 12px;\n",
              "    }\n",
              "\n",
              "    .colab-df-convert {\n",
              "      background-color: #E8F0FE;\n",
              "      border: none;\n",
              "      border-radius: 50%;\n",
              "      cursor: pointer;\n",
              "      display: none;\n",
              "      fill: #1967D2;\n",
              "      height: 32px;\n",
              "      padding: 0 0 0 0;\n",
              "      width: 32px;\n",
              "    }\n",
              "\n",
              "    .colab-df-convert:hover {\n",
              "      background-color: #E2EBFA;\n",
              "      box-shadow: 0px 1px 2px rgba(60, 64, 67, 0.3), 0px 1px 3px 1px rgba(60, 64, 67, 0.15);\n",
              "      fill: #174EA6;\n",
              "    }\n",
              "\n",
              "    [theme=dark] .colab-df-convert {\n",
              "      background-color: #3B4455;\n",
              "      fill: #D2E3FC;\n",
              "    }\n",
              "\n",
              "    [theme=dark] .colab-df-convert:hover {\n",
              "      background-color: #434B5C;\n",
              "      box-shadow: 0px 1px 3px 1px rgba(0, 0, 0, 0.15);\n",
              "      filter: drop-shadow(0px 1px 2px rgba(0, 0, 0, 0.3));\n",
              "      fill: #FFFFFF;\n",
              "    }\n",
              "  </style>\n",
              "\n",
              "      <script>\n",
              "        const buttonEl =\n",
              "          document.querySelector('#df-b7465021-0262-4968-8f50-086d945a8bb4 button.colab-df-convert');\n",
              "        buttonEl.style.display =\n",
              "          google.colab.kernel.accessAllowed ? 'block' : 'none';\n",
              "\n",
              "        async function convertToInteractive(key) {\n",
              "          const element = document.querySelector('#df-b7465021-0262-4968-8f50-086d945a8bb4');\n",
              "          const dataTable =\n",
              "            await google.colab.kernel.invokeFunction('convertToInteractive',\n",
              "                                                     [key], {});\n",
              "          if (!dataTable) return;\n",
              "\n",
              "          const docLinkHtml = 'Like what you see? Visit the ' +\n",
              "            '<a target=\"_blank\" href=https://colab.research.google.com/notebooks/data_table.ipynb>data table notebook</a>'\n",
              "            + ' to learn more about interactive tables.';\n",
              "          element.innerHTML = '';\n",
              "          dataTable['output_type'] = 'display_data';\n",
              "          await google.colab.output.renderOutput(dataTable, element);\n",
              "          const docLink = document.createElement('div');\n",
              "          docLink.innerHTML = docLinkHtml;\n",
              "          element.appendChild(docLink);\n",
              "        }\n",
              "      </script>\n",
              "    </div>\n",
              "  </div>\n",
              "  "
            ]
          },
          "metadata": {},
          "execution_count": 55
        }
      ],
      "source": [
        "df.describe()"
      ]
    },
    {
      "cell_type": "code",
      "execution_count": 56,
      "metadata": {
        "id": "k72YAYC6VanP"
      },
      "outputs": [],
      "source": [
        "#Drop all the row with empty title columns\n",
        "df = df.dropna()"
      ]
    },
    {
      "cell_type": "code",
      "execution_count": 57,
      "metadata": {
        "colab": {
          "base_uri": "https://localhost:8080/",
          "height": 175
        },
        "id": "PAbEGNj9WTGB",
        "outputId": "2d8d7c07-20da-4c15-917b-53fd2787c361"
      },
      "outputs": [
        {
          "output_type": "execute_result",
          "data": {
            "text/plain": [
              "          title                                               link\n",
              "count       923                                                923\n",
              "unique      923                                                 36\n",
              "top     schemes  https://www.rssb.rw/rssb-embarks-on-a-new-five...\n",
              "freq          1                                                 93"
            ],
            "text/html": [
              "\n",
              "  <div id=\"df-76603848-23dc-47ee-b9ba-042e526a8906\">\n",
              "    <div class=\"colab-df-container\">\n",
              "      <div>\n",
              "<style scoped>\n",
              "    .dataframe tbody tr th:only-of-type {\n",
              "        vertical-align: middle;\n",
              "    }\n",
              "\n",
              "    .dataframe tbody tr th {\n",
              "        vertical-align: top;\n",
              "    }\n",
              "\n",
              "    .dataframe thead th {\n",
              "        text-align: right;\n",
              "    }\n",
              "</style>\n",
              "<table border=\"1\" class=\"dataframe\">\n",
              "  <thead>\n",
              "    <tr style=\"text-align: right;\">\n",
              "      <th></th>\n",
              "      <th>title</th>\n",
              "      <th>link</th>\n",
              "    </tr>\n",
              "  </thead>\n",
              "  <tbody>\n",
              "    <tr>\n",
              "      <th>count</th>\n",
              "      <td>923</td>\n",
              "      <td>923</td>\n",
              "    </tr>\n",
              "    <tr>\n",
              "      <th>unique</th>\n",
              "      <td>923</td>\n",
              "      <td>36</td>\n",
              "    </tr>\n",
              "    <tr>\n",
              "      <th>top</th>\n",
              "      <td>schemes</td>\n",
              "      <td>https://www.rssb.rw/rssb-embarks-on-a-new-five...</td>\n",
              "    </tr>\n",
              "    <tr>\n",
              "      <th>freq</th>\n",
              "      <td>1</td>\n",
              "      <td>93</td>\n",
              "    </tr>\n",
              "  </tbody>\n",
              "</table>\n",
              "</div>\n",
              "      <button class=\"colab-df-convert\" onclick=\"convertToInteractive('df-76603848-23dc-47ee-b9ba-042e526a8906')\"\n",
              "              title=\"Convert this dataframe to an interactive table.\"\n",
              "              style=\"display:none;\">\n",
              "        \n",
              "  <svg xmlns=\"http://www.w3.org/2000/svg\" height=\"24px\"viewBox=\"0 0 24 24\"\n",
              "       width=\"24px\">\n",
              "    <path d=\"M0 0h24v24H0V0z\" fill=\"none\"/>\n",
              "    <path d=\"M18.56 5.44l.94 2.06.94-2.06 2.06-.94-2.06-.94-.94-2.06-.94 2.06-2.06.94zm-11 1L8.5 8.5l.94-2.06 2.06-.94-2.06-.94L8.5 2.5l-.94 2.06-2.06.94zm10 10l.94 2.06.94-2.06 2.06-.94-2.06-.94-.94-2.06-.94 2.06-2.06.94z\"/><path d=\"M17.41 7.96l-1.37-1.37c-.4-.4-.92-.59-1.43-.59-.52 0-1.04.2-1.43.59L10.3 9.45l-7.72 7.72c-.78.78-.78 2.05 0 2.83L4 21.41c.39.39.9.59 1.41.59.51 0 1.02-.2 1.41-.59l7.78-7.78 2.81-2.81c.8-.78.8-2.07 0-2.86zM5.41 20L4 18.59l7.72-7.72 1.47 1.35L5.41 20z\"/>\n",
              "  </svg>\n",
              "      </button>\n",
              "      \n",
              "  <style>\n",
              "    .colab-df-container {\n",
              "      display:flex;\n",
              "      flex-wrap:wrap;\n",
              "      gap: 12px;\n",
              "    }\n",
              "\n",
              "    .colab-df-convert {\n",
              "      background-color: #E8F0FE;\n",
              "      border: none;\n",
              "      border-radius: 50%;\n",
              "      cursor: pointer;\n",
              "      display: none;\n",
              "      fill: #1967D2;\n",
              "      height: 32px;\n",
              "      padding: 0 0 0 0;\n",
              "      width: 32px;\n",
              "    }\n",
              "\n",
              "    .colab-df-convert:hover {\n",
              "      background-color: #E2EBFA;\n",
              "      box-shadow: 0px 1px 2px rgba(60, 64, 67, 0.3), 0px 1px 3px 1px rgba(60, 64, 67, 0.15);\n",
              "      fill: #174EA6;\n",
              "    }\n",
              "\n",
              "    [theme=dark] .colab-df-convert {\n",
              "      background-color: #3B4455;\n",
              "      fill: #D2E3FC;\n",
              "    }\n",
              "\n",
              "    [theme=dark] .colab-df-convert:hover {\n",
              "      background-color: #434B5C;\n",
              "      box-shadow: 0px 1px 3px 1px rgba(0, 0, 0, 0.15);\n",
              "      filter: drop-shadow(0px 1px 2px rgba(0, 0, 0, 0.3));\n",
              "      fill: #FFFFFF;\n",
              "    }\n",
              "  </style>\n",
              "\n",
              "      <script>\n",
              "        const buttonEl =\n",
              "          document.querySelector('#df-76603848-23dc-47ee-b9ba-042e526a8906 button.colab-df-convert');\n",
              "        buttonEl.style.display =\n",
              "          google.colab.kernel.accessAllowed ? 'block' : 'none';\n",
              "\n",
              "        async function convertToInteractive(key) {\n",
              "          const element = document.querySelector('#df-76603848-23dc-47ee-b9ba-042e526a8906');\n",
              "          const dataTable =\n",
              "            await google.colab.kernel.invokeFunction('convertToInteractive',\n",
              "                                                     [key], {});\n",
              "          if (!dataTable) return;\n",
              "\n",
              "          const docLinkHtml = 'Like what you see? Visit the ' +\n",
              "            '<a target=\"_blank\" href=https://colab.research.google.com/notebooks/data_table.ipynb>data table notebook</a>'\n",
              "            + ' to learn more about interactive tables.';\n",
              "          element.innerHTML = '';\n",
              "          dataTable['output_type'] = 'display_data';\n",
              "          await google.colab.output.renderOutput(dataTable, element);\n",
              "          const docLink = document.createElement('div');\n",
              "          docLink.innerHTML = docLinkHtml;\n",
              "          element.appendChild(docLink);\n",
              "        }\n",
              "      </script>\n",
              "    </div>\n",
              "  </div>\n",
              "  "
            ]
          },
          "metadata": {},
          "execution_count": 57
        }
      ],
      "source": [
        "df.describe()"
      ]
    },
    {
      "cell_type": "code",
      "source": [
        "df.drop_duplicates(inplace=True, subset='title')"
      ],
      "metadata": {
        "id": "zH1o1jhncgFA"
      },
      "execution_count": 58,
      "outputs": []
    },
    {
      "cell_type": "code",
      "source": [
        "df.describe()"
      ],
      "metadata": {
        "colab": {
          "base_uri": "https://localhost:8080/",
          "height": 175
        },
        "id": "BsVQ_IWCcr3u",
        "outputId": "4320af1b-d9e1-4729-a623-609df3ee9a92"
      },
      "execution_count": 59,
      "outputs": [
        {
          "output_type": "execute_result",
          "data": {
            "text/plain": [
              "          title                                               link\n",
              "count       923                                                923\n",
              "unique      923                                                 36\n",
              "top     schemes  https://www.rssb.rw/rssb-embarks-on-a-new-five...\n",
              "freq          1                                                 93"
            ],
            "text/html": [
              "\n",
              "  <div id=\"df-30e921bf-903b-4506-b676-5db1c19d5fe0\">\n",
              "    <div class=\"colab-df-container\">\n",
              "      <div>\n",
              "<style scoped>\n",
              "    .dataframe tbody tr th:only-of-type {\n",
              "        vertical-align: middle;\n",
              "    }\n",
              "\n",
              "    .dataframe tbody tr th {\n",
              "        vertical-align: top;\n",
              "    }\n",
              "\n",
              "    .dataframe thead th {\n",
              "        text-align: right;\n",
              "    }\n",
              "</style>\n",
              "<table border=\"1\" class=\"dataframe\">\n",
              "  <thead>\n",
              "    <tr style=\"text-align: right;\">\n",
              "      <th></th>\n",
              "      <th>title</th>\n",
              "      <th>link</th>\n",
              "    </tr>\n",
              "  </thead>\n",
              "  <tbody>\n",
              "    <tr>\n",
              "      <th>count</th>\n",
              "      <td>923</td>\n",
              "      <td>923</td>\n",
              "    </tr>\n",
              "    <tr>\n",
              "      <th>unique</th>\n",
              "      <td>923</td>\n",
              "      <td>36</td>\n",
              "    </tr>\n",
              "    <tr>\n",
              "      <th>top</th>\n",
              "      <td>schemes</td>\n",
              "      <td>https://www.rssb.rw/rssb-embarks-on-a-new-five...</td>\n",
              "    </tr>\n",
              "    <tr>\n",
              "      <th>freq</th>\n",
              "      <td>1</td>\n",
              "      <td>93</td>\n",
              "    </tr>\n",
              "  </tbody>\n",
              "</table>\n",
              "</div>\n",
              "      <button class=\"colab-df-convert\" onclick=\"convertToInteractive('df-30e921bf-903b-4506-b676-5db1c19d5fe0')\"\n",
              "              title=\"Convert this dataframe to an interactive table.\"\n",
              "              style=\"display:none;\">\n",
              "        \n",
              "  <svg xmlns=\"http://www.w3.org/2000/svg\" height=\"24px\"viewBox=\"0 0 24 24\"\n",
              "       width=\"24px\">\n",
              "    <path d=\"M0 0h24v24H0V0z\" fill=\"none\"/>\n",
              "    <path d=\"M18.56 5.44l.94 2.06.94-2.06 2.06-.94-2.06-.94-.94-2.06-.94 2.06-2.06.94zm-11 1L8.5 8.5l.94-2.06 2.06-.94-2.06-.94L8.5 2.5l-.94 2.06-2.06.94zm10 10l.94 2.06.94-2.06 2.06-.94-2.06-.94-.94-2.06-.94 2.06-2.06.94z\"/><path d=\"M17.41 7.96l-1.37-1.37c-.4-.4-.92-.59-1.43-.59-.52 0-1.04.2-1.43.59L10.3 9.45l-7.72 7.72c-.78.78-.78 2.05 0 2.83L4 21.41c.39.39.9.59 1.41.59.51 0 1.02-.2 1.41-.59l7.78-7.78 2.81-2.81c.8-.78.8-2.07 0-2.86zM5.41 20L4 18.59l7.72-7.72 1.47 1.35L5.41 20z\"/>\n",
              "  </svg>\n",
              "      </button>\n",
              "      \n",
              "  <style>\n",
              "    .colab-df-container {\n",
              "      display:flex;\n",
              "      flex-wrap:wrap;\n",
              "      gap: 12px;\n",
              "    }\n",
              "\n",
              "    .colab-df-convert {\n",
              "      background-color: #E8F0FE;\n",
              "      border: none;\n",
              "      border-radius: 50%;\n",
              "      cursor: pointer;\n",
              "      display: none;\n",
              "      fill: #1967D2;\n",
              "      height: 32px;\n",
              "      padding: 0 0 0 0;\n",
              "      width: 32px;\n",
              "    }\n",
              "\n",
              "    .colab-df-convert:hover {\n",
              "      background-color: #E2EBFA;\n",
              "      box-shadow: 0px 1px 2px rgba(60, 64, 67, 0.3), 0px 1px 3px 1px rgba(60, 64, 67, 0.15);\n",
              "      fill: #174EA6;\n",
              "    }\n",
              "\n",
              "    [theme=dark] .colab-df-convert {\n",
              "      background-color: #3B4455;\n",
              "      fill: #D2E3FC;\n",
              "    }\n",
              "\n",
              "    [theme=dark] .colab-df-convert:hover {\n",
              "      background-color: #434B5C;\n",
              "      box-shadow: 0px 1px 3px 1px rgba(0, 0, 0, 0.15);\n",
              "      filter: drop-shadow(0px 1px 2px rgba(0, 0, 0, 0.3));\n",
              "      fill: #FFFFFF;\n",
              "    }\n",
              "  </style>\n",
              "\n",
              "      <script>\n",
              "        const buttonEl =\n",
              "          document.querySelector('#df-30e921bf-903b-4506-b676-5db1c19d5fe0 button.colab-df-convert');\n",
              "        buttonEl.style.display =\n",
              "          google.colab.kernel.accessAllowed ? 'block' : 'none';\n",
              "\n",
              "        async function convertToInteractive(key) {\n",
              "          const element = document.querySelector('#df-30e921bf-903b-4506-b676-5db1c19d5fe0');\n",
              "          const dataTable =\n",
              "            await google.colab.kernel.invokeFunction('convertToInteractive',\n",
              "                                                     [key], {});\n",
              "          if (!dataTable) return;\n",
              "\n",
              "          const docLinkHtml = 'Like what you see? Visit the ' +\n",
              "            '<a target=\"_blank\" href=https://colab.research.google.com/notebooks/data_table.ipynb>data table notebook</a>'\n",
              "            + ' to learn more about interactive tables.';\n",
              "          element.innerHTML = '';\n",
              "          dataTable['output_type'] = 'display_data';\n",
              "          await google.colab.output.renderOutput(dataTable, element);\n",
              "          const docLink = document.createElement('div');\n",
              "          docLink.innerHTML = docLinkHtml;\n",
              "          element.appendChild(docLink);\n",
              "        }\n",
              "      </script>\n",
              "    </div>\n",
              "  </div>\n",
              "  "
            ]
          },
          "metadata": {},
          "execution_count": 59
        }
      ]
    },
    {
      "cell_type": "code",
      "source": [
        "df"
      ],
      "metadata": {
        "id": "y8QOe-6_qcmQ"
      },
      "execution_count": null,
      "outputs": []
    },
    {
      "cell_type": "code",
      "execution_count": 61,
      "metadata": {
        "id": "1NMSJy-EgX4n"
      },
      "outputs": [],
      "source": [
        "#Check whehter the link is full formated link\n",
        "is_full_link = df.link.str.startswith('http')\n",
        "\n",
        "#Check whether the link is pdf documents\n",
        "is_pdf = df.link.str.contains('.pdf')"
      ]
    },
    {
      "cell_type": "code",
      "execution_count": 62,
      "metadata": {
        "id": "lh-8WZIJg8Ls"
      },
      "outputs": [],
      "source": [
        "df['is_full_link'] = is_full_link #Create a new col\n",
        "df['is_pdf'] = is_pdf #create a new col"
      ]
    },
    {
      "cell_type": "code",
      "execution_count": null,
      "metadata": {
        "id": "hvmNgqZUg_oq"
      },
      "outputs": [],
      "source": [
        "df"
      ]
    },
    {
      "cell_type": "code",
      "execution_count": 64,
      "metadata": {
        "id": "YgCLfDp8hASc"
      },
      "outputs": [],
      "source": [
        "# data cleaning in dataframe\n",
        "import re \n",
        "\n",
        "def preprocessing(titles : list):\n",
        "  cleaned_titles = []\n",
        "  for title in titles:\n",
        "    title = summarize_description(title.strip()) # here we are summarizing and removing unwanted data\n",
        "    title = title.lower()\n",
        "    url_pattern = re.compile(r'https?://\\S+|www\\.\\S+')\n",
        "    html_pattern = re.compile('<.*?>')\n",
        "    title = url_pattern.sub(r'', title)\n",
        "    title = html_pattern.sub(r'', title)\n",
        "    title = re.sub(r\"[^\\w\\d'\\s]+\", ' ', title)\n",
        "    cleaned_titles.append(title)\n",
        "  return cleaned_titles\n",
        "\n",
        "\n",
        "df['title'] = preprocessing(df['title'])"
      ]
    },
    {
      "cell_type": "markdown",
      "metadata": {
        "id": "3UwsLdIEi7l1"
      },
      "source": [
        "# Start Building the chatbot"
      ]
    },
    {
      "cell_type": "markdown",
      "metadata": {
        "id": "0lHK5cq3jAFN"
      },
      "source": [
        "## Building the intent file"
      ]
    },
    {
      "cell_type": "code",
      "execution_count": 65,
      "metadata": {
        "id": "6CdqEOSWjAtq"
      },
      "outputs": [],
      "source": [
        "question = \"\"\"Guide me to {}?\n",
        "Where do you get {}?\n",
        "What is the link to the {}?\n",
        "How do you get {}?\n",
        "Who is in Charge of {}?\n",
        "how can I get {}?\n",
        "which way to get {}?\n",
        "I need to get {}?\n",
        "direct me to {}\n",
        "please how can I {}?\n",
        "I need to know more related with {}?\n",
        "how can someone {}?\n",
        "I need direction to {}?\n",
        "{}\"\"\"\n",
        "\n",
        "answers = \"\"\"Here is the link {}.\n",
        "You can use this link {} for more information.\n",
        "thanks for contacting use this {} for more detail.\n",
        "ok try this {} for more information.\n",
        "take a look on this {}.\n",
        "check out on this link {} for more detail.\"\"\""
      ]
    },
    {
      "cell_type": "code",
      "execution_count": 66,
      "metadata": {
        "colab": {
          "base_uri": "https://localhost:8080/"
        },
        "id": "y1DiSG31j434",
        "outputId": "e2f597f4-8297-405a-f703-bdd6d902e6e5"
      },
      "outputs": [
        {
          "output_type": "execute_result",
          "data": {
            "text/plain": [
              "['Here is the link {}.',\n",
              " 'You can use this link {} for more information.',\n",
              " 'thanks for contacting use this {} for more detail.',\n",
              " 'ok try this {} for more information.',\n",
              " 'take a look on this {}.',\n",
              " 'check out on this link {} for more detail.']"
            ]
          },
          "metadata": {},
          "execution_count": 66
        }
      ],
      "source": [
        "answers.split('\\n')"
      ]
    },
    {
      "cell_type": "code",
      "source": [
        "# code for directory permanent\n",
        "# import shutil\n",
        "\n",
        "# shutil.rmtree('/content/pytorch-chatbot')"
      ],
      "metadata": {
        "id": "srHLSjaedFNv"
      },
      "execution_count": 39,
      "outputs": []
    },
    {
      "cell_type": "code",
      "execution_count": 42,
      "metadata": {
        "colab": {
          "base_uri": "https://localhost:8080/"
        },
        "id": "UL33hISdkQQU",
        "outputId": "8161a29e-52e7-45cb-d692-8a8d91be8c85"
      },
      "outputs": [
        {
          "output_type": "stream",
          "name": "stdout",
          "text": [
            "Cloning into 'pytorch-chatbot'...\n",
            "remote: Enumerating objects: 41, done.\u001b[K\n",
            "remote: Counting objects: 100% (18/18), done.\u001b[K\n",
            "remote: Compressing objects: 100% (10/10), done.\u001b[K\n",
            "remote: Total 41 (delta 11), reused 8 (delta 8), pack-reused 23\u001b[K\n",
            "Unpacking objects: 100% (41/41), done.\n"
          ]
        }
      ],
      "source": [
        "!git clone https://github.com/patrickloeber/pytorch-chatbot.git"
      ]
    },
    {
      "cell_type": "code",
      "execution_count": 43,
      "metadata": {
        "id": "_SrD1TmHkUmA"
      },
      "outputs": [],
      "source": [
        "import json\n",
        "with open('/content/pytorch-chatbot/intents.json', 'r') as intent_file:\n",
        "  intents__ = json.load(intent_file)"
      ]
    },
    {
      "cell_type": "code",
      "execution_count": 44,
      "metadata": {
        "id": "5isRBzR0kfiA"
      },
      "outputs": [],
      "source": [
        "greet_intents = []\n",
        "for intet in intents__['intents']:\n",
        "  greet_intents.append(intet)\n"
      ]
    },
    {
      "cell_type": "code",
      "execution_count": 45,
      "metadata": {
        "id": "fvWvewggkhKy"
      },
      "outputs": [],
      "source": [
        "intents = []\n",
        "\n",
        "for index in range(len(df)):\n",
        "  intent = {}\n",
        "  tag = df.iloc[index]['title']\n",
        "  intent['tag'] = tag\n",
        "  intent['patterns'] = list()\n",
        "  intent['responses'] = list()\n",
        "  # intent['responses'] = [f'You can use this link {df.iloc[index].link} for more information']\n",
        "  for i in range(len(question.split('\\n'))):\n",
        "    intent['patterns'].append(question.split('\\n')[i].format(intent['tag']))\n",
        "  for i in range(len(answers.split('\\n'))):\n",
        "    intent['responses'].append(answers.split('\\n')[i].format(df.iloc[index].link))\n",
        "\n",
        "  intents.append(intent)"
      ]
    },
    {
      "cell_type": "code",
      "execution_count": 46,
      "metadata": {
        "id": "gifDqb4Ln-_K"
      },
      "outputs": [],
      "source": [
        "intents.extend(greet_intents)"
      ]
    },
    {
      "cell_type": "code",
      "execution_count": null,
      "metadata": {
        "id": "IrmHOEtQoA1j"
      },
      "outputs": [],
      "source": [
        "file = {'intents': intents}\n",
        "file"
      ]
    },
    {
      "cell_type": "code",
      "execution_count": 46,
      "metadata": {
        "id": "CevR69-9oVTp"
      },
      "outputs": [],
      "source": [
        "import json\n",
        "\n",
        "with open('/content/pytorch-chatbot/intents.json', 'w+') as intent_file:\n",
        "  intent_file.seek(0)\n",
        "  intent_file.truncate()\n",
        "  json.dump(file, intent_file)"
      ]
    },
    {
      "cell_type": "code",
      "execution_count": 47,
      "metadata": {
        "colab": {
          "base_uri": "https://localhost:8080/"
        },
        "id": "0_k_wcfaonLx",
        "outputId": "e5188b51-87c9-4d2c-9e35-036772d8c59c"
      },
      "outputs": [
        {
          "output_type": "stream",
          "name": "stdout",
          "text": [
            "/content/pytorch-chatbot\n"
          ]
        }
      ],
      "source": [
        "%cd pytorch-chatbot/"
      ]
    },
    {
      "cell_type": "code",
      "execution_count": 48,
      "metadata": {
        "colab": {
          "base_uri": "https://localhost:8080/"
        },
        "id": "n3AfJGMXopyp",
        "outputId": "efcff629-7967-4142-f664-001c6c6afbfb"
      },
      "outputs": [
        {
          "output_type": "stream",
          "name": "stderr",
          "text": [
            "[nltk_data] Downloading package punkt to /root/nltk_data...\n",
            "[nltk_data]   Package punkt is already up-to-date!\n"
          ]
        },
        {
          "output_type": "execute_result",
          "data": {
            "text/plain": [
              "True"
            ]
          },
          "metadata": {},
          "execution_count": 48
        }
      ],
      "source": [
        "import nltk \n",
        "nltk.download('punkt')"
      ]
    },
    {
      "cell_type": "code",
      "execution_count": 49,
      "metadata": {
        "colab": {
          "base_uri": "https://localhost:8080/"
        },
        "id": "QnibT1MDow6P",
        "outputId": "6f8b2199-2775-480e-ee10-a660a15c9ca5"
      },
      "outputs": [
        {
          "output_type": "stream",
          "name": "stdout",
          "text": [
            "1566 patterns\n",
            "59 tags: ['', '7 months agorssb remembers former csr employees killed during the 1  rwanda social security board  rssb  has remembered its former employees who were killed during the 1994 genocide against the tutsi  the event was orga  read more  ', 'a month agorssb invests in katapult africa seed fund  nine start u  on friday 4th november 2022  katapult africa officially launched its accelerator program in kigali  rwanda together with its partners  norad   norwegi  read more  ', 'abanyarwanda barakangurirwa kwihutira kwishyura mituweli ya 2020 2021 mu gihe hasigaye  iminsi  24 ngo hatangire umwaka wa mutuelle de santã  wa 2020 2021   imiryango ibihumbi 42 777 niyo yonyine imaze kwishyura umusanzu wâ ubwisungane mu kwivuza  mutuelle de santã    ya 2  7 months ago', 'abanyarwanda barakangurirwa kwihutira kwishyura mituweli ya 2020 2021 mu gihe hasigaye  iminsi  24 ngo hatangire umwaka wa mutuelle de santã  wa 2020 2021   imiryango ibihumbi 42 777 niyo yonyine imaze kwishyura umusanzu wâ ubwisungane mu kwivuza  mutuelle de santã    ya 2  a month ago', 'about', 'announcements', 'apply for employee number', 'b', 'careers', 'check contribution', 'check for your contributions', 'community based health insurance scheme receives financial boost from ahfkigali   may 25th   2022   aids healthcare foundation rwanda  ahf rwanda  handed over a cheque of 133 866 000 frw to rwanda social security board to support community based health insurance  cbhi  sch  7 months ago', 'community based health insurance scheme receives financial boost from ahfkigali   may 25th   2022   aids healthcare foundation rwanda  ahf rwanda  handed over a cheque of 133 866 000 frw to rwanda social security board to support community based health insurance  cbhi  sch  a month ago', 'contact us', 'd', 'delivery', 'employee online service', 'employer login', 'employer online service', 'employer registration', 'funny', 'gallery', 'goodbye', 'greeting', 'h', 'here', 'home', 'i', 'investment', 'items', 'management', 'medical online service', 'n', 'news   events', 'p', 'pay employee contributions', 'payments', 'pension simulator', 'reset your password', 'rssb awards its best employees in customer service deliverythe director general of rssb  regis rugemanshuro on wednesday 4th november  2020 awarded 12 rssb staff with certificates of appreciation in recognition of being outstanding employees in customer servi  7 months ago', 'rssb awards its best employees in customer service deliverythe director general of rssb  regis rugemanshuro on wednesday 4th november  2020 awarded 12 rssb staff with certificates of appreciation in recognition of being outstanding employees in customer servi  a month ago', 'rssb clearance certificate', 'rssb embarks on a new five year strategic journey that envisions transforming rssb into a â member first  data driven  and high performing organizationâ in a bid to transform rssb into a member first  data driven  and high performing organization  rwanda social security board  this fiscal year kicks off with a new elaborate and ambitious five year str  7 months ago', 'rssb embarks on a new five year strategic journey that envisions transforming rssb into a â member first  data driven  and high performing organizationâ in a bid to transform rssb into a member first  data driven  and high performing organization  rwanda social security board  this fiscal year kicks off with a new elaborate and ambitious five year str  a month ago', 'rssb invests in katapult africa seed fund  nine start ups selected for accelerator programon friday 4th november 2022  katapult africa officially launched its accelerator program in kigali  rwanda together with its partners  norad   norwegian agency for development cooperation  tony blair  7 months ago', 'rssb invests in katapult africa seed fund  nine start ups selected for accelerator programon friday 4th november 2022  katapult africa officially launched its accelerator program in kigali  rwanda together with its partners  norad   norwegian agency for development cooperation  tony blair  a month ago', 'rssb remembers former csr employees killed during the 1994 genocide against the tutsirwanda social security board  rssb  has remembered its former employees who were killed during the 1994 genocide against the tutsi  the event was organised as part of the 28th commemoration of the gen  7 months ago', 'rssb remembers former csr employees killed during the 1994 genocide against the tutsirwanda social security board  rssb  has remembered its former employees who were killed during the 1994 genocide against the tutsi  the event was organised as part of the 28th commemoration of the gen  a month ago', 'rssb yibutse abakozi bakoreraga isanduku yâ  ubwiteganyirize bwâ  abakozi yâ u rwanda  csr  bishwe muri genocide yakorewe abatutsi mu 1994kuri uyu wa gatanu tariki 21 05 2021 ubuyobozi nâ abakozi bâ  urwego rwâ igihugu rwâ ubwiteganyirize mu rwanda  rssb  bibutse abakozi 19 bakoreraga isanduku yâ ubwiteganyirize bwâ abakozi mu rwanda  caisse  7 months ago', 'rssb yibutse abakozi bakoreraga isanduku yâ  ubwiteganyirize bwâ  abakozi yâ u rwanda  csr  bishwe muri genocide yakorewe abatutsi mu 1994kuri uyu wa gatanu tariki 21 05 2021 ubuyobozi nâ abakozi bâ  urwego rwâ igihugu rwâ ubwiteganyirize mu rwanda  rssb  bibutse abakozi 19 bakoreraga isanduku yâ ubwiteganyirize bwâ abakozi mu rwanda  caisse  a month ago', 'schemes', 't', 'tenders', 'thanks', 'useful staff contacts', 'v', 'voluntary scheme registration', 'w']\n",
            "299 unique stemmed words: [\"'s\", '000', '05', '1', '12', '133', '19', '1994', '1994kuri', '2', '2020', '2021', '2022', '21', '24', '25th', '28th', '42', '4th', '7', '777', '866', 'a', 'abakozi', 'abanyarwanda', 'abatutsi', 'about', 'acceler', 'accept', 'africa', 'against', 'agenc', 'ago', 'agorssb', 'ahf', 'ahfkigali', 'aid', 'ambiti', 'and', 'announc', 'anyon', 'appli', 'appreci', 'are', 'as', 'award', 'b', 'bakoreraga', 'barakangurirwa', 'base', 'be', 'best', 'bibuts', 'bid', 'bishw', 'blair', 'board', 'boost', 'bwâ', 'bye', 'bâ', 'caiss', 'can', 'card', 'career', 'cash', 'cbhi', 'certif', 'charg', 'check', 'chequ', 'clearanc', 'commemor', 'commun', 'contact', 'contribut', 'cooper', 'credit', 'csr', 'custom', 'd', 'data', 'day', 'de', 'deliveri', 'deliveryth', 'develop', 'direct', 'director', 'do', 'doe', 'driven', 'dure', 'elabor', 'embark', 'employ', 'employe', 'envis', 'event', 'financi', 'first', 'fiscal', 'five', 'for', 'former', 'foundat', 'friday', 'from', 'frw', 'fund', 'funni', 'galleri', 'gatanu', 'gen', 'gener', 'genocid', 'get', 'gihe', 'good', 'goodby', 'guid', 'h', 'ha', 'hand', 'hasigay', 'hatangir', 'have', 'health', 'healthcar', 'hello', 'help', 'here', 'hey', 'hi', 'high', 'home', 'how', 'i', 'ibihumbi', 'igihugu', 'imaz', 'iminsi', 'imiryango', 'in', 'insur', 'into', 'invest', 'is', 'isanduku', 'it', 'item', 'joke', 'journey', 'katapult', 'kick', 'kigali', 'kill', 'kind', 'know', 'kwihutira', 'kwishyura', 'kwivuza', 'later', 'launch', 'link', 'login', 'long', 'lot', 'manag', 'mastercard', 'may', 'me', 'medic', 'member', 'mituw', 'month', 'more', 'mu', 'muri', 'mutuel', 'my', 'n', 'need', 'new', 'news', 'ngo', 'nine', 'niyo', 'norad', 'norwegi', 'norwegian', 'novemb', 'number', 'nâ', 'of', 'off', 'offici', 'on', 'onli', 'onlin', 'orga', 'organ', 'organis', 'organizationâ', 'outstand', 'over', 'p', 'part', 'partner', 'password', 'pay', 'paypal', 'pension', 'perform', 'pleas', 'program', 'programon', 'read', 'receiv', 'recognit', 'regi', 'registr', 'relat', 'rememb', 'reset', 'rssb', 'rugemanshuro', 'rwanda', 'rwâ', 'santã', 'sch', 'scheme', 'secur', 'see', 'seed', 'select', 'sell', 'servi', 'servic', 'ship', 'simul', 'social', 'someon', 'someth', 'staff', 'start', 'str', 'strateg', 'support', 't', 'take', 'tariki', 'tell', 'tender', 'thank', 'that', 'the', 'there', 'thi', 'to', 'togeth', 'toni', 'transform', 'tutsi', 'tutsirwanda', 'u', 'ubuyobozi', 'ubwisungan', 'ubwiteganyir', 'umusanzu', 'umwaka', 'up', 'urwego', 'us', 'use', 'uyu', 'v', 'voluntari', 'w', 'wa', 'way', 'wednesday', 'were', 'what', 'when', 'where', 'which', 'who', 'with', 'wâ', 'ya', 'yakorew', 'year', 'yibuts', 'yonyin', 'you', 'your', 'yâ', 'â']\n",
            "299 59\n",
            "Epoch [100/1000], Loss: 0.0008\n",
            "Epoch [200/1000], Loss: 0.0000\n",
            "Epoch [300/1000], Loss: 0.0000\n",
            "Epoch [400/1000], Loss: 0.0000\n",
            "Epoch [500/1000], Loss: 0.0000\n",
            "Epoch [600/1000], Loss: 0.0000\n",
            "Epoch [700/1000], Loss: 0.1851\n",
            "Epoch [800/1000], Loss: 0.0000\n",
            "Epoch [900/1000], Loss: 0.0000\n",
            "Epoch [1000/1000], Loss: 0.1833\n",
            "final loss: 0.1833\n",
            "training complete. file saved to data.pth\n"
          ]
        }
      ],
      "source": [
        "!python train.py"
      ]
    },
    {
      "cell_type": "code",
      "execution_count": 50,
      "metadata": {
        "colab": {
          "base_uri": "https://localhost:8080/"
        },
        "id": "9EcJFr5oo0oL",
        "outputId": "311a34cd-8d49-43f0-ae27-aaf643036c60"
      },
      "outputs": [
        {
          "output_type": "stream",
          "name": "stdout",
          "text": [
            "Let's chat! (type 'quit' to exit)\n"
          ]
        }
      ],
      "source": [
        "import random\n",
        "import json\n",
        "\n",
        "import torch\n",
        "\n",
        "from model import NeuralNet\n",
        "from nltk_utils import bag_of_words, tokenize\n",
        "\n",
        "device = torch.device('cuda' if torch.cuda.is_available() else 'cpu')\n",
        "\n",
        "with open('intents.json', 'r') as json_data:\n",
        "    intents = json.load(json_data)\n",
        "\n",
        "FILE = \"data.pth\"\n",
        "data = torch.load(FILE)\n",
        "\n",
        "input_size = data[\"input_size\"]\n",
        "hidden_size = data[\"hidden_size\"]\n",
        "output_size = data[\"output_size\"]\n",
        "all_words = data['all_words']\n",
        "tags = data['tags']\n",
        "model_state = data[\"model_state\"]\n",
        "\n",
        "model = NeuralNet(input_size, hidden_size, output_size).to(device)\n",
        "model.load_state_dict(model_state)\n",
        "model.eval()\n",
        "\n",
        "bot_name = \"Oscar\"\n",
        "print(\"Let's chat! (type 'quit' to exit)\")\n",
        "\n",
        "def query(question : str):\n",
        "  # sentence = \"do you use credit cards?\"\n",
        "  sentence = question\n",
        "\n",
        "  sentence = tokenize(sentence)\n",
        "  X = bag_of_words(sentence, all_words)\n",
        "  X = X.reshape(1, X.shape[0])\n",
        "  X = torch.from_numpy(X).to(device)\n",
        "\n",
        "  output = model(X)\n",
        "  _, predicted = torch.max(output, dim=1)\n",
        "\n",
        "  tag = tags[predicted.item()]\n",
        "\n",
        "  probs = torch.softmax(output, dim=1)\n",
        "  prob = probs[0][predicted.item()]\n",
        "  if prob.item() > 0.75:\n",
        "      for intent in intents['intents']:\n",
        "          if tag == intent[\"tag\"]:\n",
        "              return f\"{bot_name}: {random.choice(intent['responses'])}\"\n",
        "  else:\n",
        "      return f\"{bot_name}: I do not understand...\""
      ]
    },
    {
      "cell_type": "code",
      "execution_count": 51,
      "metadata": {
        "id": "HPAcUvEXqa19"
      },
      "outputs": [],
      "source": [
        "response = query('how are you ?')"
      ]
    },
    {
      "cell_type": "code",
      "execution_count": 52,
      "metadata": {
        "id": "eXS_ppU6qh-2",
        "colab": {
          "base_uri": "https://localhost:8080/",
          "height": 36
        },
        "outputId": "f2ce372a-94f6-4db0-f2db-bde73295aa25"
      },
      "outputs": [
        {
          "output_type": "execute_result",
          "data": {
            "text/plain": [
              "'Oscar: Hey :-)'"
            ],
            "application/vnd.google.colaboratory.intrinsic+json": {
              "type": "string"
            }
          },
          "metadata": {},
          "execution_count": 52
        }
      ],
      "source": [
        "response"
      ]
    },
    {
      "cell_type": "code",
      "execution_count": 53,
      "metadata": {
        "id": "Jx-Vpw-cqjDF",
        "colab": {
          "base_uri": "https://localhost:8080/"
        },
        "outputId": "bf46b5ce-6eb7-44a8-9e6c-b6a605c644e6"
      },
      "outputs": [
        {
          "output_type": "stream",
          "name": "stdout",
          "text": [
            "Looking in indexes: https://pypi.org/simple, https://us-python.pkg.dev/colab-wheels/public/simple/\n",
            "Requirement already satisfied: langdetect in /usr/local/lib/python3.8/dist-packages (1.0.9)\n",
            "Requirement already satisfied: six in /usr/local/lib/python3.8/dist-packages (from langdetect) (1.15.0)\n"
          ]
        }
      ],
      "source": [
        "!pip install langdetect"
      ]
    },
    {
      "cell_type": "code",
      "execution_count": 54,
      "metadata": {
        "id": "6oYOqyHWqsbj"
      },
      "outputs": [],
      "source": [
        "\n",
        "import requests\n",
        "import json\n",
        "\n",
        "\n",
        "class translator:\n",
        "    api_url = \"https://translate.googleapis.com/translate_a/single\"\n",
        "    client = \"?client=gtx&dt=t\"\n",
        "    dt = \"&dt=t\"\n",
        "\n",
        "    #fROM English to Kinyarwanda\n",
        "    def translate(text : str , target_lang : str, source_lang : str):\n",
        "        sl = f\"&sl={source_lang}\"\n",
        "        tl = f\"&tl={target_lang}\"\n",
        "        r = requests.get(translator.api_url+ translator.client + translator.dt + sl + tl + \"&q=\" + text)\n",
        "        return json.loads(r.text)[0][0][0]"
      ]
    },
    {
      "cell_type": "code",
      "execution_count": 55,
      "metadata": {
        "id": "csTAAZRUq2h4"
      },
      "outputs": [],
      "source": [
        "resp = translator.translate(text='Mpereza amakuru yerekeye Belise', target_lang='fr', source_lang='rw')"
      ]
    },
    {
      "cell_type": "code",
      "execution_count": 56,
      "metadata": {
        "colab": {
          "base_uri": "https://localhost:8080/",
          "height": 36
        },
        "id": "3TsKr7gqq4Y4",
        "outputId": "45cdd825-ce26-4ad8-d77c-dcca13f86229"
      },
      "outputs": [
        {
          "output_type": "execute_result",
          "data": {
            "text/plain": [
              "'Je recherche des informations sur Belize'"
            ],
            "application/vnd.google.colaboratory.intrinsic+json": {
              "type": "string"
            }
          },
          "metadata": {},
          "execution_count": 56
        }
      ],
      "source": [
        "resp"
      ]
    },
    {
      "cell_type": "code",
      "execution_count": 57,
      "metadata": {
        "id": "yDPOxXDlq64I"
      },
      "outputs": [],
      "source": [
        "from langdetect import detect\n",
        "\n",
        "def process_question(text : str):\n",
        "  if text.lower() == 'hi' or text.lower() == 'hey' or text.lower() == 'how are you' or text.lower() == 'hello':\n",
        "    resp = text.lower()\n",
        "    source_lang = 'en'\n",
        "    return resp, source_lang\n",
        "  else:\n",
        "    source_lang = detect(text)\n",
        "    resp = translator.translate(text=text, target_lang='en', source_lang=source_lang)\n",
        "    return resp, source_lang\n",
        "\n",
        "def process_answer(text : str, source_lang):\n",
        "  resp = translator.translate(text=text, target_lang=source_lang, source_lang='en')\n",
        "  return resp"
      ]
    },
    {
      "cell_type": "code",
      "execution_count": 58,
      "metadata": {
        "colab": {
          "base_uri": "https://localhost:8080/",
          "height": 36
        },
        "id": "zRXcmAr2rPBs",
        "outputId": "c4598527-b884-4f7a-cb54-07002bbfff00"
      },
      "outputs": [
        {
          "output_type": "execute_result",
          "data": {
            "text/plain": [
              "'Oscar: kijk eens op https://www.rssb.rw/management.'"
            ],
            "application/vnd.google.colaboratory.intrinsic+json": {
              "type": "string"
            }
          },
          "metadata": {},
          "execution_count": 58
        }
      ],
      "source": [
        "def process(QUESTION: str):\n",
        "  USER_QUERY, SL = process_question(QUESTION) #Translate the original question into english and store the source lang\n",
        "  RESPONSE = query(USER_QUERY) #Asking th chatbot question\n",
        "  ORIGINAL_RESPONSE = process_answer(RESPONSE, SL)\n",
        "  return ORIGINAL_RESPONSE\n",
        "a = 'SENIOR MANAGEMENT'\n",
        "process(a.lower())"
      ]
    },
    {
      "cell_type": "markdown",
      "metadata": {
        "id": "0Cv4ISuovB22"
      },
      "source": [
        "#FAST API"
      ]
    },
    {
      "cell_type": "code",
      "execution_count": 59,
      "metadata": {
        "id": "ug6nvYdTvCZM",
        "colab": {
          "base_uri": "https://localhost:8080/"
        },
        "outputId": "b81203a2-3f63-4d85-a522-b765428a63be"
      },
      "outputs": [
        {
          "output_type": "stream",
          "name": "stdout",
          "text": [
            "Looking in indexes: https://pypi.org/simple, https://us-python.pkg.dev/colab-wheels/public/simple/\n",
            "Requirement already satisfied: fastapi in /usr/local/lib/python3.8/dist-packages (0.88.0)\n",
            "Requirement already satisfied: pyngrok in /usr/local/lib/python3.8/dist-packages (5.2.1)\n",
            "Requirement already satisfied: uvicorn in /usr/local/lib/python3.8/dist-packages (0.20.0)\n",
            "Requirement already satisfied: nest-asyncio in /usr/local/lib/python3.8/dist-packages (1.5.6)\n",
            "Requirement already satisfied: starlette==0.22.0 in /usr/local/lib/python3.8/dist-packages (from fastapi) (0.22.0)\n",
            "Requirement already satisfied: pydantic!=1.7,!=1.7.1,!=1.7.2,!=1.7.3,!=1.8,!=1.8.1,<2.0.0,>=1.6.2 in /usr/local/lib/python3.8/dist-packages (from fastapi) (1.10.2)\n",
            "Requirement already satisfied: anyio<5,>=3.4.0 in /usr/local/lib/python3.8/dist-packages (from starlette==0.22.0->fastapi) (3.6.2)\n",
            "Requirement already satisfied: typing-extensions>=3.10.0 in /usr/local/lib/python3.8/dist-packages (from starlette==0.22.0->fastapi) (4.4.0)\n",
            "Requirement already satisfied: sniffio>=1.1 in /usr/local/lib/python3.8/dist-packages (from anyio<5,>=3.4.0->starlette==0.22.0->fastapi) (1.3.0)\n",
            "Requirement already satisfied: idna>=2.8 in /usr/local/lib/python3.8/dist-packages (from anyio<5,>=3.4.0->starlette==0.22.0->fastapi) (2.10)\n",
            "Requirement already satisfied: PyYAML in /usr/local/lib/python3.8/dist-packages (from pyngrok) (6.0)\n",
            "Requirement already satisfied: click>=7.0 in /usr/local/lib/python3.8/dist-packages (from uvicorn) (7.1.2)\n",
            "Requirement already satisfied: h11>=0.8 in /usr/local/lib/python3.8/dist-packages (from uvicorn) (0.9.0)\n"
          ]
        }
      ],
      "source": [
        "!pip install fastapi pyngrok uvicorn nest-asyncio"
      ]
    },
    {
      "cell_type": "code",
      "execution_count": 60,
      "metadata": {
        "colab": {
          "base_uri": "https://localhost:8080/"
        },
        "id": "ygyuu4JVvEPT",
        "outputId": "25f96bac-6105-4cd2-92ef-d2b69d44c365"
      },
      "outputs": [
        {
          "output_type": "stream",
          "name": "stdout",
          "text": [
            "Authtoken saved to configuration file: /root/.ngrok2/ngrok.yml\n"
          ]
        }
      ],
      "source": [
        "!ngrok authtoken 2HJTD4eU4nX4kqE0VD1YVDlysnq_4pvNxMFU5pe3Q4ERkSeHP"
      ]
    },
    {
      "cell_type": "code",
      "execution_count": 61,
      "metadata": {
        "id": "QrIK3-VbvMBu"
      },
      "outputs": [],
      "source": [
        "from fastapi import FastAPI, Request\n",
        "from fastapi.responses import HTMLResponse\n",
        "from IPython.core.interactiveshell import asyncio\n",
        "import uvicorn\n",
        "from fastapi.templating import Jinja2Templates\n",
        "from fastapi.staticfiles import StaticFiles\n",
        "from fastapi.middleware.cors import CORSMiddleware\n",
        "import schemas\n",
        "app = FastAPI()\n",
        "origins = [\"*\"]\n",
        "\n",
        "app.add_middleware(\n",
        "    CORSMiddleware,\n",
        "    allow_origins=origins,\n",
        "    allow_credentials=True,\n",
        "    allow_methods=[\"*\"],\n",
        "    allow_headers=[\"*\"],\n",
        ")\n",
        "\n",
        "templates = Jinja2Templates(directory='/content/templates')\n",
        "app.mount(\"/content/static\", StaticFiles(directory=\"/content/static\"), name=\"static\")\n",
        "\n",
        "\n",
        "# storage = FastAPI(title='FASTAPI')\n",
        "# fakeDatabase = {\n",
        "#     1: {'task': \"hello\"},\n",
        "# }\n",
        "\n",
        "@app.get('/', response_class=HTMLResponse)\n",
        "def home(request: Request):\n",
        "    return templates.TemplateResponse(\"base.html\", {\"request\": request})\n",
        "@app.post(\"/predict\")\n",
        "async def predict(item: schemas.Item):\n",
        "    response = process(item.message)\n",
        "    message = {\"answer\": response}\n",
        "    return message\n",
        "\n",
        "\n",
        "\n",
        "# @storage.get('/')\n",
        "# async def index():\n",
        "#   return {\"data\": \"successfully\"}\n",
        "# @storage.get(\"/{lang}\")\n",
        "# async def getItem(lang: str):\n",
        "#   if lang:\n",
        "#     sol = process(lang)\n",
        "#     new_id = len(fakeDatabase.keys()) + 1\n",
        "#     fakeDatabase[new_id] = {'task': sol}\n",
        "#     return fakeDatabase\n",
        "#   else:\n",
        "#     return {\"data\": \"failed\"}\n",
        "\n",
        "  "
      ]
    },
    {
      "cell_type": "code",
      "execution_count": 62,
      "metadata": {
        "colab": {
          "base_uri": "https://localhost:8080/"
        },
        "id": "2vZQw7JovSeF",
        "outputId": "05e7f302-ef04-49db-e7fe-16b73265cd2e"
      },
      "outputs": [
        {
          "output_type": "stream",
          "name": "stderr",
          "text": [
            "INFO:     Started server process [1048]\n",
            "INFO:     Waiting for application startup.\n",
            "INFO:     Application startup complete.\n",
            "INFO:     Uvicorn running on http://127.0.0.1:8000 (Press CTRL+C to quit)\n"
          ]
        },
        {
          "output_type": "stream",
          "name": "stdout",
          "text": [
            "REST API started\n",
            "Your public API URL: http://61d0-34-80-25-154.ngrok.io\n",
            "You can for example open the following URL in your browser: http://61d0-34-80-25-154.ngrok.io?target_lang=en&text=Hallo%20Welt\n",
            "INFO:     2c0f:eb68:203:3c00:341e:a6d7:d482:9c18:0 - \"GET / HTTP/1.1\" 200 OK\n",
            "INFO:     2c0f:eb68:203:3c00:341e:a6d7:d482:9c18:0 - \"GET /images/chatbox-icon.svg HTTP/1.1\" 200 OK\n",
            "INFO:     2c0f:eb68:203:3c00:341e:a6d7:d482:9c18:0 - \"GET /style.css HTTP/1.1\" 200 OK\n",
            "INFO:     2c0f:eb68:203:3c00:341e:a6d7:d482:9c18:0 - \"GET /favicon.ico HTTP/1.1\" 404 Not Found\n",
            "INFO:     2c0f:eb68:203:3c00:341e:a6d7:d482:9c18:0 - \"POST /predict HTTP/1.1\" 200 OK\n",
            "INFO:     2c0f:eb68:203:3c00:341e:a6d7:d482:9c18:0 - \"POST /predict HTTP/1.1\" 200 OK\n",
            "INFO:     2c0f:eb68:203:3c00:341e:a6d7:d482:9c18:0 - \"POST /predict HTTP/1.1\" 200 OK\n",
            "INFO:     2c0f:eb68:203:3c00:341e:a6d7:d482:9c18:0 - \"POST /predict HTTP/1.1\" 200 OK\n"
          ]
        },
        {
          "output_type": "stream",
          "name": "stderr",
          "text": [
            "INFO:     Shutting down\n",
            "INFO:     Waiting for application shutdown.\n",
            "INFO:     Application shutdown complete.\n",
            "INFO:     Finished server process [1048]\n"
          ]
        }
      ],
      "source": [
        "import nest_asyncio\n",
        "from pyngrok import ngrok\n",
        "import uvicorn\n",
        "\n",
        "ngrok_tunnel = ngrok.connect(8000)\n",
        "print(\"REST API started\")\n",
        "print(\"Your public API URL:\", ngrok_tunnel.public_url)\n",
        "print(\"You can for example open the following URL in your browser: {}?target_lang=en&text=Hallo%20Welt\".format(ngrok_tunnel.public_url))\n",
        "\n",
        "nest_asyncio.apply()\n",
        "uvicorn.run(app, port=8000)"
      ]
    },
    {
      "cell_type": "code",
      "execution_count": 62,
      "metadata": {
        "id": "SoFQPG4MxASg"
      },
      "outputs": [],
      "source": []
    }
  ],
  "metadata": {
    "colab": {
      "provenance": [],
      "authorship_tag": "ABX9TyNqheSawcjsYUyb9qPla0Ba",
      "include_colab_link": true
    },
    "kernelspec": {
      "display_name": "Python 3",
      "name": "python3"
    },
    "language_info": {
      "name": "python"
    },
    "accelerator": "GPU",
    "gpuClass": "standard"
  },
  "nbformat": 4,
  "nbformat_minor": 0
}