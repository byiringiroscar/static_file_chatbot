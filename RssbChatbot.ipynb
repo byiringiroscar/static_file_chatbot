{
  "cells": [
    {
      "cell_type": "markdown",
      "metadata": {
        "id": "view-in-github",
        "colab_type": "text"
      },
      "source": [
        "<a href=\"https://colab.research.google.com/github/byiringiroscar/static_file_chatbot/blob/main/RssbChatbot.ipynb\" target=\"_parent\"><img src=\"https://colab.research.google.com/assets/colab-badge.svg\" alt=\"Open In Colab\"/></a>"
      ]
    },
    {
      "cell_type": "code",
      "execution_count": 1,
      "metadata": {
        "id": "htyPfrjINWam"
      },
      "outputs": [],
      "source": [
        "import requests\n",
        "from bs4 import BeautifulSoup\n",
        "import pandas as pd\n",
        "import re"
      ]
    },
    {
      "cell_type": "code",
      "source": [
        "#check trans\n",
        "# !pip install googletrans"
      ],
      "metadata": {
        "id": "HLtF1CBWm3J4"
      },
      "execution_count": 2,
      "outputs": []
    },
    {
      "cell_type": "code",
      "source": [
        "# from googletrans import Translator\n",
        "# translate_word = Translator()\n",
        "# out = translate_word.translate('안녕하세요.', dest=\"en\")\n",
        "# out"
      ],
      "metadata": {
        "id": "cZ7f4TJHnCr4"
      },
      "execution_count": 3,
      "outputs": []
    },
    {
      "cell_type": "code",
      "execution_count": 2,
      "metadata": {
        "id": "vdsCfFMUP0e6"
      },
      "outputs": [],
      "source": [
        "#Fetch the content from the front page\n",
        "url_links = 'https://www.rssb.rw/'\n",
        "content = requests.get(url_links).content"
      ]
    },
    {
      "cell_type": "code",
      "execution_count": null,
      "metadata": {
        "id": "G24OVoqoRUfG"
      },
      "outputs": [],
      "source": [
        "#Preview of the Content\n",
        "content"
      ]
    },
    {
      "cell_type": "code",
      "execution_count": 3,
      "metadata": {
        "id": "kldCdJNIRavd"
      },
      "outputs": [],
      "source": [
        "#Initiating the BS4 parser\n",
        "page = BeautifulSoup(content, 'html.parser')"
      ]
    },
    {
      "cell_type": "markdown",
      "source": [
        "#here we are going to store all content we have on first page"
      ],
      "metadata": {
        "id": "PonrGvnpTsF9"
      }
    },
    {
      "cell_type": "markdown",
      "source": [
        "##  use package of pysummarization to summarize our 'p' content"
      ],
      "metadata": {
        "id": "k3GRc5vmUVU4"
      }
    },
    {
      "cell_type": "code",
      "source": [
        "!pip install pysummarization # installation of package"
      ],
      "metadata": {
        "colab": {
          "base_uri": "https://localhost:8080/"
        },
        "id": "IQxvP2_gUjd3",
        "outputId": "df95f3b9-3bba-4615-fbd8-d083a2803fbd"
      },
      "execution_count": 4,
      "outputs": [
        {
          "output_type": "stream",
          "name": "stdout",
          "text": [
            "Looking in indexes: https://pypi.org/simple, https://us-python.pkg.dev/colab-wheels/public/simple/\n",
            "Collecting pysummarization\n",
            "  Downloading pysummarization-1.1.9.tar.gz (64 kB)\n",
            "\u001b[?25l\r\u001b[K     |█████                           | 10 kB 24.5 MB/s eta 0:00:01\r\u001b[K     |██████████▏                     | 20 kB 15.8 MB/s eta 0:00:01\r\u001b[K     |███████████████▎                | 30 kB 10.6 MB/s eta 0:00:01\r\u001b[K     |████████████████████▍           | 40 kB 4.4 MB/s eta 0:00:01\r\u001b[K     |█████████████████████████▌      | 51 kB 5.0 MB/s eta 0:00:01\r\u001b[K     |██████████████████████████████▋ | 61 kB 5.8 MB/s eta 0:00:01\r\u001b[K     |████████████████████████████████| 64 kB 1.9 MB/s \n",
            "\u001b[?25hRequirement already satisfied: numpy in /usr/local/lib/python3.8/dist-packages (from pysummarization) (1.21.6)\n",
            "Requirement already satisfied: nltk in /usr/local/lib/python3.8/dist-packages (from pysummarization) (3.7)\n",
            "Requirement already satisfied: regex>=2021.8.3 in /usr/local/lib/python3.8/dist-packages (from nltk->pysummarization) (2022.6.2)\n",
            "Requirement already satisfied: joblib in /usr/local/lib/python3.8/dist-packages (from nltk->pysummarization) (1.2.0)\n",
            "Requirement already satisfied: tqdm in /usr/local/lib/python3.8/dist-packages (from nltk->pysummarization) (4.64.1)\n",
            "Requirement already satisfied: click in /usr/local/lib/python3.8/dist-packages (from nltk->pysummarization) (7.1.2)\n",
            "Building wheels for collected packages: pysummarization\n",
            "  Building wheel for pysummarization (setup.py) ... \u001b[?25l\u001b[?25hdone\n",
            "  Created wheel for pysummarization: filename=pysummarization-1.1.9-py3-none-any.whl size=82376 sha256=5a3e676c65313837d2d6936735ff6bcfc61bbc8067f3a19c4a457e9c0d5de3a2\n",
            "  Stored in directory: /root/.cache/pip/wheels/b5/28/29/9bad07ea24d08ecc60fc05419196e0e2506dc1e0eb121b0d31\n",
            "Successfully built pysummarization\n",
            "Installing collected packages: pysummarization\n",
            "Successfully installed pysummarization-1.1.9\n"
          ]
        }
      ]
    },
    {
      "cell_type": "markdown",
      "source": [
        "function to summarize our text by using pysummarization package"
      ],
      "metadata": {
        "id": "CLZumw9GUtIy"
      }
    },
    {
      "cell_type": "code",
      "source": [
        "# here is import which help us to summarize description\n",
        "from pysummarization.nlpbase.auto_abstractor import AutoAbstractor\n",
        "from pysummarization.tokenizabledoc.simple_tokenizer import SimpleTokenizer\n",
        "from pysummarization.abstractabledoc.top_n_rank_abstractor import TopNRankAbstractor\n",
        "# ================ function which help us to summarize word ========================\n",
        "def summarize_description(document):\n",
        "  # Object of automatic summarization.\n",
        "  auto_abstractor = AutoAbstractor()\n",
        "  # Set tokenizer.\n",
        "  auto_abstractor.tokenizable_doc = SimpleTokenizer()\n",
        "  # Set delimiter for making a list of sentence.\n",
        "  auto_abstractor.delimiter_list = [\".\", \"\\n\"]\n",
        "  # Object of abstracting and filtering document.\n",
        "  abstractable_doc = TopNRankAbstractor()\n",
        "  # Summarize document.\n",
        "  result_dict = auto_abstractor.summarize(document, abstractable_doc)\n",
        "  final_text_summarized = ''\n",
        "  # Output result.\n",
        "  for sentence in result_dict[\"summarize_result\"]:\n",
        "      final_text_summarized += sentence\n",
        "  return final_text_summarized"
      ],
      "metadata": {
        "id": "eiqLU29eUvmB"
      },
      "execution_count": 5,
      "outputs": []
    },
    {
      "cell_type": "markdown",
      "source": [
        "get content in our landing page paragraph"
      ],
      "metadata": {
        "id": "BNH_Y2EPYpZ7"
      }
    },
    {
      "cell_type": "code",
      "source": [
        "landing_page_p = page.find_all('p') # p means paragraph\n",
        "landing_page_h = page.find_all('h2') # h means header"
      ],
      "metadata": {
        "id": "_cbcssb3YtsV"
      },
      "execution_count": 7,
      "outputs": []
    },
    {
      "cell_type": "markdown",
      "source": [
        "this function will help us to split our string into to 60 string "
      ],
      "metadata": {
        "id": "QB27CknhZgNz"
      }
    },
    {
      "cell_type": "code",
      "source": [
        "def split_string(page_content):\n",
        "  n = 60\n",
        "  chunks = [page_content[i:i+n] for i in range(0, len(page_content), n)]\n",
        "  return chunks"
      ],
      "metadata": {
        "id": "MogZelfWZogi"
      },
      "execution_count": 8,
      "outputs": []
    },
    {
      "cell_type": "markdown",
      "source": [
        "save data in list with split them and use pysummarization"
      ],
      "metadata": {
        "id": "eu39gBHnamP9"
      }
    },
    {
      "cell_type": "code",
      "source": [
        "# loop the data then save it in list with help \n",
        "page_landing_links_p = [] # links related with first content of page landing p tag\n",
        "page_landing_text_p = [] # content related with first content of page landing p tag\n",
        "for land_page_p in landing_page_p:\n",
        "  p_content = land_page_p.text\n",
        "  split_content_p = split_string(p_content)\n",
        "  for content_p in split_content_p:\n",
        "      new_content_land = summarize_description(content_p) # append content in landing page\n",
        "      if new_content_land not in page_landing_text_p and len(new_content_land) >0:\n",
        "        page_landing_text_p.append(new_content_land)\n",
        "        page_landing_links_p.append(url_links)\n",
        "    "
      ],
      "metadata": {
        "id": "r84KGj_-Y8XM"
      },
      "execution_count": 9,
      "outputs": []
    },
    {
      "cell_type": "code",
      "source": [
        "len(page_landing_text_p)"
      ],
      "metadata": {
        "colab": {
          "base_uri": "https://localhost:8080/"
        },
        "id": "GJckQvzue8sH",
        "outputId": "f1281b68-07e2-4134-c89b-ec2a95681841"
      },
      "execution_count": 10,
      "outputs": [
        {
          "output_type": "execute_result",
          "data": {
            "text/plain": [
              "38"
            ]
          },
          "metadata": {},
          "execution_count": 10
        }
      ]
    },
    {
      "cell_type": "markdown",
      "source": [
        "get content in our landing page header"
      ],
      "metadata": {
        "id": "vZrkRAidca7U"
      }
    },
    {
      "cell_type": "code",
      "source": [
        "# loop the data then save it in list with help \n",
        "page_landing_links_h = [] # links related with first content of page landing h2\n",
        "page_landing_text_h = [] # content related with first content of page landing h2\n",
        "for land_page_p in landing_page_h:\n",
        "  p_content = land_page_p.text\n",
        "  split_content_p = split_string(p_content)\n",
        "  for content_p in split_content_p:\n",
        "    new_content_land = summarize_description(content_p) # append content in landing page\n",
        "    if new_content_land not in page_landing_text_h and len(new_content_land) >0:\n",
        "      page_landing_text_h.append(new_content_land)\n",
        "      page_landing_links_h.append(url_links)"
      ],
      "metadata": {
        "id": "8e6UlWjOcdhU"
      },
      "execution_count": 11,
      "outputs": []
    },
    {
      "cell_type": "code",
      "source": [
        "page_landing_text_h"
      ],
      "metadata": {
        "colab": {
          "base_uri": "https://localhost:8080/"
        },
        "id": "hqCe3zf4fEha",
        "outputId": "07e17a24-6800-4b98-adbf-1e2e1854fd10"
      },
      "execution_count": 13,
      "outputs": [
        {
          "output_type": "execute_result",
          "data": {
            "text/plain": [
              "['Optimistic and forward-looking agent of central government, .\\n',\n",
              " 'working to achieve the financial security and health of all .\\n',\n",
              " 'Digital transformation.\\n']"
            ]
          },
          "metadata": {},
          "execution_count": 13
        }
      ]
    },
    {
      "cell_type": "code",
      "source": [
        "# list for data of p in landing page\n",
        "#list page_landing_links_p # links related with first content of page landing p tag\n",
        "#list page_landing_text_p # content related with first content of page landing p tag\n",
        "# list for data of h2 in landing page\n",
        "#list page_landing_links_h  # links related with first content of page landing h2\n",
        "#list page_landing_text_h # content related with first content of page landing h2"
      ],
      "metadata": {
        "id": "4eDO4O8bcxA5"
      },
      "execution_count": 15,
      "outputs": []
    },
    {
      "cell_type": "code",
      "source": [
        "# extend all list \n",
        "page_landing_text_p.extend(page_landing_text_h)\n",
        "page_landing_links_p.extend(page_landing_links_h)\n",
        "\n"
      ],
      "metadata": {
        "id": "i5bt0pSyd7Yc"
      },
      "execution_count": 14,
      "outputs": []
    },
    {
      "cell_type": "markdown",
      "source": [
        "save our final data for landing page"
      ],
      "metadata": {
        "id": "4eCmDW6ygE8a"
      }
    },
    {
      "cell_type": "code",
      "source": [
        "# final list of data for landing page \n",
        "final_content_landing = page_landing_text_p.copy()\n",
        "final_links_landing = page_landing_links_p.copy()"
      ],
      "metadata": {
        "id": "wxOkbu75flVE"
      },
      "execution_count": 15,
      "outputs": []
    },
    {
      "cell_type": "markdown",
      "source": [
        "get all links in page page landing"
      ],
      "metadata": {
        "id": "0cRayWSHduo3"
      }
    },
    {
      "cell_type": "code",
      "execution_count": 16,
      "metadata": {
        "id": "49zyd2emReMn"
      },
      "outputs": [],
      "source": [
        "#Get all the links in the website\n",
        "links = page.find_all('a')"
      ]
    },
    {
      "cell_type": "code",
      "execution_count": 17,
      "metadata": {
        "colab": {
          "base_uri": "https://localhost:8080/"
        },
        "id": "jdiZqFd9SDOm",
        "outputId": "835bf22e-e42b-4a80-f7ea-3e532a527624"
      },
      "outputs": [
        {
          "output_type": "execute_result",
          "data": {
            "text/plain": [
              "35"
            ]
          },
          "metadata": {},
          "execution_count": 17
        }
      ],
      "source": [
        "len(links)"
      ]
    },
    {
      "cell_type": "markdown",
      "source": [
        "loop to all links then get text on it and link it's self"
      ],
      "metadata": {
        "id": "XjpEpwODiKYi"
      }
    },
    {
      "cell_type": "code",
      "execution_count": 18,
      "metadata": {
        "id": "l4sW0QyqRjuH"
      },
      "outputs": [],
      "source": [
        "# main links fetching and main titles\n",
        "list_of_links = [] #list()\n",
        "list_of_titles = []\n",
        "\n",
        "for item in links: #loop over the list of links\n",
        "  if not str(item['href']) == '/':\n",
        "    if len(item.text) > 0:\n",
        "        if not item['href'].endswith('docx') and not item['href'].endswith('pdf') and not item['href'].endswith('xl') and not item['href'].endswith('xlsx') and not item['href'].endswith('html') and not item['href'].endswith('gov') and not item['href'].endswith('doc') and not item['href'].endswith('zip') and not item['href'].endswith('mdb') and not item['href'].endswith('xls'):\n",
        "          if str(item['href']).startswith('http'):\n",
        "            if bool(re.search('rssb', str(item['href']))):\n",
        "              if item.text not in list_of_titles and len(item.text)>0:\n",
        "                lin = str(item['href'])\n",
        "                list_of_links.append(lin)\n",
        "                list_of_titles.append(item.text)\n",
        "              \n",
        "          else:\n",
        "            if item.text not in list_of_titles and len(item.text)>0:\n",
        "              lin = str(item['href'])\n",
        "              domain = 'https://www.rssb.rw' + lin\n",
        "              list_of_links.append(domain)\n",
        "              list_of_titles.append(item.text)\n",
        "    \n",
        "    \n",
        "\n",
        "  \n",
        "  "
      ]
    },
    {
      "cell_type": "markdown",
      "source": [
        "get all links in each link and content on it"
      ],
      "metadata": {
        "id": "OLbiE_Gnidso"
      }
    },
    {
      "cell_type": "code",
      "execution_count": 19,
      "metadata": {
        "id": "_iHEuWhCx_I-"
      },
      "outputs": [],
      "source": [
        "# take every link then go inside then get all links associated with it\n",
        "def get_individual_link(fina_l): \n",
        "  try:\n",
        "    if not fina_l.endswith('docx') and not fina_l.endswith('pdf') and not fina_l.endswith('xl') and not fina_l.endswith('xlsx') and not fina_l.endswith('html') and not fina_l.endswith('gov') and not fina_l.endswith('doc') and not fina_l.endswith('zip') and not fina_l.endswith('mdb') and not fina_l.endswith('xls'):\n",
        "      content_individual_link = requests.get(fina_l).content # get content for each link\n",
        "      page_individual_link = BeautifulSoup(content_individual_link, 'html.parser', from_encoding=\"iso-8859-1\")\n",
        "      final_link_individual = page_individual_link.findAll('a')\n",
        "      for links_ind in final_link_individual:\n",
        "        if not str(links_ind['href']) == '/':\n",
        "          if len(links_ind.text) > 0:\n",
        "            if str(links_ind['href']).startswith('http'):\n",
        "              if bool(re.search('rssb', str(links_ind['href']))):\n",
        "                if not links_ind['href'].endswith('docx') and not links_ind['href'].endswith('pdf') and not links_ind['href'].endswith('xl') and not links_ind['href'].endswith('xlsx') and not links_ind['href'].endswith('html') and not links_ind['href'].endswith('gov') and not links_ind['href'].endswith('doc') and not links_ind['href'].endswith('zip') and not links_ind['href'].endswith('mdb') and not links_ind['href'].endswith('xls'):\n",
        "                  if links_ind.text not in list_of_titles and len(links_ind.text) > 0:\n",
        "                    lin = str(links_ind['href'])\n",
        "                    list_of_links.append(lin)\n",
        "                    list_of_titles.append(links_ind.text)\n",
        "            else:\n",
        "              if links_ind.text not in list_of_titles and len(links_ind.text) > 0:\n",
        "                lin = str(links_ind['href'])\n",
        "                domain = 'https://www.rssb.rw' + lin\n",
        "                list_of_links.append(domain)\n",
        "                list_of_titles.append(links_ind.text)\n",
        "  except:\n",
        "    pass\n",
        "\n"
      ]
    },
    {
      "cell_type": "code",
      "execution_count": 20,
      "metadata": {
        "id": "Mxjd5DZa4S0L"
      },
      "outputs": [],
      "source": [
        "for i in range(len(list_of_links)):\n",
        "  fina_links = list_of_links[i]\n",
        "  fin_li_official = get_individual_link(fina_links)"
      ]
    },
    {
      "cell_type": "code",
      "source": [
        "len(list_of_titles)"
      ],
      "metadata": {
        "colab": {
          "base_uri": "https://localhost:8080/"
        },
        "id": "5IYNMLRKLDU9",
        "outputId": "e7ab8801-8def-46de-8d75-8b516e58b55a"
      },
      "execution_count": 21,
      "outputs": [
        {
          "output_type": "execute_result",
          "data": {
            "text/plain": [
              "57"
            ]
          },
          "metadata": {},
          "execution_count": 21
        }
      ]
    },
    {
      "cell_type": "code",
      "source": [
        "# import re\n",
        "# real_link = []\n",
        "# for lin in list_of_links:\n",
        "#   if bool(re.search('rssb', lin)):\n",
        "#     if not lin.endswith('docx') and not lin.endswith('pdf') and not lin.endswith('xl') and not lin.endswith('xlsx') and not lin.endswith('html') and not lin.endswith('gov') and not lin.endswith('doc') and not lin.endswith('zip') and not lin.endswith('mdb') and not lin.endswith('xls'):\n",
        "#       real_link.append(lin)\n",
        "\n",
        "\n",
        "\n"
      ],
      "metadata": {
        "id": "I-ZmgzjRWv_0"
      },
      "execution_count": 24,
      "outputs": []
    },
    {
      "cell_type": "code",
      "source": [
        "# len(real_link)"
      ],
      "metadata": {
        "id": "jFpStdvGGaH0"
      },
      "execution_count": 25,
      "outputs": []
    },
    {
      "cell_type": "code",
      "source": [
        "# remove duplicate in order to see all rssb what content inside then append it in list called list_of_links\n",
        "# real_link = list(set(list_of_links))\n",
        "# len(real_link)"
      ],
      "metadata": {
        "id": "Vfj7aBuYZLZr"
      },
      "execution_count": 26,
      "outputs": []
    },
    {
      "cell_type": "code",
      "source": [
        "def get_content_link_rssb_links(link_rssb):\n",
        "  try:\n",
        "      content_rssb = requests.get(link_rssb).content\n",
        "      page_rssb = BeautifulSoup(content_rssb, 'html.parser')\n",
        "      links_rssb = page_rssb.find_all('p')\n",
        "      links_rssb_h_tag = page_rssb.find_all('h2')\n",
        "      if len(links_rssb) > 0:\n",
        "        for links_rssb in links_rssb:\n",
        "          links_rssb = links_rssb.text\n",
        "          new_list_content = split_string(links_rssb)\n",
        "          for new_cont in new_list_content:\n",
        "            if new_cont not in list_of_titles and len(new_cont)> 0:\n",
        "              list_of_titles.append(new_cont)\n",
        "              list_of_links.append(link_rssb)\n",
        "      if len(links_rssb_h_tag) > 0:\n",
        "        for links_rssb_h_tag in links_rssb_h_tag:\n",
        "          if links_rssb_h_tag.text not in list_of_titles:\n",
        "            content_header = links_rssb_h_tag.text.strip()\n",
        "            list_of_titles.append(content_header)\n",
        "            list_of_links.append(link_rssb)\n",
        "  except:\n",
        "    pass"
      ],
      "metadata": {
        "id": "XzY8RxJjHKcj"
      },
      "execution_count": 22,
      "outputs": []
    },
    {
      "cell_type": "code",
      "source": [
        "for index, lin_rssb in enumerate(list_of_links):\n",
        "    try:\n",
        "      get_content_link_rssb_links(lin_rssb)\n",
        "    except:\n",
        "      pass\n"
      ],
      "metadata": {
        "id": "SEq13LtgOJGH"
      },
      "execution_count": 23,
      "outputs": []
    },
    {
      "cell_type": "code",
      "source": [
        "\n",
        "len(list_of_titles)\n",
        "len(list_of_links)"
      ],
      "metadata": {
        "colab": {
          "base_uri": "https://localhost:8080/"
        },
        "id": "LrobAWMpInGF",
        "outputId": "2807d224-3074-4dbc-9e62-262f3f46e835"
      },
      "execution_count": 25,
      "outputs": [
        {
          "output_type": "execute_result",
          "data": {
            "text/plain": [
              "882"
            ]
          },
          "metadata": {},
          "execution_count": 25
        }
      ]
    },
    {
      "cell_type": "code",
      "source": [
        "print(len(final_content_landing))\n",
        "print(len(final_links_landing)) "
      ],
      "metadata": {
        "colab": {
          "base_uri": "https://localhost:8080/"
        },
        "id": "9CQtpG2ziUe9",
        "outputId": "fbc339cb-3e3e-4d32-a396-ae659977f23e"
      },
      "execution_count": 26,
      "outputs": [
        {
          "output_type": "stream",
          "name": "stdout",
          "text": [
            "44\n",
            "44\n"
          ]
        }
      ]
    },
    {
      "cell_type": "markdown",
      "source": [
        "extend these list of all data and data from our landing page"
      ],
      "metadata": {
        "id": "GCRJAptSnxDi"
      }
    },
    {
      "cell_type": "code",
      "source": [
        "list_of_titles.extend(final_content_landing)\n",
        "list_of_links.extend(final_links_landing)"
      ],
      "metadata": {
        "id": "cbkNhmzCn48r"
      },
      "execution_count": 27,
      "outputs": []
    },
    {
      "cell_type": "code",
      "source": [
        "len(list_of_titles)\n",
        "len(list_of_links)"
      ],
      "metadata": {
        "colab": {
          "base_uri": "https://localhost:8080/"
        },
        "id": "MKVOX9CWoC_J",
        "outputId": "45a494b8-af34-4616-e044-1a88c4046732"
      },
      "execution_count": 28,
      "outputs": [
        {
          "output_type": "execute_result",
          "data": {
            "text/plain": [
              "926"
            ]
          },
          "metadata": {},
          "execution_count": 28
        }
      ]
    },
    {
      "cell_type": "code",
      "execution_count": 29,
      "metadata": {
        "id": "UxaG2V0r5gEq"
      },
      "outputs": [],
      "source": [
        "df = pd.DataFrame()\n",
        "df['title'] = list_of_titles\n",
        "df['link'] = list_of_links"
      ]
    },
    {
      "cell_type": "code",
      "execution_count": null,
      "metadata": {
        "id": "952XIE29-vMG"
      },
      "outputs": [],
      "source": [
        "df.describe()"
      ]
    },
    {
      "cell_type": "code",
      "execution_count": 56,
      "metadata": {
        "id": "k72YAYC6VanP"
      },
      "outputs": [],
      "source": [
        "#Drop all the row with empty title columns\n",
        "df = df.dropna()"
      ]
    },
    {
      "cell_type": "code",
      "execution_count": null,
      "metadata": {
        "id": "PAbEGNj9WTGB"
      },
      "outputs": [],
      "source": [
        "df.describe()"
      ]
    },
    {
      "cell_type": "code",
      "source": [
        "df.drop_duplicates(inplace=True, subset='title')"
      ],
      "metadata": {
        "id": "zH1o1jhncgFA"
      },
      "execution_count": 58,
      "outputs": []
    },
    {
      "cell_type": "code",
      "source": [
        "df.describe()"
      ],
      "metadata": {
        "colab": {
          "base_uri": "https://localhost:8080/",
          "height": 175
        },
        "id": "BsVQ_IWCcr3u",
        "outputId": "4320af1b-d9e1-4729-a623-609df3ee9a92"
      },
      "execution_count": 59,
      "outputs": [
        {
          "output_type": "execute_result",
          "data": {
            "text/plain": [
              "          title                                               link\n",
              "count       923                                                923\n",
              "unique      923                                                 36\n",
              "top     schemes  https://www.rssb.rw/rssb-embarks-on-a-new-five...\n",
              "freq          1                                                 93"
            ],
            "text/html": [
              "\n",
              "  <div id=\"df-30e921bf-903b-4506-b676-5db1c19d5fe0\">\n",
              "    <div class=\"colab-df-container\">\n",
              "      <div>\n",
              "<style scoped>\n",
              "    .dataframe tbody tr th:only-of-type {\n",
              "        vertical-align: middle;\n",
              "    }\n",
              "\n",
              "    .dataframe tbody tr th {\n",
              "        vertical-align: top;\n",
              "    }\n",
              "\n",
              "    .dataframe thead th {\n",
              "        text-align: right;\n",
              "    }\n",
              "</style>\n",
              "<table border=\"1\" class=\"dataframe\">\n",
              "  <thead>\n",
              "    <tr style=\"text-align: right;\">\n",
              "      <th></th>\n",
              "      <th>title</th>\n",
              "      <th>link</th>\n",
              "    </tr>\n",
              "  </thead>\n",
              "  <tbody>\n",
              "    <tr>\n",
              "      <th>count</th>\n",
              "      <td>923</td>\n",
              "      <td>923</td>\n",
              "    </tr>\n",
              "    <tr>\n",
              "      <th>unique</th>\n",
              "      <td>923</td>\n",
              "      <td>36</td>\n",
              "    </tr>\n",
              "    <tr>\n",
              "      <th>top</th>\n",
              "      <td>schemes</td>\n",
              "      <td>https://www.rssb.rw/rssb-embarks-on-a-new-five...</td>\n",
              "    </tr>\n",
              "    <tr>\n",
              "      <th>freq</th>\n",
              "      <td>1</td>\n",
              "      <td>93</td>\n",
              "    </tr>\n",
              "  </tbody>\n",
              "</table>\n",
              "</div>\n",
              "      <button class=\"colab-df-convert\" onclick=\"convertToInteractive('df-30e921bf-903b-4506-b676-5db1c19d5fe0')\"\n",
              "              title=\"Convert this dataframe to an interactive table.\"\n",
              "              style=\"display:none;\">\n",
              "        \n",
              "  <svg xmlns=\"http://www.w3.org/2000/svg\" height=\"24px\"viewBox=\"0 0 24 24\"\n",
              "       width=\"24px\">\n",
              "    <path d=\"M0 0h24v24H0V0z\" fill=\"none\"/>\n",
              "    <path d=\"M18.56 5.44l.94 2.06.94-2.06 2.06-.94-2.06-.94-.94-2.06-.94 2.06-2.06.94zm-11 1L8.5 8.5l.94-2.06 2.06-.94-2.06-.94L8.5 2.5l-.94 2.06-2.06.94zm10 10l.94 2.06.94-2.06 2.06-.94-2.06-.94-.94-2.06-.94 2.06-2.06.94z\"/><path d=\"M17.41 7.96l-1.37-1.37c-.4-.4-.92-.59-1.43-.59-.52 0-1.04.2-1.43.59L10.3 9.45l-7.72 7.72c-.78.78-.78 2.05 0 2.83L4 21.41c.39.39.9.59 1.41.59.51 0 1.02-.2 1.41-.59l7.78-7.78 2.81-2.81c.8-.78.8-2.07 0-2.86zM5.41 20L4 18.59l7.72-7.72 1.47 1.35L5.41 20z\"/>\n",
              "  </svg>\n",
              "      </button>\n",
              "      \n",
              "  <style>\n",
              "    .colab-df-container {\n",
              "      display:flex;\n",
              "      flex-wrap:wrap;\n",
              "      gap: 12px;\n",
              "    }\n",
              "\n",
              "    .colab-df-convert {\n",
              "      background-color: #E8F0FE;\n",
              "      border: none;\n",
              "      border-radius: 50%;\n",
              "      cursor: pointer;\n",
              "      display: none;\n",
              "      fill: #1967D2;\n",
              "      height: 32px;\n",
              "      padding: 0 0 0 0;\n",
              "      width: 32px;\n",
              "    }\n",
              "\n",
              "    .colab-df-convert:hover {\n",
              "      background-color: #E2EBFA;\n",
              "      box-shadow: 0px 1px 2px rgba(60, 64, 67, 0.3), 0px 1px 3px 1px rgba(60, 64, 67, 0.15);\n",
              "      fill: #174EA6;\n",
              "    }\n",
              "\n",
              "    [theme=dark] .colab-df-convert {\n",
              "      background-color: #3B4455;\n",
              "      fill: #D2E3FC;\n",
              "    }\n",
              "\n",
              "    [theme=dark] .colab-df-convert:hover {\n",
              "      background-color: #434B5C;\n",
              "      box-shadow: 0px 1px 3px 1px rgba(0, 0, 0, 0.15);\n",
              "      filter: drop-shadow(0px 1px 2px rgba(0, 0, 0, 0.3));\n",
              "      fill: #FFFFFF;\n",
              "    }\n",
              "  </style>\n",
              "\n",
              "      <script>\n",
              "        const buttonEl =\n",
              "          document.querySelector('#df-30e921bf-903b-4506-b676-5db1c19d5fe0 button.colab-df-convert');\n",
              "        buttonEl.style.display =\n",
              "          google.colab.kernel.accessAllowed ? 'block' : 'none';\n",
              "\n",
              "        async function convertToInteractive(key) {\n",
              "          const element = document.querySelector('#df-30e921bf-903b-4506-b676-5db1c19d5fe0');\n",
              "          const dataTable =\n",
              "            await google.colab.kernel.invokeFunction('convertToInteractive',\n",
              "                                                     [key], {});\n",
              "          if (!dataTable) return;\n",
              "\n",
              "          const docLinkHtml = 'Like what you see? Visit the ' +\n",
              "            '<a target=\"_blank\" href=https://colab.research.google.com/notebooks/data_table.ipynb>data table notebook</a>'\n",
              "            + ' to learn more about interactive tables.';\n",
              "          element.innerHTML = '';\n",
              "          dataTable['output_type'] = 'display_data';\n",
              "          await google.colab.output.renderOutput(dataTable, element);\n",
              "          const docLink = document.createElement('div');\n",
              "          docLink.innerHTML = docLinkHtml;\n",
              "          element.appendChild(docLink);\n",
              "        }\n",
              "      </script>\n",
              "    </div>\n",
              "  </div>\n",
              "  "
            ]
          },
          "metadata": {},
          "execution_count": 59
        }
      ]
    },
    {
      "cell_type": "code",
      "source": [
        "df"
      ],
      "metadata": {
        "id": "y8QOe-6_qcmQ"
      },
      "execution_count": null,
      "outputs": []
    },
    {
      "cell_type": "code",
      "execution_count": 33,
      "metadata": {
        "id": "1NMSJy-EgX4n"
      },
      "outputs": [],
      "source": [
        "#Check whehter the link is full formated link\n",
        "is_full_link = df.link.str.startswith('http')\n",
        "\n",
        "#Check whether the link is pdf documents\n",
        "is_pdf = df.link.str.contains('.pdf')"
      ]
    },
    {
      "cell_type": "code",
      "execution_count": 34,
      "metadata": {
        "id": "lh-8WZIJg8Ls"
      },
      "outputs": [],
      "source": [
        "df['is_full_link'] = is_full_link #Create a new col\n",
        "df['is_pdf'] = is_pdf #create a new col"
      ]
    },
    {
      "cell_type": "code",
      "execution_count": null,
      "metadata": {
        "id": "hvmNgqZUg_oq"
      },
      "outputs": [],
      "source": [
        "df"
      ]
    },
    {
      "cell_type": "code",
      "execution_count": 35,
      "metadata": {
        "id": "YgCLfDp8hASc"
      },
      "outputs": [],
      "source": [
        "# data cleaning in dataframe\n",
        "import re \n",
        "\n",
        "def preprocessing(titles : list):\n",
        "  cleaned_titles = []\n",
        "  for title in titles:\n",
        "    title = summarize_description(title.strip()) # here we are summarizing and removing unwanted data\n",
        "    title = title.lower()\n",
        "    url_pattern = re.compile(r'https?://\\S+|www\\.\\S+')\n",
        "    html_pattern = re.compile('<.*?>')\n",
        "    title = url_pattern.sub(r'', title)\n",
        "    title = html_pattern.sub(r'', title)\n",
        "    title = re.sub(r\"[^\\w\\d'\\s]+\", ' ', title)\n",
        "    cleaned_titles.append(title)\n",
        "  return cleaned_titles\n",
        "\n",
        "\n",
        "df['title'] = preprocessing(df['title'])"
      ]
    },
    {
      "cell_type": "markdown",
      "metadata": {
        "id": "3UwsLdIEi7l1"
      },
      "source": [
        "# Start Building the chatbot"
      ]
    },
    {
      "cell_type": "markdown",
      "metadata": {
        "id": "0lHK5cq3jAFN"
      },
      "source": [
        "## Building the intent file"
      ]
    },
    {
      "cell_type": "code",
      "execution_count": 88,
      "metadata": {
        "id": "6CdqEOSWjAtq"
      },
      "outputs": [],
      "source": [
        "question = \"\"\"Guide me to {}?\n",
        "Where do you get {}?\n",
        "what about {}?\n",
        "how is it {}?\n",
        "What is the link to the {}?\n",
        "How do you get {}?\n",
        "Who is in Charge of {}?\n",
        "how can I get {}?\n",
        "which way to get {}?\n",
        "I need to get {}?\n",
        "direct me to {}\n",
        "please how can I {}?\n",
        "I need to know more related with {}?\n",
        "how can someone {}?\n",
        "I need direction to {}?\n",
        "{}\"\"\"\n",
        "\n",
        "answers = \"\"\"Here is the link {}.\n",
        "You can use this link {} for more information.\n",
        "thanks for contacting use this {} for more detail.\n",
        "ok try this {} for more information.\n",
        "take a look on this {}.\n",
        "check out on this link {} for more detail.\"\"\""
      ]
    },
    {
      "cell_type": "code",
      "execution_count": 37,
      "metadata": {
        "colab": {
          "base_uri": "https://localhost:8080/"
        },
        "id": "y1DiSG31j434",
        "outputId": "5fe44b77-4e4a-4b11-b1a1-0a125b2ce11c"
      },
      "outputs": [
        {
          "output_type": "execute_result",
          "data": {
            "text/plain": [
              "['Here is the link {}.',\n",
              " 'You can use this link {} for more information.',\n",
              " 'thanks for contacting use this {} for more detail.',\n",
              " 'ok try this {} for more information.',\n",
              " 'take a look on this {}.',\n",
              " 'check out on this link {} for more detail.']"
            ]
          },
          "metadata": {},
          "execution_count": 37
        }
      ],
      "source": [
        "answers.split('\\n')"
      ]
    },
    {
      "cell_type": "code",
      "source": [
        "# code for directory permanent\n",
        "# import shutil\n",
        "\n",
        "# shutil.rmtree('/content/pytorch-chatbot')"
      ],
      "metadata": {
        "id": "srHLSjaedFNv"
      },
      "execution_count": 39,
      "outputs": []
    },
    {
      "cell_type": "code",
      "execution_count": 38,
      "metadata": {
        "colab": {
          "base_uri": "https://localhost:8080/"
        },
        "id": "UL33hISdkQQU",
        "outputId": "2a143eab-8f12-47bb-c0e1-4b66bd475d30"
      },
      "outputs": [
        {
          "output_type": "stream",
          "name": "stdout",
          "text": [
            "Cloning into 'pytorch-chatbot'...\n",
            "remote: Enumerating objects: 41, done.\u001b[K\n",
            "remote: Counting objects: 100% (18/18), done.\u001b[K\n",
            "remote: Compressing objects: 100% (10/10), done.\u001b[K\n",
            "remote: Total 41 (delta 11), reused 8 (delta 8), pack-reused 23\u001b[K\n",
            "Unpacking objects: 100% (41/41), done.\n"
          ]
        }
      ],
      "source": [
        "!git clone https://github.com/patrickloeber/pytorch-chatbot.git"
      ]
    },
    {
      "cell_type": "code",
      "execution_count": 39,
      "metadata": {
        "id": "_SrD1TmHkUmA"
      },
      "outputs": [],
      "source": [
        "import json\n",
        "with open('/content/pytorch-chatbot/intents.json', 'r') as intent_file:\n",
        "  intents__ = json.load(intent_file)"
      ]
    },
    {
      "cell_type": "code",
      "execution_count": 40,
      "metadata": {
        "id": "5isRBzR0kfiA"
      },
      "outputs": [],
      "source": [
        "greet_intents = []\n",
        "for intet in intents__['intents']:\n",
        "  greet_intents.append(intet)\n"
      ]
    },
    {
      "cell_type": "markdown",
      "source": [
        "save data in intents in order to be used in bow and tokenization and even our model"
      ],
      "metadata": {
        "id": "Lb4dH5QMgVeY"
      }
    },
    {
      "cell_type": "code",
      "execution_count": 41,
      "metadata": {
        "id": "fvWvewggkhKy"
      },
      "outputs": [],
      "source": [
        "intents = []\n",
        "\n",
        "for index in range(len(df)):\n",
        "  intent = {}\n",
        "  tag = df.iloc[index]['title']\n",
        "  intent['tag'] = tag\n",
        "  intent['patterns'] = list()\n",
        "  intent['responses'] = list()\n",
        "  # intent['responses'] = [f'You can use this link {df.iloc[index].link} for more information']\n",
        "  for i in range(len(question.split('\\n'))):\n",
        "    intent['patterns'].append(question.split('\\n')[i].format(intent['tag']))\n",
        "  for i in range(len(answers.split('\\n'))):\n",
        "    intent['responses'].append(answers.split('\\n')[i].format(df.iloc[index].link))\n",
        "\n",
        "  intents.append(intent)"
      ]
    },
    {
      "cell_type": "code",
      "execution_count": 42,
      "metadata": {
        "id": "gifDqb4Ln-_K"
      },
      "outputs": [],
      "source": [
        "intents.extend(greet_intents)"
      ]
    },
    {
      "cell_type": "code",
      "execution_count": null,
      "metadata": {
        "id": "IrmHOEtQoA1j"
      },
      "outputs": [],
      "source": [
        "file = {'intents': intents}\n",
        "file"
      ]
    },
    {
      "cell_type": "code",
      "execution_count": 44,
      "metadata": {
        "id": "CevR69-9oVTp"
      },
      "outputs": [],
      "source": [
        "import json\n",
        "\n",
        "with open('/content/pytorch-chatbot/intents.json', 'w+') as intent_file:\n",
        "  intent_file.seek(0)\n",
        "  intent_file.truncate()\n",
        "  json.dump(file, intent_file)"
      ]
    },
    {
      "cell_type": "code",
      "execution_count": 45,
      "metadata": {
        "colab": {
          "base_uri": "https://localhost:8080/"
        },
        "id": "0_k_wcfaonLx",
        "outputId": "2df09da5-a92c-4593-c0d3-12fd5f407eb6"
      },
      "outputs": [
        {
          "output_type": "stream",
          "name": "stdout",
          "text": [
            "/content/pytorch-chatbot\n"
          ]
        }
      ],
      "source": [
        "%cd pytorch-chatbot/"
      ]
    },
    {
      "cell_type": "code",
      "execution_count": 46,
      "metadata": {
        "colab": {
          "base_uri": "https://localhost:8080/"
        },
        "id": "n3AfJGMXopyp",
        "outputId": "a6aa0838-c3e7-4fea-ffbc-bd5faa59244a"
      },
      "outputs": [
        {
          "output_type": "stream",
          "name": "stderr",
          "text": [
            "[nltk_data] Downloading package punkt to /root/nltk_data...\n",
            "[nltk_data]   Unzipping tokenizers/punkt.zip.\n"
          ]
        },
        {
          "output_type": "execute_result",
          "data": {
            "text/plain": [
              "True"
            ]
          },
          "metadata": {},
          "execution_count": 46
        }
      ],
      "source": [
        "import nltk \n",
        "nltk.download('punkt')"
      ]
    },
    {
      "cell_type": "markdown",
      "source": [
        "# train our model"
      ],
      "metadata": {
        "id": "Ut0UbGlNghbY"
      }
    },
    {
      "cell_type": "code",
      "execution_count": 47,
      "metadata": {
        "colab": {
          "base_uri": "https://localhost:8080/"
        },
        "id": "QnibT1MDow6P",
        "outputId": "3a46482e-0e0b-4655-ddfc-aa5c992cbfcd"
      },
      "outputs": [
        {
          "output_type": "stream",
          "name": "stdout",
          "text": [
            "12990 patterns\n",
            "861 tags: ['', '   old age benefits  invalidity benefits  anticipated benefi \\n', '  ahf rwanda  handed over a cheque of 133 866 000 frw to rwa \\n', '  employees who were killed \\n', '  employees who were killed during the 1994 genocide against \\n', '  ni rwo rugendo ruzadufasha kurwanya ingengabitekerezo \\n', '  non occupational invalidity benefits  occupational hazards \\n', '  twibuka kugirango dusubize agaciro abishwe kubera ko bari \\n', '  where they will engage in rigorous workshops  online meetu \\n', '  with user friendly  enabling technology  as a source of in \\n', ' 100  remuneration while on a 12 week maternity leave \\n', ' 2  a salaried employed person\\nregardless of their status as \\n', ' 4  a child below the age of sixteen  16  years\\n', ' 506  for mtn rwanda and airtel tigo and by following the si \\n', ' about the autonomy  today we are thrilled that this status \\n', ' ahf rwanda is able to achieve all of this by wor \\n', ' am very happy for having been nominated by my fellow employ \\n', ' investing in start ups aligns to rssb s objective to genera \\n', ' jean damascène gasanabo wari uhagarariye komisiyo y igih \\n', ' our purpose is to create real impact in the lives of the \\n', ' our responsibility is to champion better and more cost effe \\n', ' over the years  we have kept our promise to the government \\n', ' pensioner affiliates can join the scheme if they receive \\n', ' remembrance enables the rwandan community to reflect on the \\n', ' remembrance is therefore a great opportunity to celebrate a \\n', ' rssb investment philosophy is aligned with the rwanda visio \\n', ' so even if you are already saving in the rssb pension sch \\n', ' the fund will unlock tremendous value   deliver impact by l \\n', ' the scheme s total savings stood at frw 6 \\n  cu \\n', ' there is a strong political will to ensure that all rwandan \\n', ' these include   1 \\nself employed individuals workin \\n', ' these times of remembrance remind us as rwandans of the eff \\n', ' this can be achieved by applying to join the scheme \\n', ' this contribution aligns closely with our mission of provid \\n', ' this is the first time to receive an award like this  i re \\n', ' this special status will both improve rssb s operational e \\n', ' this technology also brings some of our services closer to \\n', ' this was achieved because of their values of loving rwanda \\n', ' to perform such other duties as may be assigned by law \\n', ' we are happy to tell our members that they can now use a m \\n', ' we call upon all rwandans to start subscribing to mutuelle \\n', ' we have ambitious plans to transform rssb  by 2025  into an \\n', ' we should be mindful of our values as they are shortened i \\n', ' we simultaneously believe that africa with its fa \\n', ' when taken into comparison to the same period last year  c \\n', \"''i want to thank you all for your dedication and i urge eve \\n\", '1 billion in benefits  105  of planned \\n', '130  of the final salary used as the basis for calculating \\n', '1st quarter performance \\n', '2 billion over the next 7 months  thanks to grassroots mobil \\n', '2005  incre \\n', '2005  increases access to healthcare services and fosters a \\n', '20th  november  2020 aimed at communicating rssb 1st quarte \\n', '3 financial year \\n', '5  contribution deducted from their monthly pension \\n the em \\n', '50 000 with about 700 000 members having contributed around \\n', '50 subscribers of whom 528 003 were active savers \\n this repr \\n', '7 months agocommunity based health insurance scheme receives financ  \\nkigali   may 25th   2022   aids healthcare foundation rwanda  ahf rwanda  handed over a cheque of 133 866 000 frw to rwanda social security board to s  \\nread more  \\n', '7 months agorssb remembers former csr employees killed during the 1  \\nrwanda social security board  rssb  has remembered its former employees who were killed during the 1994 genocide against the tutsi \\n the event was orga  \\nread more  \\n', 'a account will ensure that you have sufficient savings for a \\n', 'a bagera ku 100  \\n', 'a contribution of 2  of salary is paid on behalf of mandator \\n', 'a copy of identity card passport of the insured woman \\n', 'a districts  rssb has tapped into the real estate sector by \\n', 'a document from the employer stating that the woman was on m \\n', 'a guardianship certificate \\nwhen to submit the request for b \\n', 'a medical certificate justifying the extension of leave \\n', 'a member of any other social\\nsecurity scheme  who wants to \\n', 'a member who is in the first or second category of ubudehe a \\n', 'a month agorssb invests in katapult africa seed fund  nine start u  \\non friday 4th november 2022  katapult africa officially launched its accelerator program in kigali  rwanda together with its partners  norad   norwegi  \\nread more  \\n', 'a mutuelle 2020 2021 \\n', 'a patient benefits from medical care of health facilities o \\n', 'a person who is outside rwanda may submit his her applicatio \\n', 'a rssb bwakomeje kubaba hafi no kubaha agaciro \\n', 'a ubwiza bw u rwanda bigatuma abantu badakomeza kurutekereza \\n', 'a will start receiving their monthly pension at 55 years of \\n', 'abanyamuryango b ubwisungane mu kwivuza  kwishyura vuba kugi \\n', 'abanyarwanda barakangurirwa kwihutira kwishyura mituweli ya 2020 2021 \\nmu gihe hasigaye  iminsi  24 ngo hatangire umwaka wa mutuelle de santã  wa 2020 2021   imiryango ibihumbi 42 777 niyo yonyine imaze kwishyura umusanzu wâ ubwisungane mu kwivuza  mutuelle de santã    ya 2  \\n7 months ago \\n', 'abanyarwanda barakangurirwa kwihutira kwishyura mituweli ya 2020 2021 \\nmu gihe hasigaye  iminsi  24 ngo hatangire umwaka wa mutuelle de santã  wa 2020 2021   imiryango ibihumbi 42 777 niyo yonyine imaze kwishyura umusanzu wâ ubwisungane mu kwivuza  mutuelle de santã    ya 2  \\na month ago \\n', 'abanyarwanda barakangurirwa kwihutira kwishyura mituweli ya 2020 2021 \\nmu gihe hasigaye  iminsi  24 ngo hatangire umwaka wa mutuelle de santã  wa 2020 2021   imiryango ibihumbi 42 777 niyo yonyine imaze kwishyura umusanzu wâ ubwisungane mu kwivuza  mutuelle de santã    ya 2020 2021 \\n ikigo rssb rero kirakangurira abanyamuryango bâ ubwisungane mu kwivuza  kwishyura vuba kugira ngo bazabashe kwivuza \\nibi byatangajwe nâ  umuyobozi mukuru wa rssb  regis rugeman  \\n', 'abanyarwanda no kubaka u rwanda \\n', 'abatutsi mu 1994  umuyobozi mukuru wa rssb regis rugema \\n', 'abatutsi mu 1994  umuyobozi mukuru wa rssb regis rugemanshu \\n', 'accinate our world  vow  campaign to address covid 19 vaccin \\n', 'adelaide gakwaya wari uhagarariye imiryago y abo rssb yibuka \\n', 'adele  was found and will be buried appropriately soon \\n', 'affordable and without financial hardship said  rugemanshur \\n', 'after the merger of social security fund of rwanda  ssfr  wi \\n', 'age  yavuze ko icyifuzo ari uko abanyarwanda bose bagira ubw \\n', 'age whereas members in rssb start receiving their monthly pe \\n', 'aign has already started in february and it continues \\n the a \\n', 'akanye genocide cyangwa se akaba yakwandika ibindi byiza k u \\n', 'akunda muri iki gihe cya covid  19 ko abantu bateranira hamw \\n', 'al identity card  nid  number \\n your national id number will \\n', 'al or informal sector  either self employed or working for s \\n', 'al workshops  network   learning sessions with  150 000 equi \\n', 'alculating the contribution shall not be less than the basic \\n', 'all rssb employees in community based health based insuranc \\n', 'all workers are governed by labour law  general statutes for \\n', 'ally want to thank rssb for having organized this ceremony t \\n', 'ambaga urugo ku rugo hifashishijwe  indangururamajwi mu rweg \\n', 'amily and poverty reduction with intention to achieve social \\n', 'amuryango mushya cyangwa uwakerewe gutanga umusanzu abone se \\n', 'an insured that is eligible for early retirement pension ben \\n', 'an original copy of the medical certificate of delivery \\n', 'an other it modernization initiative  dubbed ishema project \\n', 'anchor investor in rwanda within various sectors of activit \\n', 'and continue providing efficient and delightful service to \\n', 'and high performing organization  rwanda social security bo \\n', 'and is currently at 82 \\n this is a great improvement compa \\n', 'and paying the required contributions of 6   of the salary \\n', 'and people of rwanda as a critical partner in the fight agai \\n', 'and rwandans without discrimination  he said \\n', 'anda social security board  rssb \\n the move aimed at improvi \\n', 'andeted and completed by the law n  nº04 2015 of 11 03 2015 \\n', 'andi muri sacco zose   kwishyura hifashishijwe abakozi b ire \\n', 'angurambaga bushishikariza abanyamuryango ba mituweli kwishy \\n', 'anization and functioning \\n this institution was established \\n', 'anufacturing  healthcare \\n rssb investments are intended to g \\n', 'any rwandan citizen with a national id issued by nida and an \\n', 'anywhere in the country \\n with exception of emergency cases \\n', 'anze  nyabihu  and rubavu  supporting more than 33 000 peopl \\n', 'apital dividends \\n', 'application for maternity leave benefits form signed by the \\n', 'applications from all qualified individuals across the \\n', 'apply for employee number \\n', 'arching needs \\n  currently  rssb is in the process of develop \\n', 'ard  this fiscal year kicks off with a new elaborate and amb \\n', 'ards global aids control  said  dr \\n rangira \\n', 'arkets which would see rssb investments flourish   rugemas \\n', 'article 27 of the law no06 2003 of 22 03 2003 modifying the \\n', 'artners once completed \\n the target is to go live with the ne \\n', 'ary foods and spark from ghana  gricd agroservice and vetsak \\n', 'as of the end of the 1st quarter  the total investment portf \\n', 'as taught and imposed on rwandans  especially on the youth r \\n', 'as we enter a new era of technology advances and data driven \\n', 'as well as helps the survivors of the genocide against the t \\n', 'at rssb  the work that we do touches the life of every rwand \\n', 'at the end of q1  ejoheza scheme registered a total of 770 4 \\n', 'ate services division manager  emmanuel mugabo \\n', 'aternity leave \\n', 'ati   iyo twibuka twiyubaka ni ngombwa ko tunazirikana nk a \\n', 'ati  ikibazo navuga cyatumye tutagera ku ijana ku ijana  ni \\n', 'ati  ikigamijwe ni uko buri munyarwanda wese agira ubwishing \\n', 'ational access to healthcare services by rwandans \\nhe said t \\n', 'availing rentable space for all kinds of businesses and resi \\n', 'aw no \\n45 2010 of 14 12 2010 that determines its mission  org \\n', 'azard scheme  rssb registered 78 399 new members  which repr \\n', 'azifashishwa ikoranabuhanga nko gutanga ubutumwa bugufi bwib \\n', 'b under occupational hazard scheme are  medical care  daily \\n', 'bafite ingengabitekerezo ndetse banagerageza kuyicengeza mu \\n', 'bahoze bakorera isanduku y  ubwiteganyirize bw  abakozi y u \\n', 'baka u rwanda ni uruhe \\n', 'bakozi ba rssb  ese uruhare rwacu cyane cyane iyo twibuka ba \\n', 'bandi  tutihanganira na busa uwatinyuka kuba yadusubiza inyu \\n', 'basic salary \\n it is paid by both the employer and the employ \\n', \"batakibufite iyo hataba inkotanyi \\n inkotanyi nk'abayarwanda \\n\", 'billion  is held in fixed income assets and 46   or 561 bil \\n', 'bishyura 7000 frw \\n', 'bishyura mituweli  ubwisungane mu kwivuza  ntibarware  bakum \\n', 'ble to go to the office of social security administration du \\n', 'bo bari bamaze kwishyura ubwisungane mu kwivuza bw umwaka ur \\n', 'board member \\n', 'bscription to cbhi premiums has already started for 2022 202 \\n', 'business models  we are upgrading our systems and processes \\n', 'business partner \\n', 'c job link for more information on the role \\n to apply  you w \\n', 'calculated based on last woman s salary during maternity lea \\n', 'causes of the genocide against the tutsi  and renew our com \\n', 'cbhi coverage rate stood at 80 \\n1  at the end of the quarter \\n', 'cbhi in the near future \\n', 'cbhi schemegiving you happiness at best ratelearn more \\n', 'ccess medical care at affordable cost \\n', 'ce scheme  cbhi  was moved from the ministry of health to rw \\n', 'ce to customers \\n', 'center  the administration of the center signs and stamp the \\n', 'changing from legacy processes and systems \\n', 'check contribution \\n', 'check for your contributions \\n', 'ched its accelerator program in kigali  rwanda together with \\n', 'cheme  and who transfers them to a long term\\n', 'cial security  to establish relations and collaborate with o \\n', 'cio economic impact \\n', 'cleva from nigeria  afrikamart from senegal  sand to green \\n', 'click here to watch again the event \\n', 'co tegera \\n', 'come together and pay contributions for the purpose of prot \\n', 'community based health insurance  mutuelle de santé  is a so \\n', 'community based health insurance scheme receives financial boost from ahfkigali   may 25th   2022   aids healthcare foundation rwanda  ahf rwanda  handed over a cheque of 133 866 000 frw to rwanda social security board to support community based health insurance  cbhi  sch  \\n7 months ago \\n', 'community based health insurance scheme receives financial boost from ahfkigali   may 25th   2022   aids healthcare foundation rwanda  ahf rwanda  handed over a cheque of 133 866 000 frw to rwanda social security board to support community based health insurance  cbhi  sch  \\na month ago \\n', 'community based health insurance scheme receives financial boost from ahfkigali   may 25th   2022   aids healthcare foundation rwanda  ahf rwanda  handed over a cheque of 133 866 000 frw to rwanda social security board to support community based health insurance  cbhi  scheme \\n this donation will benefit 10 822 households with 44 622 beneficiaries  an event held at rssb headquarters \\nthe cbhi scheme which the government of rwanda initiated in 2005  incre  \\n', 'contact us \\n', 'contribution is made depending on the ubudehe category in wh \\n', 'country program manager  ahf rwanda \\n', 'cs has the right to a government co contribution equal to on \\n', 'cted from over 700 companies and represent some of the most \\n', 'cted its best employee of the year in customer service deliv \\n', 'ctful solutions \\n', 'ctive ways of delivering patient centred care  which results \\n', 'culture of prevention by alleviating the financial burden of \\n', 'curity board  rssb  and\\ncovers both salaried and unsalaried \\n', 'current statistics for the year 2021 2022 show that the nati \\n', 'cyane n  itangazamakuru  media  hari kandi no gukomeza ubuk \\n', 'd but who receives benefits under the\\nlaws regulating that s \\n', 'd health insurance  mutuelle de santé \\nthe member s first vi \\n', \"d link your child's ejo heza account to your own national id \\n\", 'd manage social security contributions  to conduct audit and \\n', 'd smart africa  with announcement of awards to 9 start ups d \\n', 'd sos barnebyer \\n', 'd that the 5 years strategic plan will focus on three outcom \\n', 'd the event via rssb youtube channel \\n', 'd those who were in danger \\n', 'd which medical procedures and drugs are to be refunded \\n', 'dards of upper middle income by 2035 and high income countri \\n', 'de santé scheme earlier so as to get ready for accessing hea \\n', 'declaration and remittance of pension contributions are made \\n', 'ded to them  said rugemanshuro \\n', 'delivery', 'dential units for sale \\n', 'der to help people with low income access medical care at af \\n', 'detailed pay slips related to the maternity leave period sig \\n', 'digital led compliance for private and public institutions t \\n', 'digital transformation \\n', 'don t see a role suited for you yet follow our linkedin page for more opportunities \\n', 'dr gasanabo yavuze ko asanga hari byinshi byakorwa bigaragaz \\n', 'ds of food  climate  and agri tech \\n the start ups were sele \\n', 'ds response \\n this includes the provision of hiv testing  car \\n', 'dufitanye igihango kuko aho bakuye abanyarwanda  aho bakuye \\n', 'during the first quarter  cbhi scheme collected frw 23 \\n', 'during the first quarter  under the pension   occupational h \\n', 'e  of a social security scheme to\\nwhich he she was affiliate \\n', 'e  sinjya kwa muganga keretse iyo nasitaye \\n', 'e abakozi 19 bakoreraga isanduku y ubwiteganyirize bw abakoz \\n', 'e and continued quality support of clients daily \\n', 'e and the long term saving scheme  to register employers  em \\n', 'e and treatment  condom distribution and human resources for \\n', 'e coverage to household members if all of them have paid the \\n', 'e de santé wa 2020 2021   imiryango ibihumbi 42 777 niyo yon \\n', 'e department \\n', 'e donation by aids healthcare foundation rwanda will boost n \\n', 'e employer requests rssb reimbursement for the last 6 weeks \\n', 'e hundred percent  100  of his or her savings \\n', 'e in everything they do \\n', 'e inequities  the covid 19 emergency relief fund  and the ah \\n', 'e it means a lot that people recognize what i have been deli \\n', 'e living with hiv \\n', 'e nk uko byakorwaga \\n', 'e on challenges and become driving forces for innovation and \\n', 'e they played and continue to play to ensure this status is \\n', 'e to physical or mental disability  the application form is \\n', 'e ugomba gukerensa ubwisungane mu kwivuza bitewe n uko ngo a \\n', 'e while preserving capital \\n rssb is one of the biggest inves \\n', 'each department  division and units under dg s office   sele \\n', 'eadquarters while rssb staff located at rssb branches watche \\n', 'ealth care for subscribers \\n', 'ears for women and 40 years for men \\n rssb covers all medica \\n', 'ection and receipt of medical care \\n it was established in or \\n', 'ection scheme that grants working women  mothers  their full \\n', 'ects of terrible leadership that had fueled divisions among \\n', 'ecurity benefits \\n', 'ed and remitted on a monthly basis \\n ejo heza members can dec \\n', 'ed that according to history  the 1994 genocide against the \\n', 'ee at the rate of 7 \\n', 'eeds attention more so than ever \\n strong leaders and go gett \\n', 'ees as the best performer in customer service delivery  to m \\n', 'efits  but who did not contribute 15 years  he she shall rec \\n', 'efits involves the following \\n', 'eganyijwe gukorwa mu rwego rwo gukangurira abanyarwanda kwis \\n', 'eir employee s contribution to rssb \\n the contribution is ded \\n', 'eir role and responsibility in upholding the unity of rwanda \\n', 'eive a lump sum pension allowance \\n', 'ejo heza is a voluntary  government sponsored scheme availab \\n', 'ejohezastart early and reap the rewards \\n', 'eligibility without necessarily going to medical access fac \\n', 'eligible for disability pension  provided he she is a membe \\n', 'elle de santé   ya 2 \\n', 'elle de santé   ya 2020 2021 \\n ikigo rssb rero kirakangurira \\n', 'eme  putting aside some additional savings into your ejo hez \\n', 'eme collected contributions worth frw 24 \\n2 billion  and paid \\n', 'emium collections amounted to frw 12 \\n the benefits \\n', 'emoration of the gen \\n', 'emoration of the genocide against the tutsi in rwanda \\n', 'employee online service \\n', 'employer login \\n', 'employer online service \\n', 'employer registration \\n', 'enablers that include    administrative autonomy  comprehen \\n', 'enefits in the form of capital gains  and or generation of c \\n', 'enefits reimbursement \\n', 'enerate strong financial returns while having significant so \\n', 'enocide  asaba abari bitabiriye iki gikorwa cyo kwibuka  kuj \\n', 'enrolling for pension benefits is compulsory for the followi \\n', 'ensure the compliance rate in mandatory contributions \\n', 'ent that is observed annually during the first week of octob \\n', 'epresent 3 \\n2  reduction in contributions collected and 16  i \\n', 'eputy dg in charge of be \\n', 'eputy dg in charge of benefits dr regis hitimana  and corpor \\n', 'equity companies \\n', 'equity investments \\n', 'er  after receiving a service to give us feedback  lodge com \\n', 'er with aim of celebrating the importance of customer servic \\n', 'er you for \\n', 'eration  tony blair \\n', 'eration  tony blair institute for global change  norrsken an \\n', 'ereyeho 1 \\n1   ugereranyije n abanyarwanda 78 \\n5   bari bishyu \\n', 'erly or annually  as per their choice \\n', 'ernment of rwanda through the ministry of finance under the \\n', 'ers  to be best in class in serving their interests  as a fr \\n', 'ers are at the core of our ability to deliver on our social \\n', 'ery and the overall employee  best employee  was selected by \\n', 'es by 2050 \\n rssb aims at creating value for the rwandan pop \\n', 'es in customer servi \\n', 'es in customer service delivery during the year 2019 2020 \\n', 'es namely  delivering high performance  putting our members \\n', 'esent 209  of quarterly targets   this was mainly driven by \\n', 'esents an increase of 186 576 savers  55  since june 30  20 \\n', \"ess large number of member's claims \\n members and partners wi \\n\", 'esulting in the genocide that killed more than a million tut \\n', 'eta y u rwanda ku bikorwa bitandukanye yakoreye abacitse ku \\n', 'everaging technology \\n we appreciate cornerstone investors  s \\n', 'f both parents is entitled to the totality of those social s \\n', 'f grant fund to strengthen the capacity of cbos to tackle hi \\n', 'f superior category if he or she has a transfer note \\n', 'fficiency and enhance performance \\n the move will also allow \\n', 'ffiliates  2 177 new affiliates were registered and total pr \\n', 'financial returns  she added \\n', 'first  and achieving operational excellence \\n', 'fixed income investments \\n', 'fixed income investments offer rssb a steady stream of incom \\n', 'for a person who is in a correctional or rehabilitation \\n', 'for our members but that puts members at the heart of all o \\n', 'for the medical scheme  on a quarterly target of 3 500 new a \\n', 'for three months  the cohort of the selected start ups will \\n', 'fordable cost \\n', 'free of cost using your own mobile phone by simply dialing \\n', 'from a long term saving account opened by his her\\n', 'from banks holiding their dividends and negative impact on \\n', 'from morocco  and elucid from madagascar \\n', 'from the 1st july 2015 the management of the medical insuran \\n', 'frw 8 billion in savings \\n we expect to increase savings to 1 \\n', 'fully attained and implemented  said regis rugemanshuro \\n', 'fund include rwanda social security boar \\n', 'fund include rwanda social security board  rssb  norfund an \\n', 'funny', 'g a web browser on a smart phone or a computer by visiting e \\n', 'g in the informal sector who wish\\nto save for the long term \\n', 'g our clients  to exercise their right to health  thereby pr \\n', 'g those we remember today  he added \\n', 'ge without having contributed for fifteen  15  years  he she \\n', 'gender  race  age and disability spectrum are strongly encou \\n', 'general and to rssb  as an institution \\n  it is a privilege \\n', 'genzi bacu tukazirikana rssb y ubu  rssb izaza  uruhare rwac \\n', 'girls as essential for preventing hiv  stis and unplanned p \\n', 'go 198 644 ni bo bonyine bamaze kwishyura umusanzu w  umwaka \\n', 'go through katapult s world class impact accelerator program \\n', 'goodbye', 'graced by hon \\n paula ingabire  rwanda s minister of ict and \\n', 'greeting', 'gs account with a\\nscheme administrator  the rwanda social se \\n', 'gu ndetse no hanze yacyo \\n', 'guardian and  5  any other person not included in the\\n', 'gukomeza kurwanya abahakana n abapfobya genocide yakorewe a \\n', 'gukomeza kwishyura umusanzu usabwa  kwishyurira abagize urug \\n', 'h all plans  decisions and actions are taken with the intere \\n', 'harge in charge of funds management  jean marie gacandaga  d \\n', 'has been approved by the cabinet  and we are grateful to va \\n', 'hat encourages its employees  added tegera \\n', 'he affiliate dies and these are restricted to spouses  orpha \\n', 'he cost \\n', 'he institution s values and enhance the culture of excellenc \\n', 'he reiterated that it is a very difficult time  it hurts eve \\n', 'he support is a timely boost at the time mobilization for su \\n', 'health across 29 health facilities in 10 districts  nyaruge \\n', 'heme helps also the survivors of the deceased worker \\n  the s \\n', 'heza account to save additionally for their old age \\n', 'hf support is timely to boost subscription  he said \\n', 'hf will therefore go a long way in achieving 100  access to \\n', 'hile you are working to ensure that you have enough savings \\n', 'ho ibibi gusa \\n yavuze ko hari ushobora kwandika asubiza uwah \\n', 'ho ukanda  909  ugakurikiza amabwiriza  ushobora kwishyura k \\n', 'home over time \\n if you are an adult and have a permanent na \\n', 'honorary members are persons who provide support or donation \\n', 'huro added \\n', 'hyura mutuelle hanubahirizwa ingamba zo  kwirinda covid 19 h \\n', 'i am very thankful to   rssb for this award  said jean bos \\n', 'i kurangira wa 2019 2020 \\n yavuze ko kandi  uwo mubare wiyong \\n', 'i mu rwanda  caisse \\n', 'i mu rwanda  caisse sociale du rwanda  bishwe muri genocide \\n', 'i munyarwanda wese aho ava akagera kutabyihanganira  ubonye \\n', 'ibed drugs \\n patients themselves cover the remaining 15  of t \\n', 'ibi byatangajwe n  umuyobozi mukuru wa rssb  regis rugeman \\n', 'ibi byatangajwe n  umuyobozi mukuru wa rssb  regis rugemansh \\n', 'ica seed fund \\n', 'ich individuals are \\n', 'icumu ikinabakorera kugeza ubu  ndetse anashimira ubuyozi bw \\n', 'ide how much they want to contribute and are also permitted \\n', 'iend and source of help  as a modern  efficient organisation \\n', 'if an employee has more than one employer  each remits contr \\n', 'if the disability results from a hazard  the member shall be \\n', 'if the member of the pension scheme reaches the retirement a \\n', 'ifficult to settle on a structure that addresses rssb s over \\n', 'ighly scalable companies looking to innovate within the fiel \\n', 'igihugu kandi n aho bakigejeje nta wabihakana kuko amateka \\n', 'ikibazo cy imyumvire abantu bumva ko batarwara bakavuga ko \\n', 'ikitari cyo ugisubize  tuvuge uko byagenze duhashye ibinyoma \\n', 'ilitator  or rssb office \\n  he added \\n', 'ill be redirected to our linkedin page  follow the instructi \\n', 'in a bid to transform rssb into a member first  data driven \\n', 'in crisis  it is all too clear that we must accelerate tech \\n', 'in healthier  more productive  and more fulfilling lives fo \\n', 'in his remarks  regis rugemanshuro  the director general of \\n', 'in rwanda or abroad in accordance with relevant laws  to con \\n', 'ing a new future proof   rssb structure that will help addre \\n', 'ing cutting edge medicine and advocacy regardless of the abi \\n', 'ingamba zarafashwe mu rwego rwo gukangurira abanyamuryango k \\n', 'innovation  the event provided an opportunity for katapult t \\n', 'inspection to ensure compliance with social security laws \\n', 'inspiring solutions to the greatest challenges we face today \\n', 'insurance  cbhi  sch \\n', 'insurance  cbhi  scheme \\n this donation will benefit 10 822 h \\n', 'insurance  maternity leave benefits scheme  health insuranc \\n', 'investing in homegrown solutions with a global thinking \\n', 'ion  education  support due to loss of jobs  provision for f \\n', 'ion that will take place during the next few years \\n', 'ions benefits via intelligent systems and notification ecosy \\n', 'ions provided in rwanda \\n', 'ions which means frw 7 billion against frw 8 billion planned \\n', 'ir respective contributions  with the exception of any membe \\n', 'is automatic for all public employees  the private sector ca \\n', 'isungane mu kwivuza nta n umwe uvuyemo \\n', 'it was established in order to help people with low income a \\n', 'ited from financing through rssb s investments  while rssb b \\n', 'items', 'ith the addition of the new schemes over the years  it was d \\n', 'itious five year str \\n', 'itious five year strategic plan 2020   2025 \\n', 'its partners  norad   norwegi \\n', 'its partners  norad   norwegian agency for development coop \\n', 'ity  respect and excellence  said regamanshuro \\n', 'ity investing  and public companies listed on stock exchange \\n', 'ization campaigns \\n', 'izi bw ubuzima \\n haracyari benshi badafite ubwishingizi  aho \\n', 'jo heza is a defined contribution scheme whereas the rssb pe \\n', 'joheza  clicking the  register now  button and following the \\n', 'kana uruhare rwabo mu kubaka u rwanda no kuba hafi y abaroko \\n', 'katapult s founder tharald nustad said that   with a climate \\n', 'kers who becomes old and incapable of working for a salary o \\n', 'kigali   may 25th   2022   aids healthcare foundation rwanda \\n', 'king closely with civil society organisations and the ngo fo \\n', 'ku gipimo cy ijana ku ijana nkuko biba byitezwe  imwe mu mpa \\n', 'kuri uyu wa gatanu tariki 21 05 2021 ubuyobozi n abakozi b \\n', 'kwishyura mutuweli  bikorwa hashingiwe ku cyiciro cy ubudehe \\n', 'kwishyura umusanzu w  ubwisungane mu kwivuza bikorwa mu bury \\n', 'l acts and procedures  all laboratory and imaging investigat \\n', 'l investor in rwanda \\n join us and be a part of what happens \\n', 'law of august 22  1974 concerning organization of social sec \\n', 'ld  retirement age \\n so you should save as much as you can w \\n', 'le to all the citizens of rwanda \\n anyone working in the form \\n', 'leadership   confidence and education among young women and \\n', 'lidarity health insurance system in which persons  families \\n', 'lion  is held in non fixed income assets \\n', 'lity to pay  and will enable thousands of rwandans  includin \\n', 'll be enjoying the benefits such as timely and faster respon \\n', 'll have a seamless and transparent access of their contribut \\n', 'llion in premiums  88 \\n5  of the target  and paid out frw 18 \\n', 'long term saving scheme  ejoheza  was established by the\\n', 'lops to the point where he she can no longer perform any rem \\n', 'lowing the month to which the contributions related \\n', 'lp you to accumulate savings for your other needs like child \\n', 'lth services in the 2022 2023 fiscal year \\n mobilisation camp \\n', 'ma  uwatinyuka kuba yakomeretsa mugenzi we  uwagerageza kuba \\n', 'maternity leave benefits  mlb  insurance is a maternity prot \\n', 'maternity leaveenjoy your maternity leave with your full salarylearn more \\n', 'mation with their knowledge and creativity \\n they dare to tak \\n', 'mbo cyangwa abakozi  agents  ba mobicash bari mu gihugu hose \\n', 'medical costs for many  especially among the poor and vulne \\n', 'medical online service \\n', 'medical schemeour health  our futurelearn more \\n', 'medical schemes members can also check their medical access \\n', 'meet our board of directors \\n', 'members of community based health insurance scheme receive p \\n', 'membership is effective when each household member has  pers \\n', 'mer rpf inkotanyi forces who stopped the genocide and rescue \\n', 'mer satisfaction \\n', 'mitment to never again  said rugemanshuro \\n', 'mmercial and residential real estate in different regions of \\n', 'mount plus  a half of the others \\n nevertheless  the orphan o \\n', 'mple prompts for registration and payment of contributions \\n', 'mu gihe hasigaye  iminsi  24 ngo hatangire umwaka wa mutuell \\n', 'muri uyu muhango wo kwibuka ku nshuro ya 27 genocide yakorwe \\n', 'mvu zibitera ari ikibazo cy imyumvire  \\n', 'mwaka wa mutuelle  ku wa 30 kamena \\n', 'n 2050 which aims at  leading the country to the living stan \\n', 'n form duly signed and stamped by rwandan embassy or consula \\n', 'n join the scheme if there is a payroll of 7 or more employe \\n', 'n more that even after 28 years there are bodies that have n \\n', 'n necessary \\n', 'n others when you are old \\n saving with ejo heza will also he \\n', 'n rssb  the director general of rssb  regis rugemanshuro sai \\n', 'n this word  icare  integrity  collaboration  accountabil \\n', 'na leta amafaranga 3000 frw ku muntu  abo mu cya kabiri n ic \\n', 'naphtal ahishakiye   corporate services division manager of \\n', 'national access to healthcare services by  rwandans  he add \\n', 'ncrease in benefits from last year s q1 perfromance \\n', 'nd has saved at least fifteen thousand  15 \\n000  rwandan fran \\n', 'nd reflect on this courage and for everyone to understand th \\n', 'nd their delivery in the country  particularly in the hiv ai \\n', 'nda social security board to s \\n', 'nda social security board to support community based health \\n', 'ned and stamped by the competent authority of his her reside \\n', 'ned by both employee and employer and stamped \\n', 'news   events \\n', 'ng individuals \\n', 'ng the fund s financial accountability and ensures quality h \\n', 'ng the importance of teamwork in providing outstanding servi \\n', 'nge  gasabo  kicukiro  rwamagana  kayonza  nyanza  huye  mus \\n', 'nificant support towards strengthening healthcare services a \\n', 'no 29 2017 of 29th june 2017 \\n it is a defined contributi \\n', 'nocide bifashishije imbuga nkoranyambaga \\n', 'nologies to both overcome climate challenges and ensure food \\n', 'non paper based processes \\n', 'nors  payment contributions is done online vis \\n', 'note  category i is supported by the government and other do \\n', 'note  the life and funeral insurance benefits will also be a \\n', 'ns  and parents in case the deceased does not have a spouse \\n', 'ns  with the aim of making them ready for scaling in african \\n', 'ns are therefore divided into two categories \\n', 'ns so that genocide will never happen again  he stressed \\n', 'nsion at 65 years or at early retirement of 60 \\n rssb contrib \\n', 'nsion scheme is a defined benefit scheme \\n members in ejo hez \\n', 'nst hiv aids  and we are committed to this collaboration tow \\n', 'ntibizasubire  bijyana n ibikorwa byo kurwanya abahakana n a \\n', 'nts in the quality and speed of service to our members and p \\n', 'nyarugenge district  murebwayire betty   representatives of \\n', 'nyirarukundo ignatienne yavuze ko kandi hazakorwa ubukangur \\n', 'nyuma y uko hakuweho iminsi 30 yo gutegereza kugirango umuny \\n', 'o  rwo gushishikariza abanyamuryango kwishyura  cyane ko bit \\n', 'o 78 \\n9  of the target \\n this is due to covid 19 impact mainly \\n', 'o bose \\n', 'o butandukanye burimo ubw ikoranabuhanga nko kuri telefone a \\n', 'o ensure the compliance and fraud monitoring \\n our members wi \\n', 'o showcase its latest investments into 9 highly impactful  h \\n', 'obile technology based   ussd by dialing   876 staff id numb \\n', 'occupational hazards is a scheme under rssb which provides a \\n', 'occupational hazardswe are  here for youlearn more \\n', 'ocial security benefits offered by under pensions scheme are \\n', 'od medical services \\n collaborations with institutions like a \\n', 'of appreciation in recognition of being outstanding employe \\n', 'of maternity leave \\n', 'of your life \\n your ejoheza account and your savings will al \\n', 'olio size was more than frw1 \\n2 trillion of which 54   or 639 \\n', 'ollections increased by 6 \\n8  whereas benefits dropped by 4 \\n', 'ome available 12 months after the launch of the scheme \\n', 'omeone else  can join the scheme \\n the rssb pension scheme on \\n', 'omoting equity in health coverage  said dr lambert rangira \\n', 'on friday 4th november 2022  katapult africa officially laun \\n', 'on monthly basis  not later that 15 th day of the month fol \\n', 'on satisfying the criteria to make a claim  the benefits cov \\n', 'on scheme \\nestablished on voluntary basis by opening a savin \\n', 'on the advocacy side  the organisation has championed variou \\n', 'onal coverage for the community based health insurance stand \\n', 'onally or through third party paid the required contribution \\n', 'onally visit an authorized ejo heza service provider with yo \\n', 'one of the former employees being remembered  mutangampundu \\n', 'one of the rssb s major hindrances has been its structure  w \\n', 'ons on the page to proceed with applying \\n', 'open an ejo heza account \\n members of the rssb pension scheme \\n', 'optimistic and forward looking agent of central government   \\n', 'optimistic and forward looking agent of central government  working to achieve the financial security and health of all rwandans \\n', 'or any child \\n', 'or other voluntary schemes can also voluntarily open an ejo \\n', 'or program include growagric and aquarech from kenya  legend \\n', 'organisation that is not just fully committed to delivering \\n', 'organizational structure \\n', 'ot yet been found and given a proper burial \\n', 'our clients  added rugemanshuro \\n', 'our investments \\n', 'ouseholds with 44 622 beneficiaries  an event held at rssb h \\n', 'out frw 8 \\n7 billion in benefits for the same period \\n this r \\n', 'partially disabled and his her disability subsequently deve \\n', 'pay outs in medical scheme reached 88  of quarterly project \\n', 'payments', 'pension scheme is a scheme of social security which help wor \\n', 'pension schemeretire with dignitylearn more \\n', 'pension simulator \\n', 'people we serve and the people who work with us \\n', 'period of 36 months \\n the insurance benefits will however bec \\n', 'plaints and or express their feeling about the service provi \\n', 'please note that medical care is refundable by rssb provided \\n', 'ployees  beneficiaries and voluntary contributors in social \\n', 'ployer and accompanied by \\n', 'ployer is responsible for deducting  declaring and paying th \\n', 'pproach to dealing with the impact on members of the transit \\n', 'program that combines 90 days of intense digital and physic \\n', 'protection mandate  and our role as the largest institutiona \\n', 'ps  mentor sessions  pitch training and investor presentatio \\n', 'ption and integration with other systems \\n', 'public service or special statutes \\n', 'put to government thinking  as a national and international \\n', 'put to government thinking  as a national and international  \\n', 'r at the time of hazard \\n where the insured person is already \\n', 'r becomes invalid and incapable of living by working \\n the sc \\n', 'r employees who were killed during the 1994 genocide against \\n', 'r insured under any other medical insurance scheme \\n', 'r our clients    he added \\n', 'r performance and ongoing transformati \\n', 'r performance and ongoing transformation that is happening i \\n', 'r scooped the best performing award of the year 2019 2020 \\n', 'ra ngo bazabashe kwivuza \\n', 'rable households \\n', 'rage of the scheme extends to spouses and children of affili \\n', 'raints  meet members experience expectations and support ado \\n', 'rch for the registration number of their companies \\n cbhi and \\n', 'real estate investments \\n', 'receiving the donation  rwanda social security board   direc \\n', 'red to the previous year s overall annual coverage of 79 \\n', 'regis rugemanshuro  the director general also further stress \\n', 'reimbursement amount \\n', 'reimbursement deadline\\nwithin 30 days from reception date of \\n', 'reimbursement request \\n', 'remain your unique link to your ejo eza account for the rest \\n', \"ren's education or housing \\n\", 'reset your password \\n', 'ri kimwe mu by ibanze bikenewe mu rwanda \\n', 'rical opportunity that will improve lives of the people of r \\n', 'riday  louise kanyonga  the deputy ceo of rssb  said that rs \\n', 'ries listed above \\n', 'rimary medical care from health center or from a health post \\n', 'rious ministries including our line ministry minecofin  mifo \\n', 'rivisi z ubuvuzi  umusanzu wa mutuelle uzajya urangirana n u \\n', 'ro  yasabye abakozi b iki kigo kwibuka biyubaka kandi baziri \\n', 'rrently  the number of subscribers in the scheme is around 9 \\n', 'rssb also covers the medical insurance for pensioners with 7 \\n', 'rssb also recorded a net return on its investments amounting \\n', 'rssb awards its best employees in customer service deliverythe director general of rssb  regis rugemanshuro on wednesday 4th november  2020 awarded 12 rssb staff with certificates of appreciation in recognition of being outstanding employees in customer servi  \\n7 months ago \\n', 'rssb awards its best employees in customer service deliverythe director general of rssb  regis rugemanshuro on wednesday 4th november  2020 awarded 12 rssb staff with certificates of appreciation in recognition of being outstanding employees in customer servi  \\na month ago \\n', 'rssb awards its best employees in customer service deliverythe director general of rssb  regis rugemanshuro on wednesday 4th november  2020 awarded 12 rssb staff with certificates of appreciation in recognition of being outstanding employees in customer service delivery during the year 2019 2020 \\nthis event was witnessed by the deputy director general in charge in charge of funds management  jean marie gacandaga  deputy dg in charge of be  \\n', 'rssb covers 85  of the bill for medical treatment and prescr \\n', 'rssb covers the following medical care provision \\n', 'rssb director general  regis rugemanshuro reiterated that th \\n', 'rssb embarks on a new five year strategic journey that envisions transforming rssb into a â member first  data driven  and high performing organizationâ \\nin a bid to transform rssb into a member first  data driven  and high performing organization  rwanda social security board  this fiscal year kicks off with a new elaborate and ambitious five year str  \\n7 months ago \\n', 'rssb embarks on a new five year strategic journey that envisions transforming rssb into a â member first  data driven  and high performing organizationâ \\nin a bid to transform rssb into a member first  data driven  and high performing organization  rwanda social security board  this fiscal year kicks off with a new elaborate and ambitious five year str  \\na month ago \\n', 'rssb embarks on a new five year strategic journey that envisions transforming rssb into a â member first  data driven  and high performing organizationâ \\nin a bid to transform rssb into a member first  data driven  and high performing organization  rwanda social security board  this fiscal year kicks off with a new elaborate and ambitious five year strategic plan 2020   2025 \\nspeaking at the press conference at marriott hotel on friday 20th  november  2020 aimed at communicating rssb 1st quarter performance and ongoing transformati  \\n', 'rssb has been at the forefront of developing and managing co \\n', 'rssb invests in katapult africa seed fund  nine start ups selected for accelerator programon friday 4th november 2022  katapult africa officially launched its accelerator program in kigali  rwanda together with its partners  norad   norwegian agency for development cooperation  tony blair  \\n7 months ago \\n', 'rssb invests in katapult africa seed fund  nine start ups selected for accelerator programon friday 4th november 2022  katapult africa officially launched its accelerator program in kigali  rwanda together with its partners  norad   norwegian agency for development cooperation  tony blair  \\na month ago \\n', 'rssb invests in katapult africa seed fund  nine start ups selected for accelerator programon friday 4th november 2022  katapult africa officially launched its accelerator program in kigali  rwanda together with its partners  norad   norwegian agency for development cooperation  tony blair institute for global change  norrsken and smart africa  with announcement of awards to 9 start ups during the first round of funding \\n the lead investors in the fund include rwanda social security boar  \\n', 'rssb invests in private companies  also known as private equ \\n', 'rssb is commited to becoming a customer centric organization \\n', 'rssb is the largest investment fund in rwanda \\n thanks to the high dependency ratio  increased formalisation of the economy and deployment of innovative schemes like ejo heza  voluntary long term savings scheme  the size of the fund has more than doubled within the period 2015 2020 \\n', 'rssb noted that remembering restores dignity to the victims \\n', 'rssb pension and previously contributed to the scheme \\n', 'rssb remembers former csr employees killed during the 1994 genocide against the tutsirwanda social security board  rssb  has remembered its former employees who were killed during the 1994 genocide against the tutsi \\n the event was organised as part of the 28th commemoration of the gen  \\n7 months ago \\n', 'rssb remembers former csr employees killed during the 1994 genocide against the tutsirwanda social security board  rssb  has remembered its former employees who were killed during the 1994 genocide against the tutsi \\n the event was organised as part of the 28th commemoration of the gen  \\na month ago \\n', 'rssb remembers former csr employees killed during the 1994 genocide against the tutsirwanda social security board  rssb  has remembered its former employees who were killed during the 1994 genocide against the tutsi \\n the event was organised as part of the 28th commemoration of the genocide against the tutsi in rwanda \\nthe event held on april 29  2022  at the rssb headquarters  was in memory of the 19 former caisse sociale du rwanda  csr  employees who were killed  \\n', 'rssb to swiftly compete on national and regional financial m \\n', 'rssb yibutse abakozi bakoreraga isanduku yâ  ubwiteganyirize bwâ  abakozi yâ u rwanda  csr  bishwe muri genocide yakorewe abatutsi mu 1994kuri uyu wa gatanu tariki 21 05 2021 ubuyobozi nâ abakozi bâ  urwego rwâ igihugu rwâ ubwiteganyirize mu rwanda  rssb  bibutse abakozi 19 bakoreraga isanduku yâ ubwiteganyirize bwâ abakozi mu rwanda  caisse  \\n7 months ago \\n', 'rssb yibutse abakozi bakoreraga isanduku yâ  ubwiteganyirize bwâ  abakozi yâ u rwanda  csr  bishwe muri genocide yakorewe abatutsi mu 1994kuri uyu wa gatanu tariki 21 05 2021 ubuyobozi nâ abakozi bâ  urwego rwâ igihugu rwâ ubwiteganyirize mu rwanda  rssb  bibutse abakozi 19 bakoreraga isanduku yâ ubwiteganyirize bwâ abakozi mu rwanda  caisse  \\na month ago \\n', 'rssb yibutse abakozi bakoreraga isanduku yâ  ubwiteganyirize bwâ  abakozi yâ u rwanda  csr  bishwe muri genocide yakorewe abatutsi mu 1994kuri uyu wa gatanu tariki 21 05 2021 ubuyobozi nâ abakozi bâ  urwego rwâ igihugu rwâ ubwiteganyirize mu rwanda  rssb  bibutse abakozi 19 bakoreraga isanduku yâ ubwiteganyirize bwâ abakozi mu rwanda  caisse sociale du rwanda  bishwe muri genocide yakorewe abatutsi mu 1994 \\nmuri uyu muhango wo kwibuka ku nshuro ya 27 genocide yakorwe abatutsi mu 1994  umuyobozi mukuru wa rssb regis rugema  \\n', 'rugemanshuro urged all rssb employees to always reflect on t \\n', 'rwanda social security board  rssb  has remembered its forme \\n', 'rwanda social security board  rssb  was established by the l \\n', 'rwanda through rwanda social security board  rssb  has devi \\n', 'rwanda yashimiye inkotanyi zahagaritse genocide  ashimira l \\n', 'rwanye ingengabitekerezo ya genocide kuko ihari haba mu gihu \\n', 'ry rssb employee to put member first in our daily activities \\n', 's at 86 \\n while  national coverage for  the next financial \\n', 's automated  this will transalate into significant improveme \\n', 's follows \\n', 's have equitable access to health services of high quality \\n', 's initiatives to promote access to healthcare  such as the v \\n', 's locally and in the region \\n many local companies have benef \\n', 's or accidents in the workplace \\n the benefits covered by rss \\n', 'salary and may not exceed one hundred and thirty percent  \\n', 'save for the long term   3  a\\nmember  who is no longer activ \\n', 'sb is pleased to be one of the investors in the katapult afr \\n', 'search for their rssb registration number  employer can sea \\n', 'secure and dignified retirement and do not need to depend o \\n', 'security schemes under its management to monitor  collect an \\n', 'sed several mechanisms to ensure that all rwandans access go \\n', 'ses and reimbursements for their claims by reducing the time \\n', 'several pensions or allowances  he will receive the bigger a \\n', 'shall receive a lump sum retirement allowance \\n', 'sickness allowances  incapacity social security benefits and \\n', 'simple prompts \\n', 'since 2006  in close collaboration with the ministry of heal \\n', 'sion is intended to create a permanent state of mind in whic \\n', 'sis in just 100 days \\n', 'sive restructuring and it modernization \\n', 'social security by law decides to join the scheme as an ind \\n', 'socio economic impacts on its investments \\n', 'space in kigali city  musanze  karongi  nyanza and rwamagan \\n', 'speaking at the award ceremony  the director general  regis \\n', 'speaking at the press conference at marriott hotel on friday \\n', 'speaking during the event held at norrsken house kigali on f \\n', 'ss all lingering staffing issues \\n', 'ssb to use all of its power and energy on behalf of our memb \\n', 'ssistance to employees and employers in the risk of illnesse \\n', 'st growing business communities and young  tech savvy popula \\n', 'sts of members foremost in our thinking  and to provide an a \\n', 'submitted by his her representative with a written proxy sig \\n', 'survivors  benefits \\n', 't the tutsi  that killed more than a million tutsis includin \\n', 'taken for processes to be completed \\n', 'tariki ya 6 gicurasi 2020 ubwo hatangizwa ubukangurambaga bw \\n', 'te either electronically or by post \\nfor a person who is una \\n', 'te positive social and environmental impact alongside strong \\n', 'tegera jean bosco  cbhi registration and coordination office \\n', 'th and rwanda biomedical centre  ahf rwanda has provided sig \\n', 'th rwanda health insurance fund  rama \\n this law has been am \\n', 'thanks', 'that gives rssb the responsibility to manage community base \\n', 'that he or she has fixed \\n the salary used as the basis for c \\n', 'that started in october 2019 will see most of rssb processe \\n', 'that the health facility has signed an agreement with rssb \\n', 'the 2020 customer service week theme is dream team  reflecti \\n', 'the cbhi scheme which the government of rwanda initiated in \\n', 'the community based health insurance scheme offers healthcar \\n', 'the contribution rates are 3  paid by the employer and 3  by \\n', 'the contributions \\n this salary can not increase by more that \\n', 'the contributions paid to rssb represents 15  of employee s \\n', 'the country \\n with the establishment of complexes for retail \\n', 'the culture of work is changing and the community we serve n \\n', 'the director general also reiterated his appreciation to for \\n', 'the director general also revealed that there is the body of \\n', 'the director general of rssb  regis rugemanshuro on wednesda \\n', 'the donation by aids healthcare foundation rwanda will boost \\n', 'the employee \\n', 'the employer shall pay 12 weeks  wages \\n at end of period  th \\n', 'the event held on april 29  2022  at the rssb headquarters \\n', 'the event was attended by the executive secretary of ibuka \\n', 'the families of former csr employees  rssb staff based at  h \\n', 'the full medical checking is provided under conditions  35 y \\n', 'the katapult africa accelerator program is a ground breaking \\n', 'the law provides beneficiaries of pension benefits in case t \\n', 'the medical scheme has been in place since 2001 \\n', 'the members \\n for instance  by dialling  876  employees can \\n', 'the ministry of health in collaboration with rssb has agree \\n', 'the other hand is compulsory and is only available to those \\n', 'the process for private institutions joining the medical ben \\n', 'the request for reimbursement form shall be filled by the em \\n', 'the rwandans and that led rwanda to the 1994 genocide agains \\n', 'the school construction projects across the country \\n the sch \\n', 'the selected start ups participating in katapult s accelerat \\n', 'the social security benefits offered by the branch of pensio \\n', 'the survivor s allowances are fixed percentages of salary  a \\n', 'the tutsi \\n', 'the tutsi \\n the event was orga \\n', 'the tutsi \\n the event was organised as part of the 28th comm \\n', 'ther regional or international institutions with similar mis \\n', 'these are organizations that drive change and shape transfor \\n', 'thirty  30  every three  3  years \\n', 'this ceremony was  also part of customer service week  an ev \\n', 'this event was witnessed by the deputy director general in c \\n', 'thought leader in social policy  as the leading strategic in \\n', 'tion are best placed to deliver highly scalable  highly impa \\n', 'tional id issued by nida  you can open your ejo heza account \\n', 'to attain these goals  rssb will be facilitated by three key \\n', 'to frw 14 \\n2 billion over the quarter  which is equivalent t \\n', 'to gain in operational efficiency  address technology const \\n', 'to last you for at least 20 years of expenses when you retir \\n', 'to make contributions anytime  daily  weekly  monthly  quart \\n', 'to manage and promote old age pension  survivorship benefits \\n', \"to open your child's ejo heza account  you will need to pers \\n\", 'to pay social security benefits to beneficiaries  to invest \\n', 'today  most people live for around 20 years after they are o \\n', 'tor general  regis rugemanshuro noted that the government of \\n', 'tors in domestic government securities \\n', 'tra  and minijust as well as the oag and the mps for the rol \\n', 'tribute in designing strategies for shelter  adequate nutrit \\n', 'tribute to the elaboration of social security policy  to con \\n', 'ts and survivors  benefits \\n', 'tse genocide yakorewe abatutsi \\n', 'turi rero ntabwo wavuga ko hashimishije turifuza ko ababikor \\n', 'tutsi was planned by the government and  genocide ideology w \\n', 'ty investments in each selected startup \\n', 'ty leave benefits worthfrw 427 \\n7 million were paid to rightf \\n', 'u  nyirarukundo ignatienne ushinzwe imibereho myiza y abatur \\n', 'u kiganiro yatanze yagarutse ku kamaro ko kwibuka agira ati \\n', 'u mu gukomeza bagenzi bacu mu kwiyubaka  uruhare rwacu mu ku \\n', 'ubuzima ngo genocide ihagarikwe \\n', 'uch as katapult group  norfund  sos barnebyer  on this histo \\n', 'ucted on a monthly basis and paid not later than the 10th da \\n', 'ugeza muri gicurasi 2020  abanyarwanda bangana na 79 \\n6   ari \\n', 'ugu yo kurwanya genoside  cnlg  akaba n umushyitsi mukuru  m \\n', 'ul mothers \\n', 'ulation by combining high financial returns with significant \\n', 'umunyamabanga wa leta  ushinzwe imibereho myiza y abaturage \\n', 'umunyamabanga wa leta muri minaloc  avuga ko nta muntu n umw \\n', 'umunyamabanga wa leta muri minisiteri y ubutegetsi bw igihug \\n', 'umuturage abarizwamo \\n abo mu cyiciro cya mbere bishyurirwa \\n', 'umuyobozi  mukuru wa rssb  regis rugemanshuro  yavuze ko   k \\n', 'umuyobozi mukuru wa rssb  regis rugemanshuro avuga ko mu bit \\n', 'umuyobozi mukuru wa rssb avuga ko kuba umusanzu utaratanzwe \\n', 'umuyobozi mukuru wa rssb yanashimiye inkotanyi zahagaritse g \\n', 'under medical scheme \\n', 'unerated activity  he she shall be deemed to be disabled \\n', 'unveiled a new ussd as an innovative way of improving custo \\n', \"ur child  submit your child's temporary id issued by nida an \\n\", 'ur planning and all our decision making \\n our vision is for r \\n', 'ura hifashishijwe ikoranabuhanga kuko ryabyoroheje \\n', 'uring the first round of funding \\n the lead investors in the \\n', 'urity in rwanda states that   if the beneficiary has two or \\n', 'uro ubwo yari mu kiganiro n abanyamakuru kuri uyu wa gatanu \\n', 'urwego rw igihugu rw ubwiteganyirize mu rwanda  rssb  bibuts \\n', 'useful staff contacts \\n', 'utions are a pre defined percentage of salary and are deduct \\n', 'utsa abantu kwishyura   bulk sms    gukomeza gukorana cyane \\n', 'utsi to rebuild themselves \\n', 'v in communities \\n furthermore  its girls act program fosters \\n', 'va ko bishyurira ubusa nk urubyiruko ati  njyewe ndi umusor \\n', 'vailable to eligible members on an annual basis for a total \\n', 've to which the contribution was subscribed \\n', 'vering to the members of community based health insurance in \\n', 'vestor in our chosen markets  and as a prudent but ambitious \\n', 'vice chairperson \\n', 'view our career opportunities below and click on the specifi \\n', 'voluntary insurance is when a person who is not subjected to \\n', 'voluntary scheme registration \\n', 'w fiscal year in july 2021 \\n', 'wa 2020 2021  niyo mpamvu dushishikariza abanyarwanda bose \\n', 'wa ko tubirwanya  biriya birakomeretsa  ni inshingano za bur \\n', 'wanda   africa  noted louise kanyonga \\n', 'wards this benefit \\n', 'was in memory of the 19 former caisse sociale du rwanda  csr \\n', 'ways remain in your name even if you change your job or your \\n', 'we are moving away from the time taking processes as we proc \\n', 'welfare  to advise the government on matters relating to so \\n', 'who are employed in public or private sector enterprises \\n', 'who is allowed to be a member in voluntary insurance \\n', 'wishyura  mituweli y umwaka wa 2020 2021 \\n', 'with a focus on a member first philosophy   as such  it has \\n', 'with its financial resources  rssb intends to be the trusted \\n', 'within 6 months from beginning of maternity leave \\n', 'without expecting any medical services or other benefits in \\n', 'woman who delivered \\n', 'working to achieve the financial security and health of all  \\n', 'written proxy of application for pension benefits \\n', 'y 4th november  2020 awarded 12 rssb staff with certificates \\n', 'y foreigner residing in rwanda has the right to voluntarily \\n', 'y members by employers \\n there is no employee contribution to \\n', 'y of the following month \\n', 'y such as infrastructure  financial services  hospitality  m \\n', 'ya bibuka gushimira inkotanyi banazirikana ko hari abatanze \\n', 'ya gatatu bishyura 3000 frw naho abo mu cyiciro cya kane  bo \\n', 'yacu nta wayahakana  les faits sont têtus \\n', 'yagarutse kandi ku mateka y uburyo genocide yateguwe ikanash \\n', 'yagize ati    kugeza ubu imiryango 42 777 ifite abanyamuryan \\n', 'yagize ati   inkotanyi ni ubuzima kuko hari benshi bari kuba \\n', 'yagize ati   iyo twibuka tuniyubaka  tunavuga tuti ibyabaye \\n', 'yakomeje agira ati ibihita ku mbuga nkoranyambaga ni ngomb \\n', 'yakorewe abatutsi mu 1994 \\n', 'yasabye abakozi guhangana n abakwiza ingengabitekerezo ya ge \\n', 'yasabye buri wese kwisuzuma akagira icyo yakora kugira ngo a \\n', 'yasubiza inyuma icyerekezo ubuyobozi bwatanze cy ubumwe bw \\n', 'ye ubwisungane mu kwivuza mu mwaka wa 2018 2019 \\n', 'year 2022 2023 stands at 40 \\n', 'yine imaze kwishyura umusanzu w ubwisungane mu kwivuza  mutu \\n', 'yirwa mu bikorwa \\n ashishikariza abari bitabiriye iki gikorwa \\n', 'you can also open your own ejoheza account free of cost usin \\n', 'your ejoheza account will be linked to your permanent nation \\n']\n",
            "2160 unique stemmed words: [\"''\", \"'s\", '000', '003', '03', '05', '1', '10', '100', '105', '10th', '11', '12', '130', '133', '14', '15', '150', '16', '177', '18', '186', '19', '1974', '198', '1994', '1994kuri', '1st', '2', '20', '2001', '2003', '2005', '2006', '2010', '2015', '2017', '2018', '2019', '202', '2020', '2021', '2022', '2023', '2025', '2035', '2050', '209', '20th', '21', '22', '23', '24', '25th', '27', '28', '28th', '29', '29th', '3', '30', '3000', '33', '35', '36', '399', '4', '40', '42', '427', '44', '45', '46', '4th', '5', '50', '500', '506', '528', '54', '55', '561', '576', '6', '60', '622', '639', '644', '65', '7', '700', '7000', '770', '777', '78', '79', '8', '80', '82', '822', '85', '86', '866', '876', '88', '9', '90', '909', '``', 'a', 'ababikor', 'abacits', 'abag', 'abahakana', 'abakoz', 'abakozi', 'abakwiza', 'abantu', 'abanyamakuru', 'abanyamuryan', 'abanyamuryango', 'abanyarwanda', 'abapfobya', 'abari', 'abarizwamo', 'abaroko', 'abatanz', 'abatur', 'abaturag', 'abatutsi', 'abi', 'abil', 'abishw', 'abl', 'abo', 'abon', 'about', 'abov', 'abroad', 'acceler', 'accelerat', 'accept', 'access', 'accid', 'accin', 'accompani', 'accord', 'account', 'accountabil', 'accumul', 'achiev', 'across', 'act', 'action', 'activ', 'activit', 'ad', 'add', 'addit', 'addr', 'address', 'adel', 'adelaid', 'adequ', 'administr', 'ado', 'adult', 'advanc', 'advis', 'advocaci', 'af', 'affili', 'afford', 'afr', 'africa', 'african', 'afrikamart', 'after', 'agaciro', 'agai', 'again', 'against', 'age', 'agenc', 'agent', 'agira', 'ago', 'agocommun', 'agorssb', 'agre', 'agreement', 'agri', 'agroservic', 'ah', 'ahf', 'ahfkigali', 'ahishakiy', 'aho', 'ai', 'aid', 'aign', 'aim', 'airtel', 'akaba', 'akagera', 'akagira', 'akany', 'akunda', 'al', 'alcul', 'align', 'all', 'allevi', 'alli', 'allow', 'alongsid', 'alreadi', 'also', 'alway', 'am', 'amabwiriza', 'amafaranga', 'amateka', 'amb', 'ambaga', 'ambiti', 'amili', 'among', 'amount', 'amuryango', 'an', 'anashimira', 'anchor', 'and', 'anda', 'andet', 'andi', 'angurambaga', 'ani', 'aniz', 'announc', 'annual', 'anticip', 'anufactur', 'anyon', 'anytim', 'anywher', 'anz', 'apit', 'appli', 'applic', 'applicatio', 'appreci', 'appropri', 'approv', 'april', 'aquarech', 'arch', 'ard', 'are', 'ari', 'arket', 'around', 'articl', 'artner', 'as', 'asaba', 'asanga', 'ashimira', 'ashishikariza', 'asid', 'asset', 'assign', 'asubiza', 'at', 'ate', 'atern', 'ati', 'ation', 'attain', 'attend', 'attent', 'audit', 'august', 'author', 'autom', 'automat', 'autonomi', 'ava', 'avail', 'availab', 'avuga', 'aw', 'award', 'away', 'azard', 'azifashishwa', 'b', 'ba', 'bacu', 'badafit', 'badakomeza', 'bafit', 'bagenzi', 'bagera', 'bagira', 'bahoz', 'baka', 'bakavuga', 'bakigejej', 'bakorera', 'bakoreraga', 'bakozi', 'bakum', 'bakuy', 'bamaz', 'banagerageza', 'banazirikana', 'bandi', 'bangana', 'bank', 'barakangurirwa', 'bari', 'barneby', 'base', 'basi', 'basic', 'batakibufit', 'batarwara', 'bateranira', 'bazabash', 'baziri', 'be', 'bec', 'becaus', 'becom', 'been', 'begin', 'behalf', 'believ', 'below', 'ben', 'benef', 'benefi', 'beneficiari', 'benefit', 'benshi', 'best', 'better', 'betti', 'biba', 'bibuka', 'bibut', 'bibuts', 'bid', 'bifashishij', 'bigaragaz', 'bigatuma', 'bigger', 'biggest', 'bijyana', 'bikenew', 'bikorwa', 'bil', 'bill', 'billion', 'biomed', 'birakomeretsa', 'biriya', 'bishw', 'bishyu', 'bishyura', 'bishyurira', 'bishyurirwa', 'bit', 'bitabiriy', 'bitandukany', 'bitew', 'biyubaka', 'blair', 'ble', 'bo', 'boar', 'board', 'bodi', 'bonyin', 'boost', 'bosco', 'bose', 'both', 'branch', 'break', 'bring', 'browser', 'bscription', 'bugufi', 'bulk', 'bumva', 'bur', 'burden', 'buri', 'burial', 'burimo', 'busa', 'bushishikariza', 'busi', 'but', 'butandukany', 'button', 'bw', 'bwakomej', 'bwatanz', 'bwib', 'bwâ', 'by', 'byagenz', 'byakorwa', 'byakorwaga', 'byatangajw', 'bye', 'byinshi', 'byitezw', 'byiza', 'byo', 'bâ', 'c', 'ca', 'cabinet', 'caiss', 'calcul', 'call', 'camp', 'campaign', 'can', 'capac', 'capit', 'car', 'card', 'care', 'career', 'case', 'cash', 'categori', 'caus', 'cbhi', 'cbo', 'ccess', 'ce', 'celebr', 'center', 'centr', 'central', 'centric', 'ceo', 'ceremoni', 'certif', 'chairperson', 'challeng', 'champion', 'chang', 'channel', 'charg', 'check', 'ched', 'cheme', 'chequ', 'child', 'children', 'choic', 'chosen', 'cial', 'cio', 'citi', 'citizen', 'civil', 'claim', 'class', 'clear', 'cleva', 'click', 'client', 'climat', 'close', 'closer', 'cnlg', 'co', 'cohort', 'collabor', 'collect', 'com', 'combin', 'come', 'comm', 'commemor', 'commit', 'commun', 'compa', 'compani', 'comparison', 'compet', 'complet', 'complex', 'complianc', 'comprehen', 'compulsori', 'comput', 'con', 'concern', 'condit', 'condom', 'conduct', 'confer', 'confid', 'const', 'construct', 'consula', 'contact', 'continu', 'contr', 'contrib', 'contribut', 'contributi', 'contributor', 'control', 'coop', 'cooper', 'coordin', 'copi', 'core', 'cornerston', 'corpor', 'correct', 'cost', 'countri', 'courag', 'cov', 'cover', 'coverag', 'covid', 'creat', 'creativ', 'credit', 'crisi', 'criteria', 'critic', 'cs', 'csr', 'cted', 'ctful', 'ctive', 'cu', 'cultur', 'curiti', 'current', 'custo', 'custom', 'cut', 'cy', 'cya', 'cyan', 'cyangwa', 'cyatumy', 'cyiciro', 'cyo', 'd', 'da', 'daili', 'damascèn', 'danger', 'dard', 'dare', 'data', 'date', 'day', 'de', 'deadlin', 'deal', 'dec', 'deceas', 'decid', 'decis', 'declar', 'ded', 'dedic', 'deduct', 'deem', 'defin', 'deli', 'delight', 'deliv', 'deliveri', 'deliveryth', 'dential', 'depart', 'depend', 'deploy', 'deputi', 'der', 'design', 'detail', 'determin', 'deve', 'develop', 'devi', 'dg', 'dial', 'diall', 'did', 'die', 'differ', 'difficult', 'digit', 'dignifi', 'digniti', 'dignitylearn', 'direc', 'direct', 'director', 'disabl', 'discrimin', 'distribut', 'district', 'divid', 'dividend', 'divis', 'do', 'document', 'doe', 'domest', 'don', 'donat', 'done', 'doubl', 'dr', 'dream', 'drive', 'driven', 'drop', 'drug', 'ds', 'du', 'dub', 'due', 'dufitany', 'duhashy', 'duli', 'dure', 'dushishikariza', 'dusub', 'duti', 'e', 'each', 'eadquart', 'ealth', 'ear', 'earli', 'earlier', 'econom', 'economi', 'ecosi', 'ect', 'ection', 'ecur', 'ed', 'edg', 'educ', 'ee', 'eed', 'eff', 'effect', 'effici', 'efit', 'eganyijw', 'eir', 'either', 'eiv', 'ejo', 'ejoheza', 'ejohezastart', 'elabor', 'electron', 'elig', 'ell', 'els', 'elucid', 'em', 'embark', 'embassi', 'eme', 'emerg', 'emium', 'emmanuel', 'emor', 'employ', 'employe', 'enabl', 'encou', 'encourag', 'end', 'enefit', 'ener', 'energi', 'engag', 'enhanc', 'enjoy', 'enocid', 'enough', 'enrol', 'ensur', 'ent', 'enter', 'enterpris', 'entitl', 'environment', 'envis', 'epres', 'eputi', 'equ', 'equal', 'equi', 'equit', 'equiti', 'equival', 'er', 'era', 'erat', 'ereyeho', 'eri', 'erli', 'ernment', 'es', 'ese', 'esent', 'especi', 'ess', 'essenti', 'establish', 'estat', 'esult', 'eta', 'ev', 'eve', 'even', 'event', 'ever', 'everag', 'everi', 'everyon', 'everyth', 'exceed', 'excel', 'excellenc', 'except', 'exchang', 'execut', 'exercis', 'expect', 'expens', 'experi', 'express', 'extend', 'extens', 'eza', 'f', 'fa', 'fac', 'face', 'facil', 'facilit', 'fait', 'famili', 'faster', 'februari', 'feedback', 'feel', 'fellow', 'few', 'fficienc', 'ffiliat', 'fiel', 'fifteen', 'fight', 'fill', 'final', 'financ', 'financi', 'first', 'fiscal', 'five', 'fix', 'flourish', 'fo', 'focu', 'fol', 'follow', 'followi', 'food', 'for', 'forc', 'fordabl', 'forefront', 'foreign', 'foremost', 'form', 'formalis', 'former', 'forward', 'foster', 'found', 'foundat', 'founder', 'fr', 'fran', 'fraud', 'free', 'friday', 'friendli', 'from', 'frw', 'frw1', 'fuel', 'fulfil', 'full', 'fulli', 'function', 'fund', 'funer', 'funni', 'further', 'furthermor', 'futur', 'futurelearn', 'g', 'gacandaga', 'gain', 'gakwaya', 'gasabo', 'gasanabo', 'gatanu', 'gatatu', 'ge', 'gen', 'gender', 'gener', 'genera', 'genocid', 'genosid', 'genzi', 'get', 'gett', 'ghana', 'gicurasi', 'gihe', 'gihu', 'gihugu', 'gikorwa', 'gipimo', 'girl', 'give', 'given', 'global', 'go', 'goal', 'good', 'goodby', 'govern', 'grace', 'grant', 'grassroot', 'grate', 'great', 'greatest', 'green', 'gricd', 'ground', 'group', 'grow', 'growagr', 'gs', 'gu', 'guardian', 'guardianship', 'guhangana', 'guid', 'gukangurira', 'gukerensa', 'gukomeza', 'gukorana', 'gukorwa', 'gusa', 'gushimira', 'gushishikariza', 'gutanga', 'gutegereza', 'h', 'ha', 'haba', 'had', 'hafi', 'hakuweho', 'half', 'hamw', 'hand', 'hanubahirizwa', 'hanz', 'happen', 'happi', 'haracyari', 'hardship', 'harg', 'hari', 'hashimishij', 'hashingiw', 'hasigay', 'hat', 'hataba', 'hatangir', 'hatangizwa', 'have', 'hazakorwa', 'hazard', 'hazardsw', 'he', 'hea', 'headquart', 'heal', 'health', 'healthcar', 'healthier', 'heart', 'held', 'hello', 'help', 'heme', 'her', 'here', 'hey', 'hez', 'heza', 'hf', 'hi', 'hifashishijw', 'high', 'highli', 'hile', 'hindranc', 'histo', 'histori', 'hitimana', 'hiv', 'ho', 'holid', 'home', 'homegrown', 'hon', 'honorari', 'hose', 'hospit', 'hotel', 'hous', 'household', 'how', 'howev', 'human', 'hundr', 'huro', 'hurt', 'huy', 'hyura', 'i', 'ibanz', 'ibe', 'ibi', 'ibibi', 'ibihita', 'ibihumbi', 'ibikorwa', 'ibindi', 'ibinyoma', 'ibuka', 'ibyabay', 'ic', 'ica', 'icar', 'ich', 'ict', 'icumu', 'icyerekezo', 'icyifuzo', 'icyo', 'id', 'ide', 'ident', 'ideolog', 'iend', 'if', 'ifficult', 'ifit', 'ighli', 'igih', 'igihango', 'igihug', 'igihugu', 'ignatienn', 'ihagarikw', 'ihari', 'ijana', 'ikanash', 'iki', 'ikibazo', 'ikigamijw', 'ikigo', 'ikinabakorera', 'ikitari', 'ikoranabuhanga', 'ilit', 'ill', 'illness', 'imag', 'imaz', 'imbuga', 'imibereho', 'iminsi', 'imiryago', 'imiryango', 'impa', 'impact', 'implement', 'import', 'impos', 'improv', 'improvem', 'improvi', 'imw', 'imyumvir', 'in', 'incap', 'incapac', 'includ', 'includin', 'incom', 'incr', 'increas', 'ind', 'indangururamajwi', 'individu', 'inequ', 'inform', 'infrastructur', 'ing', 'ingabir', 'ingamba', 'ingengabitekerezo', 'initi', 'inkotanyi', 'innov', 'inshingano', 'inspect', 'inspir', 'instanc', 'institut', 'institutiona', 'instructi', 'insur', 'insuran', 'insuranc', 'integr', 'intellig', 'intend', 'intens', 'intent', 'inter', 'interest', 'intern', 'into', 'inv', 'invalid', 'invest', 'investigat', 'investor', 'involv', 'inyu', 'inyuma', 'ion', 'ir', 'ire', 'is', 'isanduku', 'ishema', 'issu', 'isungan', 'it', 'itangazamakuru', 'ite', 'item', 'ith', 'iti', 'itiou', 'iyo', 'izat', 'izaza', 'izi', 'jean', 'jo', 'job', 'joheza', 'join', 'joke', 'journey', 'juli', 'june', 'just', 'justifi', 'k', 'kabiri', 'kamaro', 'kamena', 'kana', 'kandi', 'kane', 'kanyonga', 'karongi', 'katapult', 'kayonza', 'kenya', 'kept', 'ker', 'kerets', 'key', 'kick', 'kicukiro', 'kigali', 'kiganiro', 'kigo', 'kill', 'kimw', 'kind', 'king', 'kirakangurira', 'know', 'knowledg', 'known', 'ko', 'komisiyo', 'ku', 'kuba', 'kubaba', 'kubaha', 'kubaka', 'kubera', 'kugeza', 'kugi', 'kugira', 'kugirango', 'kuj', 'kuko', 'kurangira', 'kuri', 'kurutekereza', 'kurwanya', 'kutabyihanganira', 'kuyicengeza', 'kwa', 'kwandika', 'kwi', 'kwibuka', 'kwihutira', 'kwirinda', 'kwishi', 'kwishyura', 'kwishyurira', 'kwisuzuma', 'kwivuza', 'kwiyubaka', 'l', 'laboratori', 'labour', 'lambert', 'larg', 'largest', 'last', 'later', 'latest', 'laun', 'launch', 'law', 'ld', 'le', 'lea', 'lead', 'leader', 'leadership', 'learn', 'least', 'leav', 'leaveenjoy', 'led', 'legaci', 'legend', 'less', 'leta', 'lidar', 'life', 'like', 'line', 'linger', 'link', 'linkedin', 'lion', 'list', 'liti', 'live', 'll', 'llion', 'local', 'locat', 'lodg', 'login', 'long', 'longer', 'look', 'lop', 'loss', 'lot', 'louis', 'love', 'low', 'lp', 'lth', 'lump', 'm', 'ma', 'madagascar', 'made', 'mainli', 'major', 'make', 'manag', 'mandat', 'mandatori', 'mani', 'mari', 'market', 'marriott', 'mastercard', 'mateka', 'matern', 'mation', 'matter', 'may', 'mbere', 'mbo', 'mbuga', 'me', 'mean', 'mechan', 'media', 'medic', 'medica', 'medicin', 'meet', 'meetu', 'memb', 'member', 'membership', 'memori', 'men', 'mental', 'mentor', 'mer', 'merger', 'mi', 'middl', 'mifo', 'million', 'minaloc', 'mind', 'minecofin', 'minijust', 'minisiteri', 'minist', 'ministri', 'mission', 'mitment', 'mituw', 'mlb', 'mmercial', 'mobicash', 'mobil', 'mobilis', 'model', 'modern', 'modifi', 'monitor', 'month', 'monthli', 'more', 'morocco', 'most', 'mother', 'mount', 'move', 'mp', 'mpa', 'mpamvu', 'mple', 'mtn', 'mu', 'mubar', 'much', 'mugabo', 'muganga', 'mugenzi', 'muhango', 'mukuru', 'muntu', 'munyarwanda', 'murebwayir', 'muri', 'musanz', 'mushya', 'must', 'mutangampundu', 'mutu', 'mutuel', 'mutuw', 'mvu', 'mwaka', 'my', 'myiza', 'n', 'na', 'naho', 'name', 'naphtal', 'nasitay', 'nati', 'nation', 'navuga', 'ncreas', 'nd', 'nda', 'ndets', 'ndi', 'ne', 'near', 'necessari', 'necessarili', 'ned', 'need', 'neg', 'net', 'network', 'never', 'nevertheless', 'new', 'news', 'next', 'ng', 'nge', 'ngo', 'ngomb', 'ngombwa', 'ni', 'nid', 'nida', 'nific', 'nigeria', 'nine', 'niyo', 'njyew', 'nk', \"nk'abayarwanda\", 'nko', 'nkoranyambaga', 'nkuko', 'no', 'no06', 'nocid', 'nolog', 'nomin', 'non', 'nor', 'norad', 'norfund', 'norrsken', 'norwegi', 'norwegian', 'not', 'note', 'notif', 'novemb', 'now', 'ns', 'nshuro', 'nsion', 'nst', 'nt', 'nta', 'ntabwo', 'ntibarwar', 'ntibizasubir', 'numb', 'number', 'nustad', 'nutrit', 'nyabihu', 'nyanza', 'nyarug', 'nyarugeng', 'nyirarukundo', 'nyuma', 'nº04', 'nâ', 'o', 'oag', 'obil', 'object', 'observ', 'occup', 'ocial', 'octob', 'od', 'of', 'off', 'offer', 'offic', 'offici', 'old', 'olio', 'ollect', 'ome', 'omeon', 'omot', 'on', 'onal', 'onc', 'one', 'ongo', 'onli', 'onlin', 'open', 'oper', 'opportun', 'optimist', 'or', 'order', 'org', 'orga', 'organ', 'organis', 'organiz', 'organizationâ', 'origin', 'orpha', 'orphan', 'ot', 'other', 'our', 'ousehold', 'out', 'outcom', 'outsid', 'outstand', 'over', 'overal', 'overcom', 'own', 'p', 'page', 'paid', 'paper', 'parent', 'part', 'parti', 'partial', 'particip', 'particularli', 'partner', 'passport', 'password', 'patient', 'paula', 'pay', 'payment', 'paypal', 'payrol', 'pe', 'pensio', 'pension', 'peopl', 'per', 'percent', 'percentag', 'perform', 'perfrom', 'period', 'perman', 'permit', 'person', 'philosophi', 'phone', 'physic', 'pitch', 'place', 'plaint', 'plan', 'play', 'pleas', 'ploye', 'ployer', 'plu', 'point', 'polici', 'polit', 'poor', 'pop', 'popula', 'portf', 'posit', 'post', 'poverti', 'power', 'pproach', 'pr', 'pre', 'premium', 'prescr', 'presentatio', 'preserv', 'press', 'prevent', 'previou', 'previous', 'privat', 'privileg', 'proc', 'procedur', 'proceed', 'process', 'product', 'program', 'programon', 'project', 'promis', 'promot', 'prompt', 'proof', 'proper', 'prot', 'protect', 'provi', 'provid', 'provis', 'proxi', 'prudent', 'ps', 'ption', 'public', 'purpos', 'put', 'q1', 'qualifi', 'qualiti', 'quart', 'quarter', 'quarterli', 'r', 'ra', 'rabl', 'race', 'rage', 'raint', 'rama', 'rangira', 'rate', 'ratelearn', 'ratio', 'rch', 're', 'reach', 'read', 'readi', 'real', 'reap', 'rebuild', 'rec', 'receipt', 'receiv', 'recept', 'recogn', 'recognit', 'record', 'red', 'redirect', 'reduc', 'reduct', 'reflect', 'reflecti', 'refund', 'regamanshuro', 'regardless', 'regi', 'region', 'regist', 'registr', 'regul', 'rehabilit', 'reimburs', 'reiter', 'relat', 'relev', 'relief', 'rem', 'remain', 'remark', 'rememb', 'remembr', 'remind', 'remit', 'remitt', 'remuner', 'ren', 'renew', 'rentabl', 'repr', 'repres', 'request', 'requir', 'rero', 'rescu', 'reset', 'resi', 'resid', 'residenti', 'resourc', 'respect', 'respon', 'respons', 'rest', 'restor', 'restrict', 'restructur', 'result', 'retail', 'retir', 'return', 'reveal', 'reward', 'ri', 'rical', 'riday', 'rie', 'right', 'rightf', 'rigor', 'rimari', 'riou', 'risk', 'rivisi', 'ro', 'rol', 'role', 'round', 'rpf', 'rrentli', 'rs', 'rss', 'rssb', 'rubavu', 'rugema', 'rugeman', 'rugemansh', 'rugemanshu', 'rugemanshur', 'rugemanshuro', 'rugendo', 'rugo', 'ruzadufasha', 'rw', 'rwa', 'rwabo', 'rwac', 'rwacu', 'rwamagan', 'rwamagana', 'rwand', 'rwanda', 'rwandan', 'rwany', 'rweg', 'rwego', 'rwo', 'rwâ', 'ry', 'ryabyorohej', 's', 'sacco', 'sai', 'said', 'salari', 'salarylearn', 'sale', 'same', 'sand', 'santã', 'santé', 'satisfact', 'satisfi', 'save', 'saver', 'savin', 'savvi', 'sb', 'sc', 'scalabl', 'scale', 'sch', 'scheme', 'schemegiv', 'schemeour', 'schemeretir', 'school', 'scoop', 'se', 'sea', 'seamless', 'search', 'sec', 'second', 'secretari', 'sector', 'secur', 'sed', 'see', 'seed', 'sele', 'select', 'self', 'sell', 'seneg', 'serv', 'servi', 'servic', 'session', 'settl', 'sever', 'shall', 'shape', 'she', 'shelter', 'ship', 'shorten', 'should', 'show', 'showcas', 'si', 'sick', 'side', 'sig', 'sign', 'signific', 'similar', 'simpl', 'simpli', 'simul', 'simultan', 'sinc', 'sinjya', 'sion', 'sive', 'sixteen', 'size', 'slip', 'sm', 'smart', 'so', 'social', 'societi', 'socio', 'solut', 'some', 'someon', 'someth', 'sont', 'soon', 'sourc', 'space', 'spark', 'speak', 'special', 'specifi', 'spectrum', 'speed', 'sponsor', 'spous', 'ss', 'ssb', 'ssfr', 'ssistanc', 'st', 'staf', 'staff', 'stamp', 'stan', 'stand', 'start', 'startup', 'state', 'statist', 'statu', 'statut', 'steadi', 'sti', 'stock', 'stood', 'stop', 'str', 'strateg', 'strategi', 'stream', 'strengthen', 'stress', 'strong', 'strongli', 'structur', 'su', 'subject', 'submit', 'subscrib', 'subscript', 'subsequ', 'such', 'suffici', 'suit', 'sum', 'superior', 'support', 'survivor', 'survivorship', 'swiftli', 'system', 't', 'tackl', 'tak', 'take', 'taken', 'tap', 'target', 'tariki', 'taught', 'te', 'team', 'teamwork', 'tech', 'technolog', 'tegera', 'telefon', 'tell', 'temporari', 'term', 'terribl', 'test', 'th', 'than', 'thank', 'tharald', 'that', 'the', 'their', 'them', 'theme', 'themselv', 'ther', 'there', 'therebi', 'therefor', 'these', 'they', 'thi', 'think', 'third', 'thirti', 'those', 'thought', 'thousand', 'three', 'thrill', 'through', 'tigo', 'time', 'tion', 'tional', 'to', 'today', 'togeth', 'toni', 'too', 'tor', 'total', 'touch', 'tow', 'toward', 'tra', 'train', 'transal', 'transfer', 'transfor', 'transform', 'transformati', 'transit', 'transpar', 'treatment', 'tremend', 'tribut', 'trillion', 'trust', 'ts', 'tse', 'tubirwanya', 'tukazirikana', 'tunavuga', 'tunazirikana', 'tuniyubaka', 'turi', 'turifuza', 'tut', 'tutagera', 'tuti', 'tutihanganira', 'tutsi', 'tutsirwanda', 'tuvug', 'twibuka', 'twiyubaka', 'two', 'ty', 'têtu', 'u', 'ubony', 'ubu', 'ubudeh', 'ubuk', 'ubukangur', 'ubukangurambaga', 'ubumw', 'uburyo', 'ubusa', 'ubutegetsi', 'ubutumwa', 'ubuvuzi', 'ubuyobozi', 'ubuyozi', 'ubuzima', 'ubw', 'ubwish', 'ubwishingizi', 'ubwisungan', 'ubwiteganyir', 'ubwiza', 'ubwo', 'uch', 'uct', 'ugakurikiza', 'ugereranyij', 'ugeza', 'ugisub', 'ugomba', 'ugu', 'uhagarariy', 'ukanda', 'uko', 'ul', 'ulat', 'umuni', 'umunyamabanga', 'umusanzu', 'umushyitsi', 'umusor', 'umuturag', 'umuyobozi', 'umw', 'umwaka', 'una', 'under', 'understand', 'uner', 'uniqu', 'unit', 'uniti', 'unlock', 'unplan', 'unsalari', 'unveil', 'up', 'upgrad', 'uphold', 'upon', 'upper', 'ur', 'ura', 'urangirana', 'ure', 'urg', 'uriti', 'uro', 'urubyiruko', 'urug', 'urugo', 'uruh', 'uruhar', 'urwego', 'us', 'usabwa', 'use', 'user', 'ushinzw', 'ushobora', 'usin', 'ussd', 'utaratanzw', 'ution', 'utsa', 'utsi', 'uvuyemo', 'uwagerageza', 'uwah', 'uwakerew', 'uwatinyuka', 'uwo', 'uyu', 'uzajya', 'v', 'va', 'vaccin', 'vailabl', 'valu', 'variou', 've', 'vere', 'veri', 'vestor', 'vetsak', 'vi', 'via', 'vice', 'victim', 'view', 'visio', 'vision', 'visit', 'voluntari', 'voluntarili', 'vow', 'vuba', 'vuln', 'w', 'wa', 'wabihakana', 'wage', 'wanda', 'want', 'ward', 'wari', 'watch', 'wavuga', 'way', 'wayahakana', 'we', 'web', 'wednesda', 'wednesday', 'week', 'weekli', 'welfar', 'well', 'were', 'wese', 'wh', 'what', 'when', 'where', 'wherea', 'whic', 'which', 'while', 'who', 'whom', 'wi', 'will', 'wish', 'wishyura', 'wit', 'with', 'within', 'without', 'wiyong', 'wo', 'woman', 'women', 'wor', 'word', 'work', 'worker', 'workin', 'workplac', 'workshop', 'world', 'worth', 'worthfrw', 'would', 'written', 'wâ', 'y', 'ya', 'yacu', 'yacyo', 'yadusubiza', 'yagaruts', 'yagiz', 'yakomej', 'yakomeretsa', 'yakora', 'yakorew', 'yakorey', 'yakorw', 'yakwandika', 'yanashimiy', 'yari', 'yasaby', 'yashimiy', 'yasubiza', 'yatanz', 'yateguw', 'yavuz', 'ye', 'year', 'yet', 'yibuka', 'yibuts', 'yine', 'yirwa', 'yo', 'yon', 'yonyin', 'you', 'youlearn', 'young', 'your', 'youth', 'youtub', 'yâ', 'z', 'za', 'zahagarits', 'zarafashw', 'zibitera', 'zo', 'zose', 'â']\n",
            "2160 861\n",
            "Epoch [100/1000], Loss: 0.0000\n",
            "Epoch [200/1000], Loss: 0.0000\n",
            "Epoch [300/1000], Loss: 0.0011\n",
            "Epoch [400/1000], Loss: 0.0000\n",
            "Epoch [500/1000], Loss: 0.0000\n",
            "Epoch [600/1000], Loss: 0.0000\n",
            "Epoch [700/1000], Loss: 0.0000\n",
            "Epoch [800/1000], Loss: 0.0000\n",
            "Epoch [900/1000], Loss: 0.0000\n",
            "Epoch [1000/1000], Loss: 0.0000\n",
            "final loss: 0.0000\n",
            "training complete. file saved to data.pth\n"
          ]
        }
      ],
      "source": [
        "!python train.py"
      ]
    },
    {
      "cell_type": "markdown",
      "source": [
        "## PART FOR SAVING THE TEXT WHICH RETURN NOT UNDERSTANDING\n",
        "\n",
        "*   Here I will using mongodb as online db \n",
        "*   save data in our db  \n",
        "*   use threading to help the client not to wait much and even run in background\n",
        "\n",
        "\n",
        "\n",
        "\n",
        "\n"
      ],
      "metadata": {
        "id": "rqgCNxMll8wj"
      }
    },
    {
      "cell_type": "code",
      "source": [
        "# install pymongo for help us in collaboration with mongodb\n",
        "!pip install pymongo"
      ],
      "metadata": {
        "colab": {
          "base_uri": "https://localhost:8080/"
        },
        "id": "fNI2hVkpmkox",
        "outputId": "291ea643-edea-4669-cefe-a6c853fa8e3a"
      },
      "execution_count": 104,
      "outputs": [
        {
          "output_type": "stream",
          "name": "stdout",
          "text": [
            "Looking in indexes: https://pypi.org/simple, https://us-python.pkg.dev/colab-wheels/public/simple/\n",
            "Requirement already satisfied: pymongo in /usr/local/lib/python3.8/dist-packages (4.3.3)\n",
            "Requirement already satisfied: dnspython<3.0.0,>=1.16.0 in /usr/local/lib/python3.8/dist-packages (from pymongo) (2.2.1)\n"
          ]
        }
      ]
    },
    {
      "cell_type": "markdown",
      "source": [
        "use our model that trained"
      ],
      "metadata": {
        "id": "IdFesOs_glQP"
      }
    },
    {
      "cell_type": "code",
      "execution_count": 49,
      "metadata": {
        "colab": {
          "base_uri": "https://localhost:8080/"
        },
        "id": "9EcJFr5oo0oL",
        "outputId": "dd0212e0-5271-44e5-9099-e077ed860850"
      },
      "outputs": [
        {
          "output_type": "stream",
          "name": "stdout",
          "text": [
            "Let's chat! (type 'quit' to exit)\n"
          ]
        }
      ],
      "source": [
        "import random\n",
        "import json\n",
        "\n",
        "import torch\n",
        "\n",
        "from model import NeuralNet\n",
        "from nltk_utils import bag_of_words, tokenize\n",
        "\n",
        "device = torch.device('cuda' if torch.cuda.is_available() else 'cpu')\n",
        "\n",
        "with open('intents.json', 'r') as json_data:\n",
        "    intents = json.load(json_data)\n",
        "\n",
        "FILE = \"data.pth\"\n",
        "data = torch.load(FILE)\n",
        "\n",
        "input_size = data[\"input_size\"]\n",
        "hidden_size = data[\"hidden_size\"]\n",
        "output_size = data[\"output_size\"]\n",
        "all_words = data['all_words']\n",
        "tags = data['tags']\n",
        "model_state = data[\"model_state\"]\n",
        "\n",
        "model = NeuralNet(input_size, hidden_size, output_size).to(device)\n",
        "model.load_state_dict(model_state)\n",
        "model.eval()\n",
        "\n",
        "bot_name = \"Oscar\"\n",
        "print(\"Let's chat! (type 'quit' to exit)\")\n",
        "\n",
        "def query(question : str):\n",
        "  # sentence = \"do you use credit cards?\"\n",
        "  sentence = question\n",
        "\n",
        "  sentence = tokenize(sentence)\n",
        "  X = bag_of_words(sentence, all_words)\n",
        "  X = X.reshape(1, X.shape[0])\n",
        "  X = torch.from_numpy(X).to(device)\n",
        "\n",
        "  output = model(X)\n",
        "  _, predicted = torch.max(output, dim=1)\n",
        "\n",
        "  tag = tags[predicted.item()]\n",
        "\n",
        "  probs = torch.softmax(output, dim=1)\n",
        "  prob = probs[0][predicted.item()]\n",
        "  if prob.item() > 0.75:\n",
        "      for intent in intents['intents']:\n",
        "          if tag == intent[\"tag\"]:\n",
        "              return f\"{bot_name}: {random.choice(intent['responses'])}\"\n",
        "  else:\n",
        "    return f\"{bot_name}: I do not understand...\""
      ]
    },
    {
      "cell_type": "code",
      "execution_count": 69,
      "metadata": {
        "id": "HPAcUvEXqa19"
      },
      "outputs": [],
      "source": [
        "response = query('how can I RSSB also recorded a net return on its investments amounting')"
      ]
    },
    {
      "cell_type": "code",
      "execution_count": null,
      "metadata": {
        "id": "eXS_ppU6qh-2"
      },
      "outputs": [],
      "source": [
        "response"
      ]
    },
    {
      "cell_type": "markdown",
      "source": [
        "### setup language detection Api"
      ],
      "metadata": {
        "id": "NJ5WbL83gssC"
      }
    },
    {
      "cell_type": "code",
      "source": [
        "!pip install detectlanguage"
      ],
      "metadata": {
        "colab": {
          "base_uri": "https://localhost:8080/"
        },
        "id": "W8_-icHygrdS",
        "outputId": "befd96b0-cc3e-483e-9ce9-a8ee1af77acd"
      },
      "execution_count": 72,
      "outputs": [
        {
          "output_type": "stream",
          "name": "stdout",
          "text": [
            "Looking in indexes: https://pypi.org/simple, https://us-python.pkg.dev/colab-wheels/public/simple/\n",
            "Collecting detectlanguage\n",
            "  Downloading detectlanguage-1.5.0.tar.gz (3.2 kB)\n",
            "Requirement already satisfied: requests>=2.4.2 in /usr/local/lib/python3.8/dist-packages (from detectlanguage) (2.23.0)\n",
            "Requirement already satisfied: urllib3!=1.25.0,!=1.25.1,<1.26,>=1.21.1 in /usr/local/lib/python3.8/dist-packages (from requests>=2.4.2->detectlanguage) (1.24.3)\n",
            "Requirement already satisfied: chardet<4,>=3.0.2 in /usr/local/lib/python3.8/dist-packages (from requests>=2.4.2->detectlanguage) (3.0.4)\n",
            "Requirement already satisfied: idna<3,>=2.5 in /usr/local/lib/python3.8/dist-packages (from requests>=2.4.2->detectlanguage) (2.10)\n",
            "Requirement already satisfied: certifi>=2017.4.17 in /usr/local/lib/python3.8/dist-packages (from requests>=2.4.2->detectlanguage) (2022.12.7)\n",
            "Building wheels for collected packages: detectlanguage\n",
            "  Building wheel for detectlanguage (setup.py) ... \u001b[?25l\u001b[?25hdone\n",
            "  Created wheel for detectlanguage: filename=detectlanguage-1.5.0-py3-none-any.whl size=3172 sha256=5fdc78899e8b764f819f2e2fba35addd06f636b6a3bbddab996c8ed51286304c\n",
            "  Stored in directory: /root/.cache/pip/wheels/d6/09/22/66f7b01cb9fbc9c0a77311e1d7e80cd294f0c6ab5a445e0d1a\n",
            "Successfully built detectlanguage\n",
            "Installing collected packages: detectlanguage\n",
            "Successfully installed detectlanguage-1.5.0\n"
          ]
        }
      ]
    },
    {
      "cell_type": "markdown",
      "source": [
        "initialize and use detectlanguage package by using detect language api"
      ],
      "metadata": {
        "id": "hvhlevkPipcs"
      }
    },
    {
      "cell_type": "code",
      "source": [
        "import detectlanguage\n",
        "\n",
        "detectlanguage.configuration.api_key = \"590ae4dbc1cce997e61dc9d1841e9fce\"\n",
        "\n",
        "# Enable secure mode (SSL) if you are passing sensitive data\n",
        "detectlanguage.configuration.secure = True"
      ],
      "metadata": {
        "id": "Thmd4RUtg3kt"
      },
      "execution_count": 82,
      "outputs": []
    },
    {
      "cell_type": "markdown",
      "source": [
        "create function to detect our langauge"
      ],
      "metadata": {
        "id": "QzawCWSkhGv1"
      }
    },
    {
      "cell_type": "code",
      "source": [
        "def detect_lang_text(text_to_detect):\n",
        "  text_detect = detectlanguage.detect(text_to_detect)\n",
        "  text_lang = ''\n",
        "  text_conf = 0\n",
        "  text_isReliable = False\n",
        "  for t in text_detect:\n",
        "    if t['confidence'] > text_conf and t['isReliable'] == True:\n",
        "      text_lang = t['language']\n",
        "      text_conf = t['confidence']\n",
        "      text_isReliable = t['isReliable']\n",
        "  return text_lang"
      ],
      "metadata": {
        "id": "wxp6KNmOhLhg"
      },
      "execution_count": 97,
      "outputs": []
    },
    {
      "cell_type": "code",
      "execution_count": 71,
      "metadata": {
        "id": "Jx-Vpw-cqjDF",
        "colab": {
          "base_uri": "https://localhost:8080/"
        },
        "outputId": "e1e8c13b-08b9-4f3a-ed3a-a56341fb3f39"
      },
      "outputs": [
        {
          "output_type": "stream",
          "name": "stdout",
          "text": [
            "Looking in indexes: https://pypi.org/simple, https://us-python.pkg.dev/colab-wheels/public/simple/\n",
            "Requirement already satisfied: langdetect in /usr/local/lib/python3.8/dist-packages (1.0.9)\n",
            "Requirement already satisfied: six in /usr/local/lib/python3.8/dist-packages (from langdetect) (1.15.0)\n"
          ]
        }
      ],
      "source": [
        "!pip install langdetect # this is only we help us to translate our text as have some weakeness in translation"
      ]
    },
    {
      "cell_type": "code",
      "execution_count": 98,
      "metadata": {
        "id": "6oYOqyHWqsbj"
      },
      "outputs": [],
      "source": [
        "\n",
        "import requests\n",
        "import json\n",
        "\n",
        "\n",
        "class translator:\n",
        "    api_url = \"https://translate.googleapis.com/translate_a/single\"\n",
        "    client = \"?client=gtx&dt=t\"\n",
        "    dt = \"&dt=t\"\n",
        "\n",
        "    #fROM English to Kinyarwanda\n",
        "    def translate(text : str , target_lang : str, source_lang : str):\n",
        "        sl = f\"&sl={source_lang}\"\n",
        "        tl = f\"&tl={target_lang}\"\n",
        "        r = requests.get(translator.api_url+ translator.client + translator.dt + sl + tl + \"&q=\" + text)\n",
        "        return json.loads(r.text)[0][0][0]"
      ]
    },
    {
      "cell_type": "code",
      "execution_count": 99,
      "metadata": {
        "id": "csTAAZRUq2h4"
      },
      "outputs": [],
      "source": [
        "resp = translator.translate(text='Mpereza amakuru yerekeye Belise', target_lang='fr', source_lang='rw')"
      ]
    },
    {
      "cell_type": "code",
      "execution_count": 56,
      "metadata": {
        "colab": {
          "base_uri": "https://localhost:8080/",
          "height": 36
        },
        "id": "3TsKr7gqq4Y4",
        "outputId": "45cdd825-ce26-4ad8-d77c-dcca13f86229"
      },
      "outputs": [
        {
          "output_type": "execute_result",
          "data": {
            "text/plain": [
              "'Je recherche des informations sur Belize'"
            ],
            "application/vnd.google.colaboratory.intrinsic+json": {
              "type": "string"
            }
          },
          "metadata": {},
          "execution_count": 56
        }
      ],
      "source": [
        "resp"
      ]
    },
    {
      "cell_type": "code",
      "execution_count": 100,
      "metadata": {
        "id": "yDPOxXDlq64I"
      },
      "outputs": [],
      "source": [
        "from langdetect import detect\n",
        "def process_question(text : str):\n",
        "  source_lang = detect_lang_text(text) \n",
        "  if len(source_lang) > 0:\n",
        "    resp = translator.translate(text=text, target_lang='en', source_lang=source_lang)\n",
        "    return resp, source_lang\n",
        "  else:\n",
        "    source_lang = detect(text)\n",
        "    resp = translator.translate(text=text, target_lang='en', source_lang=source_lang)\n",
        "    return resp, source_lang\n",
        "\n",
        "def process_answer(text : str, source_lang):\n",
        "  resp = translator.translate(text=text, target_lang=source_lang, source_lang='en')\n",
        "  return resp"
      ]
    },
    {
      "cell_type": "code",
      "execution_count": 103,
      "metadata": {
        "colab": {
          "base_uri": "https://localhost:8080/",
          "height": 36
        },
        "id": "zRXcmAr2rPBs",
        "outputId": "93e359a4-fa8d-4d9e-cb49-0375ddc1f33c"
      },
      "outputs": [
        {
          "output_type": "execute_result",
          "data": {
            "text/plain": [
              "'Oscar: I do not understand...'"
            ],
            "application/vnd.google.colaboratory.intrinsic+json": {
              "type": "string"
            }
          },
          "metadata": {},
          "execution_count": 103
        }
      ],
      "source": [
        "def process(QUESTION: str):\n",
        "  USER_QUERY, SL = process_question(QUESTION) #Translate the original question into english and store the source lang\n",
        "  RESPONSE = query(USER_QUERY) #Asking th chatbot question\n",
        "  ORIGINAL_RESPONSE = process_answer(RESPONSE, SL)\n",
        "  return ORIGINAL_RESPONSE\n",
        "a = 'hello there'\n",
        "process(a.lower())"
      ]
    },
    {
      "cell_type": "markdown",
      "metadata": {
        "id": "0Cv4ISuovB22"
      },
      "source": [
        "#FAST API"
      ]
    },
    {
      "cell_type": "code",
      "execution_count": 59,
      "metadata": {
        "id": "ug6nvYdTvCZM",
        "colab": {
          "base_uri": "https://localhost:8080/"
        },
        "outputId": "b81203a2-3f63-4d85-a522-b765428a63be"
      },
      "outputs": [
        {
          "output_type": "stream",
          "name": "stdout",
          "text": [
            "Looking in indexes: https://pypi.org/simple, https://us-python.pkg.dev/colab-wheels/public/simple/\n",
            "Requirement already satisfied: fastapi in /usr/local/lib/python3.8/dist-packages (0.88.0)\n",
            "Requirement already satisfied: pyngrok in /usr/local/lib/python3.8/dist-packages (5.2.1)\n",
            "Requirement already satisfied: uvicorn in /usr/local/lib/python3.8/dist-packages (0.20.0)\n",
            "Requirement already satisfied: nest-asyncio in /usr/local/lib/python3.8/dist-packages (1.5.6)\n",
            "Requirement already satisfied: starlette==0.22.0 in /usr/local/lib/python3.8/dist-packages (from fastapi) (0.22.0)\n",
            "Requirement already satisfied: pydantic!=1.7,!=1.7.1,!=1.7.2,!=1.7.3,!=1.8,!=1.8.1,<2.0.0,>=1.6.2 in /usr/local/lib/python3.8/dist-packages (from fastapi) (1.10.2)\n",
            "Requirement already satisfied: anyio<5,>=3.4.0 in /usr/local/lib/python3.8/dist-packages (from starlette==0.22.0->fastapi) (3.6.2)\n",
            "Requirement already satisfied: typing-extensions>=3.10.0 in /usr/local/lib/python3.8/dist-packages (from starlette==0.22.0->fastapi) (4.4.0)\n",
            "Requirement already satisfied: sniffio>=1.1 in /usr/local/lib/python3.8/dist-packages (from anyio<5,>=3.4.0->starlette==0.22.0->fastapi) (1.3.0)\n",
            "Requirement already satisfied: idna>=2.8 in /usr/local/lib/python3.8/dist-packages (from anyio<5,>=3.4.0->starlette==0.22.0->fastapi) (2.10)\n",
            "Requirement already satisfied: PyYAML in /usr/local/lib/python3.8/dist-packages (from pyngrok) (6.0)\n",
            "Requirement already satisfied: click>=7.0 in /usr/local/lib/python3.8/dist-packages (from uvicorn) (7.1.2)\n",
            "Requirement already satisfied: h11>=0.8 in /usr/local/lib/python3.8/dist-packages (from uvicorn) (0.9.0)\n"
          ]
        }
      ],
      "source": [
        "!pip install fastapi pyngrok uvicorn nest-asyncio"
      ]
    },
    {
      "cell_type": "code",
      "execution_count": 60,
      "metadata": {
        "colab": {
          "base_uri": "https://localhost:8080/"
        },
        "id": "ygyuu4JVvEPT",
        "outputId": "25f96bac-6105-4cd2-92ef-d2b69d44c365"
      },
      "outputs": [
        {
          "output_type": "stream",
          "name": "stdout",
          "text": [
            "Authtoken saved to configuration file: /root/.ngrok2/ngrok.yml\n"
          ]
        }
      ],
      "source": [
        "!ngrok authtoken 2HJTD4eU4nX4kqE0VD1YVDlysnq_4pvNxMFU5pe3Q4ERkSeHP"
      ]
    },
    {
      "cell_type": "code",
      "execution_count": 61,
      "metadata": {
        "id": "QrIK3-VbvMBu"
      },
      "outputs": [],
      "source": [
        "from fastapi import FastAPI, Request\n",
        "from fastapi.responses import HTMLResponse\n",
        "from IPython.core.interactiveshell import asyncio\n",
        "import uvicorn\n",
        "from fastapi.templating import Jinja2Templates\n",
        "from fastapi.staticfiles import StaticFiles\n",
        "from fastapi.middleware.cors import CORSMiddleware\n",
        "import schemas\n",
        "app = FastAPI()\n",
        "origins = [\"*\"]\n",
        "\n",
        "app.add_middleware(\n",
        "    CORSMiddleware,\n",
        "    allow_origins=origins,\n",
        "    allow_credentials=True,\n",
        "    allow_methods=[\"*\"],\n",
        "    allow_headers=[\"*\"],\n",
        ")\n",
        "\n",
        "templates = Jinja2Templates(directory='/content/templates')\n",
        "app.mount(\"/content/static\", StaticFiles(directory=\"/content/static\"), name=\"static\")\n",
        "\n",
        "\n",
        "# storage = FastAPI(title='FASTAPI')\n",
        "# fakeDatabase = {\n",
        "#     1: {'task': \"hello\"},\n",
        "# }\n",
        "\n",
        "@app.get('/', response_class=HTMLResponse)\n",
        "def home(request: Request):\n",
        "    return templates.TemplateResponse(\"base.html\", {\"request\": request})\n",
        "@app.post(\"/predict\")\n",
        "async def predict(item: schemas.Item):\n",
        "    response = process(item.message)\n",
        "    message = {\"answer\": response}\n",
        "    return message\n",
        "\n",
        "\n",
        "\n",
        "# @storage.get('/')\n",
        "# async def index():\n",
        "#   return {\"data\": \"successfully\"}\n",
        "# @storage.get(\"/{lang}\")\n",
        "# async def getItem(lang: str):\n",
        "#   if lang:\n",
        "#     sol = process(lang)\n",
        "#     new_id = len(fakeDatabase.keys()) + 1\n",
        "#     fakeDatabase[new_id] = {'task': sol}\n",
        "#     return fakeDatabase\n",
        "#   else:\n",
        "#     return {\"data\": \"failed\"}\n",
        "\n",
        "  "
      ]
    },
    {
      "cell_type": "code",
      "execution_count": 62,
      "metadata": {
        "colab": {
          "base_uri": "https://localhost:8080/"
        },
        "id": "2vZQw7JovSeF",
        "outputId": "05e7f302-ef04-49db-e7fe-16b73265cd2e"
      },
      "outputs": [
        {
          "output_type": "stream",
          "name": "stderr",
          "text": [
            "INFO:     Started server process [1048]\n",
            "INFO:     Waiting for application startup.\n",
            "INFO:     Application startup complete.\n",
            "INFO:     Uvicorn running on http://127.0.0.1:8000 (Press CTRL+C to quit)\n"
          ]
        },
        {
          "output_type": "stream",
          "name": "stdout",
          "text": [
            "REST API started\n",
            "Your public API URL: http://61d0-34-80-25-154.ngrok.io\n",
            "You can for example open the following URL in your browser: http://61d0-34-80-25-154.ngrok.io?target_lang=en&text=Hallo%20Welt\n",
            "INFO:     2c0f:eb68:203:3c00:341e:a6d7:d482:9c18:0 - \"GET / HTTP/1.1\" 200 OK\n",
            "INFO:     2c0f:eb68:203:3c00:341e:a6d7:d482:9c18:0 - \"GET /images/chatbox-icon.svg HTTP/1.1\" 200 OK\n",
            "INFO:     2c0f:eb68:203:3c00:341e:a6d7:d482:9c18:0 - \"GET /style.css HTTP/1.1\" 200 OK\n",
            "INFO:     2c0f:eb68:203:3c00:341e:a6d7:d482:9c18:0 - \"GET /favicon.ico HTTP/1.1\" 404 Not Found\n",
            "INFO:     2c0f:eb68:203:3c00:341e:a6d7:d482:9c18:0 - \"POST /predict HTTP/1.1\" 200 OK\n",
            "INFO:     2c0f:eb68:203:3c00:341e:a6d7:d482:9c18:0 - \"POST /predict HTTP/1.1\" 200 OK\n",
            "INFO:     2c0f:eb68:203:3c00:341e:a6d7:d482:9c18:0 - \"POST /predict HTTP/1.1\" 200 OK\n",
            "INFO:     2c0f:eb68:203:3c00:341e:a6d7:d482:9c18:0 - \"POST /predict HTTP/1.1\" 200 OK\n"
          ]
        },
        {
          "output_type": "stream",
          "name": "stderr",
          "text": [
            "INFO:     Shutting down\n",
            "INFO:     Waiting for application shutdown.\n",
            "INFO:     Application shutdown complete.\n",
            "INFO:     Finished server process [1048]\n"
          ]
        }
      ],
      "source": [
        "import nest_asyncio\n",
        "from pyngrok import ngrok\n",
        "import uvicorn\n",
        "\n",
        "ngrok_tunnel = ngrok.connect(8000)\n",
        "print(\"REST API started\")\n",
        "print(\"Your public API URL:\", ngrok_tunnel.public_url)\n",
        "print(\"You can for example open the following URL in your browser: {}?target_lang=en&text=Hallo%20Welt\".format(ngrok_tunnel.public_url))\n",
        "\n",
        "nest_asyncio.apply()\n",
        "uvicorn.run(app, port=8000)"
      ]
    },
    {
      "cell_type": "code",
      "execution_count": 62,
      "metadata": {
        "id": "SoFQPG4MxASg"
      },
      "outputs": [],
      "source": []
    }
  ],
  "metadata": {
    "colab": {
      "provenance": [],
      "authorship_tag": "ABX9TyO+HiV5ILFRhr5TTxxy7Kqq",
      "include_colab_link": true
    },
    "kernelspec": {
      "display_name": "Python 3",
      "name": "python3"
    },
    "language_info": {
      "name": "python"
    },
    "accelerator": "GPU",
    "gpuClass": "standard"
  },
  "nbformat": 4,
  "nbformat_minor": 0
}