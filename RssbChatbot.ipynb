{
  "cells": [
    {
      "cell_type": "markdown",
      "metadata": {
        "id": "view-in-github",
        "colab_type": "text"
      },
      "source": [
        "<a href=\"https://colab.research.google.com/github/byiringiroscar/static_file_chatbot/blob/main/RssbChatbot.ipynb\" target=\"_parent\"><img src=\"https://colab.research.google.com/assets/colab-badge.svg\" alt=\"Open In Colab\"/></a>"
      ]
    },
    {
      "cell_type": "code",
      "execution_count": 1,
      "metadata": {
        "id": "htyPfrjINWam"
      },
      "outputs": [],
      "source": [
        "import requests\n",
        "from bs4 import BeautifulSoup\n",
        "import pandas as pd"
      ]
    },
    {
      "cell_type": "code",
      "execution_count": 2,
      "metadata": {
        "id": "vdsCfFMUP0e6"
      },
      "outputs": [],
      "source": [
        "#Fetch the content from the front page\n",
        "content = requests.get('https://www.rssb.rw/').content"
      ]
    },
    {
      "cell_type": "code",
      "execution_count": null,
      "metadata": {
        "id": "G24OVoqoRUfG"
      },
      "outputs": [],
      "source": [
        "#Preview of the Content\n",
        "content"
      ]
    },
    {
      "cell_type": "code",
      "execution_count": 3,
      "metadata": {
        "id": "kldCdJNIRavd"
      },
      "outputs": [],
      "source": [
        "#Initiating the BS4 parser\n",
        "page = BeautifulSoup(content, 'html.parser')"
      ]
    },
    {
      "cell_type": "code",
      "execution_count": 4,
      "metadata": {
        "id": "49zyd2emReMn"
      },
      "outputs": [],
      "source": [
        "#Get all the links in the website\n",
        "links = page.find_all('a')"
      ]
    },
    {
      "cell_type": "code",
      "execution_count": 5,
      "metadata": {
        "colab": {
          "base_uri": "https://localhost:8080/"
        },
        "id": "jdiZqFd9SDOm",
        "outputId": "34beea70-7ed1-4308-8bb6-29055afe91f0"
      },
      "outputs": [
        {
          "output_type": "execute_result",
          "data": {
            "text/plain": [
              "35"
            ]
          },
          "metadata": {},
          "execution_count": 5
        }
      ],
      "source": [
        "len(links)"
      ]
    },
    {
      "cell_type": "code",
      "execution_count": 6,
      "metadata": {
        "id": "l4sW0QyqRjuH"
      },
      "outputs": [],
      "source": [
        "# main links fetching and main titles\n",
        "list_of_links = [] #list()\n",
        "list_of_titles = []\n",
        "\n",
        "for item in links: #loop over the list of links\n",
        "  if not str(item['href']) == '/':\n",
        "    if len(item.text) > 0:\n",
        "      if str(item['href']).startswith('http'):\n",
        "        lin = str(item['href'])\n",
        "        list_of_links.append(lin)\n",
        "        list_of_titles.append(item.text)\n",
        "        \n",
        "      else:\n",
        "        lin = str(item['href'])\n",
        "        domain = 'https://www.rssb.rw' + lin\n",
        "        list_of_links.append(domain)\n",
        "        list_of_titles.append(item.text)\n",
        "    \n",
        "    \n",
        "\n",
        "  \n",
        "  "
      ]
    },
    {
      "cell_type": "code",
      "execution_count": null,
      "metadata": {
        "id": "Wug8eNSkRlM5"
      },
      "outputs": [],
      "source": [
        "list_of_links"
      ]
    },
    {
      "cell_type": "code",
      "execution_count": 7,
      "metadata": {
        "colab": {
          "base_uri": "https://localhost:8080/"
        },
        "id": "GrHFYRrWWHVo",
        "outputId": "1f6b9b07-2de6-4db8-c923-c94960af709a"
      },
      "outputs": [
        {
          "output_type": "execute_result",
          "data": {
            "text/plain": [
              "28"
            ]
          },
          "metadata": {},
          "execution_count": 7
        }
      ],
      "source": [
        "\n",
        "len(list_of_titles)"
      ]
    },
    {
      "cell_type": "code",
      "execution_count": 8,
      "metadata": {
        "id": "_iHEuWhCx_I-"
      },
      "outputs": [],
      "source": [
        "# take every link then go inside then get all links associated with it\n",
        "def get_individual_link(fina_l): \n",
        "  try:\n",
        "    content_individual_link = requests.get(fina_l).content # get content for each link\n",
        "    page_individual_link = BeautifulSoup(content_individual_link, 'html.parser', from_encoding=\"iso-8859-1\")\n",
        "    final_link_individual = page_individual_link.findAll('a')\n",
        "    for links_ind in final_link_individual:\n",
        "      if not str(links_ind['href']) == '/':\n",
        "        if len(links_ind.text) > 0:\n",
        "          if str(links_ind['href']).startswith('http'):\n",
        "            lin = str(links_ind['href'])\n",
        "            list_of_links.append(lin)\n",
        "            list_of_titles.append(links_ind.text)\n",
        "          else:\n",
        "            lin = str(links_ind['href'])\n",
        "            domain = 'https://www.rssb.rw' + lin\n",
        "            list_of_links.append(domain)\n",
        "            list_of_titles.append(links_ind.text)\n",
        "  except:\n",
        "    pass\n",
        "\n"
      ]
    },
    {
      "cell_type": "code",
      "source": [
        "len(list_of_titles)"
      ],
      "metadata": {
        "id": "wvZI_0B7STAU"
      },
      "execution_count": null,
      "outputs": []
    },
    {
      "cell_type": "code",
      "execution_count": 9,
      "metadata": {
        "colab": {
          "base_uri": "https://localhost:8080/"
        },
        "id": "Mxjd5DZa4S0L",
        "outputId": "b2766334-2ec3-43c6-b08d-231394c1ce83"
      },
      "outputs": [
        {
          "output_type": "stream",
          "name": "stderr",
          "text": [
            "WARNING:urllib3.response:Received response with both Content-Length and Transfer-Encoding set. This is expressly forbidden by RFC 7230 sec 3.3.2. Ignoring Content-Length and attempting to process response as Transfer-Encoding: chunked.\n",
            "WARNING:urllib3.response:Received response with both Content-Length and Transfer-Encoding set. This is expressly forbidden by RFC 7230 sec 3.3.2. Ignoring Content-Length and attempting to process response as Transfer-Encoding: chunked.\n"
          ]
        }
      ],
      "source": [
        "for i in range(len(list_of_links)):\n",
        "  fina_links = list_of_links[i]\n",
        "  fin_li_official = get_individual_link(fina_links)"
      ]
    },
    {
      "cell_type": "code",
      "source": [
        "len(list_of_links)"
      ],
      "metadata": {
        "id": "5IYNMLRKLDU9"
      },
      "execution_count": null,
      "outputs": []
    },
    {
      "cell_type": "code",
      "source": [
        "import re\n",
        "real_link = []\n",
        "for lin in list_of_links:\n",
        "  if bool(re.search('rssb', lin)):\n",
        "    if not lin.endswith('docx') and not lin.endswith('pdf') and not lin.endswith('xl') and not lin.endswith('xlsx') and not lin.endswith('html') and not lin.endswith('gov') and not lin.endswith('doc') and not lin.endswith('zip') and not lin.endswith('mdb') and not lin.endswith('xls'):\n",
        "      real_link.append(lin)\n",
        "\n",
        "\n",
        "\n"
      ],
      "metadata": {
        "id": "I-ZmgzjRWv_0"
      },
      "execution_count": 142,
      "outputs": []
    },
    {
      "cell_type": "code",
      "source": [
        "len(real_link)"
      ],
      "metadata": {
        "colab": {
          "base_uri": "https://localhost:8080/"
        },
        "id": "jFpStdvGGaH0",
        "outputId": "b6e863e1-4484-4d5d-cf0b-8d6567307a7b"
      },
      "execution_count": 143,
      "outputs": [
        {
          "output_type": "execute_result",
          "data": {
            "text/plain": [
              "420"
            ]
          },
          "metadata": {},
          "execution_count": 143
        }
      ]
    },
    {
      "cell_type": "code",
      "source": [
        "# remove duplicate in order to see all rssb what content inside then append it in list called list_of_links\n",
        "real_link = list(set(real_link))\n",
        "len(real_link)"
      ],
      "metadata": {
        "colab": {
          "base_uri": "https://localhost:8080/"
        },
        "id": "Vfj7aBuYZLZr",
        "outputId": "b6af4d9a-35b3-4913-c773-a6c6154c406c"
      },
      "execution_count": 144,
      "outputs": [
        {
          "output_type": "execute_result",
          "data": {
            "text/plain": [
              "75"
            ]
          },
          "metadata": {},
          "execution_count": 144
        }
      ]
    },
    {
      "cell_type": "code",
      "source": [
        "def get_content_link_rssb_links(link_rssb):\n",
        "  content_rssb = requests.get(link_rssb).content\n",
        "  page_rssb = BeautifulSoup(content_rssb, 'html.parser')\n",
        "  links_rssb = page_rssb.find('p')\n",
        "  if links_rssb:\n",
        "    list_of_titles.append(links_rssb.text)\n",
        "    list_of_links.append(link_rssb)\n"
      ],
      "metadata": {
        "id": "XzY8RxJjHKcj"
      },
      "execution_count": 166,
      "outputs": []
    },
    {
      "cell_type": "code",
      "source": [
        "for lin_rssb in real_link:\n",
        "  try:\n",
        "    get_content_link_rssb_links(lin_rssb)\n",
        "  except:\n",
        "    pass\n"
      ],
      "metadata": {
        "id": "SEq13LtgOJGH"
      },
      "execution_count": 169,
      "outputs": []
    },
    {
      "cell_type": "code",
      "source": [
        "\n",
        "len(list_of_titles)\n",
        "len(list_of_links)"
      ],
      "metadata": {
        "colab": {
          "base_uri": "https://localhost:8080/"
        },
        "id": "LrobAWMpInGF",
        "outputId": "dc209e8e-4d4b-4644-c82d-e49104664be0"
      },
      "execution_count": 174,
      "outputs": [
        {
          "output_type": "execute_result",
          "data": {
            "text/plain": [
              "706"
            ]
          },
          "metadata": {},
          "execution_count": 174
        }
      ]
    },
    {
      "cell_type": "code",
      "execution_count": 175,
      "metadata": {
        "id": "UxaG2V0r5gEq"
      },
      "outputs": [],
      "source": [
        "df = pd.DataFrame()\n",
        "df['title'] = list_of_titles\n",
        "df['link'] = list_of_links\n",
        "df['description'] = None"
      ]
    },
    {
      "cell_type": "code",
      "execution_count": 176,
      "metadata": {
        "colab": {
          "base_uri": "https://localhost:8080/",
          "height": 175
        },
        "id": "952XIE29-vMG",
        "outputId": "2f3b0753-e75b-41f7-b5a4-4edbfc61661e"
      },
      "outputs": [
        {
          "output_type": "execute_result",
          "data": {
            "text/plain": [
              "          title                           link description\n",
              "count       706                            706           0\n",
              "unique      239                            191           0\n",
              "top     schemes  https://www.imisanzu.rssb.rw/         NaN\n",
              "freq         20                             23         NaN"
            ],
            "text/html": [
              "\n",
              "  <div id=\"df-be71fa26-3605-40aa-a41f-ec159dbe3166\">\n",
              "    <div class=\"colab-df-container\">\n",
              "      <div>\n",
              "<style scoped>\n",
              "    .dataframe tbody tr th:only-of-type {\n",
              "        vertical-align: middle;\n",
              "    }\n",
              "\n",
              "    .dataframe tbody tr th {\n",
              "        vertical-align: top;\n",
              "    }\n",
              "\n",
              "    .dataframe thead th {\n",
              "        text-align: right;\n",
              "    }\n",
              "</style>\n",
              "<table border=\"1\" class=\"dataframe\">\n",
              "  <thead>\n",
              "    <tr style=\"text-align: right;\">\n",
              "      <th></th>\n",
              "      <th>title</th>\n",
              "      <th>link</th>\n",
              "      <th>description</th>\n",
              "    </tr>\n",
              "  </thead>\n",
              "  <tbody>\n",
              "    <tr>\n",
              "      <th>count</th>\n",
              "      <td>706</td>\n",
              "      <td>706</td>\n",
              "      <td>0</td>\n",
              "    </tr>\n",
              "    <tr>\n",
              "      <th>unique</th>\n",
              "      <td>239</td>\n",
              "      <td>191</td>\n",
              "      <td>0</td>\n",
              "    </tr>\n",
              "    <tr>\n",
              "      <th>top</th>\n",
              "      <td>schemes</td>\n",
              "      <td>https://www.imisanzu.rssb.rw/</td>\n",
              "      <td>NaN</td>\n",
              "    </tr>\n",
              "    <tr>\n",
              "      <th>freq</th>\n",
              "      <td>20</td>\n",
              "      <td>23</td>\n",
              "      <td>NaN</td>\n",
              "    </tr>\n",
              "  </tbody>\n",
              "</table>\n",
              "</div>\n",
              "      <button class=\"colab-df-convert\" onclick=\"convertToInteractive('df-be71fa26-3605-40aa-a41f-ec159dbe3166')\"\n",
              "              title=\"Convert this dataframe to an interactive table.\"\n",
              "              style=\"display:none;\">\n",
              "        \n",
              "  <svg xmlns=\"http://www.w3.org/2000/svg\" height=\"24px\"viewBox=\"0 0 24 24\"\n",
              "       width=\"24px\">\n",
              "    <path d=\"M0 0h24v24H0V0z\" fill=\"none\"/>\n",
              "    <path d=\"M18.56 5.44l.94 2.06.94-2.06 2.06-.94-2.06-.94-.94-2.06-.94 2.06-2.06.94zm-11 1L8.5 8.5l.94-2.06 2.06-.94-2.06-.94L8.5 2.5l-.94 2.06-2.06.94zm10 10l.94 2.06.94-2.06 2.06-.94-2.06-.94-.94-2.06-.94 2.06-2.06.94z\"/><path d=\"M17.41 7.96l-1.37-1.37c-.4-.4-.92-.59-1.43-.59-.52 0-1.04.2-1.43.59L10.3 9.45l-7.72 7.72c-.78.78-.78 2.05 0 2.83L4 21.41c.39.39.9.59 1.41.59.51 0 1.02-.2 1.41-.59l7.78-7.78 2.81-2.81c.8-.78.8-2.07 0-2.86zM5.41 20L4 18.59l7.72-7.72 1.47 1.35L5.41 20z\"/>\n",
              "  </svg>\n",
              "      </button>\n",
              "      \n",
              "  <style>\n",
              "    .colab-df-container {\n",
              "      display:flex;\n",
              "      flex-wrap:wrap;\n",
              "      gap: 12px;\n",
              "    }\n",
              "\n",
              "    .colab-df-convert {\n",
              "      background-color: #E8F0FE;\n",
              "      border: none;\n",
              "      border-radius: 50%;\n",
              "      cursor: pointer;\n",
              "      display: none;\n",
              "      fill: #1967D2;\n",
              "      height: 32px;\n",
              "      padding: 0 0 0 0;\n",
              "      width: 32px;\n",
              "    }\n",
              "\n",
              "    .colab-df-convert:hover {\n",
              "      background-color: #E2EBFA;\n",
              "      box-shadow: 0px 1px 2px rgba(60, 64, 67, 0.3), 0px 1px 3px 1px rgba(60, 64, 67, 0.15);\n",
              "      fill: #174EA6;\n",
              "    }\n",
              "\n",
              "    [theme=dark] .colab-df-convert {\n",
              "      background-color: #3B4455;\n",
              "      fill: #D2E3FC;\n",
              "    }\n",
              "\n",
              "    [theme=dark] .colab-df-convert:hover {\n",
              "      background-color: #434B5C;\n",
              "      box-shadow: 0px 1px 3px 1px rgba(0, 0, 0, 0.15);\n",
              "      filter: drop-shadow(0px 1px 2px rgba(0, 0, 0, 0.3));\n",
              "      fill: #FFFFFF;\n",
              "    }\n",
              "  </style>\n",
              "\n",
              "      <script>\n",
              "        const buttonEl =\n",
              "          document.querySelector('#df-be71fa26-3605-40aa-a41f-ec159dbe3166 button.colab-df-convert');\n",
              "        buttonEl.style.display =\n",
              "          google.colab.kernel.accessAllowed ? 'block' : 'none';\n",
              "\n",
              "        async function convertToInteractive(key) {\n",
              "          const element = document.querySelector('#df-be71fa26-3605-40aa-a41f-ec159dbe3166');\n",
              "          const dataTable =\n",
              "            await google.colab.kernel.invokeFunction('convertToInteractive',\n",
              "                                                     [key], {});\n",
              "          if (!dataTable) return;\n",
              "\n",
              "          const docLinkHtml = 'Like what you see? Visit the ' +\n",
              "            '<a target=\"_blank\" href=https://colab.research.google.com/notebooks/data_table.ipynb>data table notebook</a>'\n",
              "            + ' to learn more about interactive tables.';\n",
              "          element.innerHTML = '';\n",
              "          dataTable['output_type'] = 'display_data';\n",
              "          await google.colab.output.renderOutput(dataTable, element);\n",
              "          const docLink = document.createElement('div');\n",
              "          docLink.innerHTML = docLinkHtml;\n",
              "          element.appendChild(docLink);\n",
              "        }\n",
              "      </script>\n",
              "    </div>\n",
              "  </div>\n",
              "  "
            ]
          },
          "metadata": {},
          "execution_count": 176
        }
      ],
      "source": [
        "df.describe()"
      ]
    },
    {
      "cell_type": "code",
      "execution_count": 177,
      "metadata": {
        "id": "k72YAYC6VanP"
      },
      "outputs": [],
      "source": [
        "#Drop all the row with empty title columns\n",
        "df = df.dropna(subset=['title'])"
      ]
    },
    {
      "cell_type": "code",
      "execution_count": 181,
      "metadata": {
        "colab": {
          "base_uri": "https://localhost:8080/",
          "height": 175
        },
        "id": "PAbEGNj9WTGB",
        "outputId": "39473c14-dd1c-4717-92f3-b8a10ed6e262"
      },
      "outputs": [
        {
          "output_type": "execute_result",
          "data": {
            "text/plain": [
              "          title                                               link description\n",
              "count       239                                                239           0\n",
              "unique      239                                                187           0\n",
              "top     schemes  https://www.rssb.rw/rssb-invests-in-katapult-a...         NaN\n",
              "freq          1                                                  5         NaN"
            ],
            "text/html": [
              "\n",
              "  <div id=\"df-ddc4f7a6-2f41-49ba-99ba-714309920e7b\">\n",
              "    <div class=\"colab-df-container\">\n",
              "      <div>\n",
              "<style scoped>\n",
              "    .dataframe tbody tr th:only-of-type {\n",
              "        vertical-align: middle;\n",
              "    }\n",
              "\n",
              "    .dataframe tbody tr th {\n",
              "        vertical-align: top;\n",
              "    }\n",
              "\n",
              "    .dataframe thead th {\n",
              "        text-align: right;\n",
              "    }\n",
              "</style>\n",
              "<table border=\"1\" class=\"dataframe\">\n",
              "  <thead>\n",
              "    <tr style=\"text-align: right;\">\n",
              "      <th></th>\n",
              "      <th>title</th>\n",
              "      <th>link</th>\n",
              "      <th>description</th>\n",
              "    </tr>\n",
              "  </thead>\n",
              "  <tbody>\n",
              "    <tr>\n",
              "      <th>count</th>\n",
              "      <td>239</td>\n",
              "      <td>239</td>\n",
              "      <td>0</td>\n",
              "    </tr>\n",
              "    <tr>\n",
              "      <th>unique</th>\n",
              "      <td>239</td>\n",
              "      <td>187</td>\n",
              "      <td>0</td>\n",
              "    </tr>\n",
              "    <tr>\n",
              "      <th>top</th>\n",
              "      <td>schemes</td>\n",
              "      <td>https://www.rssb.rw/rssb-invests-in-katapult-a...</td>\n",
              "      <td>NaN</td>\n",
              "    </tr>\n",
              "    <tr>\n",
              "      <th>freq</th>\n",
              "      <td>1</td>\n",
              "      <td>5</td>\n",
              "      <td>NaN</td>\n",
              "    </tr>\n",
              "  </tbody>\n",
              "</table>\n",
              "</div>\n",
              "      <button class=\"colab-df-convert\" onclick=\"convertToInteractive('df-ddc4f7a6-2f41-49ba-99ba-714309920e7b')\"\n",
              "              title=\"Convert this dataframe to an interactive table.\"\n",
              "              style=\"display:none;\">\n",
              "        \n",
              "  <svg xmlns=\"http://www.w3.org/2000/svg\" height=\"24px\"viewBox=\"0 0 24 24\"\n",
              "       width=\"24px\">\n",
              "    <path d=\"M0 0h24v24H0V0z\" fill=\"none\"/>\n",
              "    <path d=\"M18.56 5.44l.94 2.06.94-2.06 2.06-.94-2.06-.94-.94-2.06-.94 2.06-2.06.94zm-11 1L8.5 8.5l.94-2.06 2.06-.94-2.06-.94L8.5 2.5l-.94 2.06-2.06.94zm10 10l.94 2.06.94-2.06 2.06-.94-2.06-.94-.94-2.06-.94 2.06-2.06.94z\"/><path d=\"M17.41 7.96l-1.37-1.37c-.4-.4-.92-.59-1.43-.59-.52 0-1.04.2-1.43.59L10.3 9.45l-7.72 7.72c-.78.78-.78 2.05 0 2.83L4 21.41c.39.39.9.59 1.41.59.51 0 1.02-.2 1.41-.59l7.78-7.78 2.81-2.81c.8-.78.8-2.07 0-2.86zM5.41 20L4 18.59l7.72-7.72 1.47 1.35L5.41 20z\"/>\n",
              "  </svg>\n",
              "      </button>\n",
              "      \n",
              "  <style>\n",
              "    .colab-df-container {\n",
              "      display:flex;\n",
              "      flex-wrap:wrap;\n",
              "      gap: 12px;\n",
              "    }\n",
              "\n",
              "    .colab-df-convert {\n",
              "      background-color: #E8F0FE;\n",
              "      border: none;\n",
              "      border-radius: 50%;\n",
              "      cursor: pointer;\n",
              "      display: none;\n",
              "      fill: #1967D2;\n",
              "      height: 32px;\n",
              "      padding: 0 0 0 0;\n",
              "      width: 32px;\n",
              "    }\n",
              "\n",
              "    .colab-df-convert:hover {\n",
              "      background-color: #E2EBFA;\n",
              "      box-shadow: 0px 1px 2px rgba(60, 64, 67, 0.3), 0px 1px 3px 1px rgba(60, 64, 67, 0.15);\n",
              "      fill: #174EA6;\n",
              "    }\n",
              "\n",
              "    [theme=dark] .colab-df-convert {\n",
              "      background-color: #3B4455;\n",
              "      fill: #D2E3FC;\n",
              "    }\n",
              "\n",
              "    [theme=dark] .colab-df-convert:hover {\n",
              "      background-color: #434B5C;\n",
              "      box-shadow: 0px 1px 3px 1px rgba(0, 0, 0, 0.15);\n",
              "      filter: drop-shadow(0px 1px 2px rgba(0, 0, 0, 0.3));\n",
              "      fill: #FFFFFF;\n",
              "    }\n",
              "  </style>\n",
              "\n",
              "      <script>\n",
              "        const buttonEl =\n",
              "          document.querySelector('#df-ddc4f7a6-2f41-49ba-99ba-714309920e7b button.colab-df-convert');\n",
              "        buttonEl.style.display =\n",
              "          google.colab.kernel.accessAllowed ? 'block' : 'none';\n",
              "\n",
              "        async function convertToInteractive(key) {\n",
              "          const element = document.querySelector('#df-ddc4f7a6-2f41-49ba-99ba-714309920e7b');\n",
              "          const dataTable =\n",
              "            await google.colab.kernel.invokeFunction('convertToInteractive',\n",
              "                                                     [key], {});\n",
              "          if (!dataTable) return;\n",
              "\n",
              "          const docLinkHtml = 'Like what you see? Visit the ' +\n",
              "            '<a target=\"_blank\" href=https://colab.research.google.com/notebooks/data_table.ipynb>data table notebook</a>'\n",
              "            + ' to learn more about interactive tables.';\n",
              "          element.innerHTML = '';\n",
              "          dataTable['output_type'] = 'display_data';\n",
              "          await google.colab.output.renderOutput(dataTable, element);\n",
              "          const docLink = document.createElement('div');\n",
              "          docLink.innerHTML = docLinkHtml;\n",
              "          element.appendChild(docLink);\n",
              "        }\n",
              "      </script>\n",
              "    </div>\n",
              "  </div>\n",
              "  "
            ]
          },
          "metadata": {},
          "execution_count": 181
        }
      ],
      "source": [
        "df.describe()"
      ]
    },
    {
      "cell_type": "code",
      "execution_count": 183,
      "metadata": {
        "id": "1NMSJy-EgX4n"
      },
      "outputs": [],
      "source": [
        "#Check whehter the link is full formated link\n",
        "is_full_link = df.link.str.startswith('http')\n",
        "\n",
        "#Check whether the link is pdf documents\n",
        "is_pdf = df.link.str.contains('.pdf')"
      ]
    },
    {
      "cell_type": "code",
      "execution_count": 184,
      "metadata": {
        "id": "lh-8WZIJg8Ls"
      },
      "outputs": [],
      "source": [
        "df['is_full_link'] = is_full_link #Create a new col\n",
        "df['is_pdf'] = is_pdf #create a new col"
      ]
    },
    {
      "cell_type": "code",
      "execution_count": null,
      "metadata": {
        "id": "hvmNgqZUg_oq"
      },
      "outputs": [],
      "source": [
        "df"
      ]
    },
    {
      "cell_type": "code",
      "execution_count": 186,
      "metadata": {
        "id": "YgCLfDp8hASc"
      },
      "outputs": [],
      "source": [
        "# data cleaning in dataframe\n",
        "import re \n",
        "\n",
        "def preprocessing(titles : list):\n",
        "  cleaned_titles = []\n",
        "  for title in titles:\n",
        "    title = title.strip()\n",
        "    title = title.lower()\n",
        "    url_pattern = re.compile(r'https?://\\S+|www\\.\\S+')\n",
        "    html_pattern = re.compile('<.*?>')\n",
        "    title = url_pattern.sub(r'', title)\n",
        "    title = html_pattern.sub(r'', title)\n",
        "    title = re.sub(r\"[^\\w\\d'\\s]+\", ' ', title)\n",
        "    cleaned_titles.append(title)\n",
        "  return cleaned_titles\n",
        "\n",
        "\n",
        "df['title'] = preprocessing(df['title'])"
      ]
    },
    {
      "cell_type": "markdown",
      "metadata": {
        "id": "3UwsLdIEi7l1"
      },
      "source": [
        "# Start Building the chatbot"
      ]
    },
    {
      "cell_type": "markdown",
      "metadata": {
        "id": "0lHK5cq3jAFN"
      },
      "source": [
        "## Building the intent file"
      ]
    },
    {
      "cell_type": "code",
      "execution_count": 192,
      "metadata": {
        "id": "6CdqEOSWjAtq"
      },
      "outputs": [],
      "source": [
        "question = \"\"\"Guide me to {}?\n",
        "Where do you get {}?\n",
        "What is the link to the {}?\n",
        "How do you get {}?\n",
        "Who is in Charge of {}?\n",
        "how can I get {}?\n",
        "which way to get {}?\n",
        "I need to get {}?\n",
        "direct me to {}\n",
        "please how can I {}?\n",
        "{}\"\"\"\n",
        "\n",
        "answers = \"\"\"Here is the link {}.\n",
        "You can use this link {} for more information.\n",
        "thanks for contacting use this {} for more detail.\n",
        "ok try this {} for more information.\n",
        "take a look on this {}.\n",
        "check out on this link {} for more detail.\"\"\""
      ]
    },
    {
      "cell_type": "code",
      "execution_count": null,
      "metadata": {
        "id": "y1DiSG31j434"
      },
      "outputs": [],
      "source": [
        "answers.split('\\n')"
      ]
    },
    {
      "cell_type": "code",
      "execution_count": null,
      "metadata": {
        "id": "UL33hISdkQQU"
      },
      "outputs": [],
      "source": [
        "!git clone https://github.com/patrickloeber/pytorch-chatbot.git"
      ]
    },
    {
      "cell_type": "code",
      "execution_count": 195,
      "metadata": {
        "id": "_SrD1TmHkUmA"
      },
      "outputs": [],
      "source": [
        "import json\n",
        "with open('/content/pytorch-chatbot/intents.json', 'r') as intent_file:\n",
        "  intents__ = json.load(intent_file)"
      ]
    },
    {
      "cell_type": "code",
      "execution_count": 196,
      "metadata": {
        "id": "5isRBzR0kfiA"
      },
      "outputs": [],
      "source": [
        "greet_intents = []\n",
        "for intet in intents__['intents']:\n",
        "  greet_intents.append(intet)\n"
      ]
    },
    {
      "cell_type": "code",
      "execution_count": 197,
      "metadata": {
        "id": "fvWvewggkhKy"
      },
      "outputs": [],
      "source": [
        "intents = []\n",
        "\n",
        "for index in range(len(df)):\n",
        "  intent = {}\n",
        "  tag = df.iloc[index]['title']\n",
        "  intent['tag'] = tag\n",
        "  intent['patterns'] = list()\n",
        "  intent['responses'] = list()\n",
        "  # intent['responses'] = [f'You can use this link {df.iloc[index].link} for more information']\n",
        "  for i in range(len(question.split('\\n'))):\n",
        "    intent['patterns'].append(question.split('\\n')[i].format(intent['tag']))\n",
        "  for i in range(len(answers.split('\\n'))):\n",
        "    intent['responses'].append(answers.split('\\n')[i].format(df.iloc[index].link))\n",
        "\n",
        "  intents.append(intent)"
      ]
    },
    {
      "cell_type": "code",
      "execution_count": 198,
      "metadata": {
        "id": "gifDqb4Ln-_K"
      },
      "outputs": [],
      "source": [
        "intents.extend(greet_intents)"
      ]
    },
    {
      "cell_type": "code",
      "execution_count": null,
      "metadata": {
        "id": "IrmHOEtQoA1j"
      },
      "outputs": [],
      "source": [
        "file = {'intents': intents}\n",
        "file"
      ]
    },
    {
      "cell_type": "code",
      "execution_count": 200,
      "metadata": {
        "id": "CevR69-9oVTp"
      },
      "outputs": [],
      "source": [
        "import json\n",
        "\n",
        "with open('/content/pytorch-chatbot/intents.json', 'w+') as intent_file:\n",
        "  intent_file.seek(0)\n",
        "  intent_file.truncate()\n",
        "  json.dump(file, intent_file)"
      ]
    },
    {
      "cell_type": "code",
      "execution_count": 201,
      "metadata": {
        "colab": {
          "base_uri": "https://localhost:8080/"
        },
        "id": "0_k_wcfaonLx",
        "outputId": "29aeaa55-efaf-4085-f13e-604bd2acd092"
      },
      "outputs": [
        {
          "output_type": "stream",
          "name": "stdout",
          "text": [
            "/content/pytorch-chatbot\n"
          ]
        }
      ],
      "source": [
        "%cd pytorch-chatbot/"
      ]
    },
    {
      "cell_type": "code",
      "execution_count": 202,
      "metadata": {
        "colab": {
          "base_uri": "https://localhost:8080/"
        },
        "id": "n3AfJGMXopyp",
        "outputId": "bbd662e3-a843-4c2b-c633-0711f3a3158d"
      },
      "outputs": [
        {
          "output_type": "stream",
          "name": "stderr",
          "text": [
            "[nltk_data] Downloading package punkt to /root/nltk_data...\n",
            "[nltk_data]   Unzipping tokenizers/punkt.zip.\n"
          ]
        },
        {
          "output_type": "execute_result",
          "data": {
            "text/plain": [
              "True"
            ]
          },
          "metadata": {},
          "execution_count": 202
        }
      ],
      "source": [
        "import nltk \n",
        "nltk.download('punkt')"
      ]
    },
    {
      "cell_type": "code",
      "execution_count": null,
      "metadata": {
        "id": "QnibT1MDow6P"
      },
      "outputs": [],
      "source": [
        "!python train.py"
      ]
    },
    {
      "cell_type": "code",
      "execution_count": 204,
      "metadata": {
        "colab": {
          "base_uri": "https://localhost:8080/"
        },
        "id": "9EcJFr5oo0oL",
        "outputId": "373efcb9-b080-433c-84de-ebdee40d85eb"
      },
      "outputs": [
        {
          "output_type": "stream",
          "name": "stdout",
          "text": [
            "Let's chat! (type 'quit' to exit)\n"
          ]
        }
      ],
      "source": [
        "import random\n",
        "import json\n",
        "\n",
        "import torch\n",
        "\n",
        "from model import NeuralNet\n",
        "from nltk_utils import bag_of_words, tokenize\n",
        "\n",
        "device = torch.device('cuda' if torch.cuda.is_available() else 'cpu')\n",
        "\n",
        "with open('intents.json', 'r') as json_data:\n",
        "    intents = json.load(json_data)\n",
        "\n",
        "FILE = \"data.pth\"\n",
        "data = torch.load(FILE)\n",
        "\n",
        "input_size = data[\"input_size\"]\n",
        "hidden_size = data[\"hidden_size\"]\n",
        "output_size = data[\"output_size\"]\n",
        "all_words = data['all_words']\n",
        "tags = data['tags']\n",
        "model_state = data[\"model_state\"]\n",
        "\n",
        "model = NeuralNet(input_size, hidden_size, output_size).to(device)\n",
        "model.load_state_dict(model_state)\n",
        "model.eval()\n",
        "\n",
        "bot_name = \"Oscar\"\n",
        "print(\"Let's chat! (type 'quit' to exit)\")\n",
        "\n",
        "def query(question : str):\n",
        "  # sentence = \"do you use credit cards?\"\n",
        "  sentence = question\n",
        "\n",
        "  sentence = tokenize(sentence)\n",
        "  X = bag_of_words(sentence, all_words)\n",
        "  X = X.reshape(1, X.shape[0])\n",
        "  X = torch.from_numpy(X).to(device)\n",
        "\n",
        "  output = model(X)\n",
        "  _, predicted = torch.max(output, dim=1)\n",
        "\n",
        "  tag = tags[predicted.item()]\n",
        "\n",
        "  probs = torch.softmax(output, dim=1)\n",
        "  prob = probs[0][predicted.item()]\n",
        "  if prob.item() > 0.75:\n",
        "      for intent in intents['intents']:\n",
        "          if tag == intent[\"tag\"]:\n",
        "              return f\"{bot_name}: {random.choice(intent['responses'])}\"\n",
        "  else:\n",
        "      return f\"{bot_name}: I do not understand...\""
      ]
    },
    {
      "cell_type": "code",
      "execution_count": 205,
      "metadata": {
        "id": "HPAcUvEXqa19"
      },
      "outputs": [],
      "source": [
        "response = query('how are you ?')"
      ]
    },
    {
      "cell_type": "code",
      "execution_count": 207,
      "metadata": {
        "id": "eXS_ppU6qh-2",
        "colab": {
          "base_uri": "https://localhost:8080/",
          "height": 36
        },
        "outputId": "371a477f-b64a-4d61-e868-6e74c44b10e7"
      },
      "outputs": [
        {
          "output_type": "execute_result",
          "data": {
            "text/plain": [
              "'Oscar: Hi there, how can I help?'"
            ],
            "application/vnd.google.colaboratory.intrinsic+json": {
              "type": "string"
            }
          },
          "metadata": {},
          "execution_count": 207
        }
      ],
      "source": [
        "response"
      ]
    },
    {
      "cell_type": "code",
      "execution_count": null,
      "metadata": {
        "id": "Jx-Vpw-cqjDF"
      },
      "outputs": [],
      "source": [
        "!pip install langdetect"
      ]
    },
    {
      "cell_type": "code",
      "execution_count": 209,
      "metadata": {
        "id": "6oYOqyHWqsbj"
      },
      "outputs": [],
      "source": [
        "\n",
        "import requests\n",
        "import json\n",
        "\n",
        "\n",
        "class translator:\n",
        "    api_url = \"https://translate.googleapis.com/translate_a/single\"\n",
        "    client = \"?client=gtx&dt=t\"\n",
        "    dt = \"&dt=t\"\n",
        "\n",
        "    #fROM English to Kinyarwanda\n",
        "    def translate(text : str , target_lang : str, source_lang : str):\n",
        "        sl = f\"&sl={source_lang}\"\n",
        "        tl = f\"&tl={target_lang}\"\n",
        "        r = requests.get(translator.api_url+ translator.client + translator.dt + sl + tl + \"&q=\" + text)\n",
        "        return json.loads(r.text)[0][0][0]"
      ]
    },
    {
      "cell_type": "code",
      "execution_count": 210,
      "metadata": {
        "id": "csTAAZRUq2h4"
      },
      "outputs": [],
      "source": [
        "resp = translator.translate(text='Mpereza amakuru yerekeye Belise', target_lang='fr', source_lang='rw')"
      ]
    },
    {
      "cell_type": "code",
      "execution_count": 211,
      "metadata": {
        "colab": {
          "base_uri": "https://localhost:8080/",
          "height": 36
        },
        "id": "3TsKr7gqq4Y4",
        "outputId": "57ae1ac1-7c6a-491e-a0be-871b2b5bf23c"
      },
      "outputs": [
        {
          "output_type": "execute_result",
          "data": {
            "text/plain": [
              "'Je recherche des informations sur Belize'"
            ],
            "application/vnd.google.colaboratory.intrinsic+json": {
              "type": "string"
            }
          },
          "metadata": {},
          "execution_count": 211
        }
      ],
      "source": [
        "resp"
      ]
    },
    {
      "cell_type": "code",
      "execution_count": 212,
      "metadata": {
        "id": "yDPOxXDlq64I"
      },
      "outputs": [],
      "source": [
        "from langdetect import detect\n",
        "\n",
        "def process_question(text : str):\n",
        "  if text.lower() == 'hi' or text.lower() == 'hey' or text.lower() == 'how are you' or text.lower() == 'hello':\n",
        "    resp = text.lower()\n",
        "    source_lang = 'en'\n",
        "    return resp, source_lang\n",
        "  else:\n",
        "    source_lang = detect(text)\n",
        "    resp = translator.translate(text=text, target_lang='en', source_lang=source_lang)\n",
        "    return resp, source_lang\n",
        "\n",
        "def process_answer(text : str, source_lang):\n",
        "  resp = translator.translate(text=text, target_lang=source_lang, source_lang='en')\n",
        "  return resp"
      ]
    },
    {
      "cell_type": "code",
      "execution_count": 216,
      "metadata": {
        "colab": {
          "base_uri": "https://localhost:8080/",
          "height": 36
        },
        "id": "zRXcmAr2rPBs",
        "outputId": "cae49538-dba9-4c51-9623-b73e3281c5c9"
      },
      "outputs": [
        {
          "output_type": "execute_result",
          "data": {
            "text/plain": [
              "'Oscar: ok try this https://www.rssb.rw/fileadmin/user_upload/rssb_anti_fraud_policy_april_2018pdf.pdf for more information.'"
            ],
            "application/vnd.google.colaboratory.intrinsic+json": {
              "type": "string"
            }
          },
          "metadata": {},
          "execution_count": 216
        }
      ],
      "source": [
        "def process(QUESTION: str):\n",
        "  USER_QUERY, SL = process_question(QUESTION) #Translate the original question into english and store the source lang\n",
        "  RESPONSE = query(USER_QUERY) #Asking th chatbot question\n",
        "  ORIGINAL_RESPONSE = process_answer(RESPONSE, SL)\n",
        "  return ORIGINAL_RESPONSE\n",
        "\n",
        "process(\"The mission of RSSB is to manage and promote social security in Rwanda\")"
      ]
    },
    {
      "cell_type": "markdown",
      "metadata": {
        "id": "0Cv4ISuovB22"
      },
      "source": [
        "#FAST API"
      ]
    },
    {
      "cell_type": "code",
      "execution_count": null,
      "metadata": {
        "id": "ug6nvYdTvCZM"
      },
      "outputs": [],
      "source": [
        "!pip install fastapi pyngrok uvicorn nest-asyncio"
      ]
    },
    {
      "cell_type": "code",
      "execution_count": null,
      "metadata": {
        "colab": {
          "base_uri": "https://localhost:8080/"
        },
        "id": "ygyuu4JVvEPT",
        "outputId": "a22bdc45-4809-4678-e7d0-f388bdf04d84"
      },
      "outputs": [
        {
          "name": "stdout",
          "output_type": "stream",
          "text": [
            "Authtoken saved to configuration file: /root/.ngrok2/ngrok.yml\n"
          ]
        }
      ],
      "source": [
        "!ngrok authtoken 2HJTD4eU4nX4kqE0VD1YVDlysnq_4pvNxMFU5pe3Q4ERkSeHP"
      ]
    },
    {
      "cell_type": "code",
      "execution_count": null,
      "metadata": {
        "id": "QrIK3-VbvMBu"
      },
      "outputs": [],
      "source": [
        "from fastapi import FastAPI, Request\n",
        "from fastapi.responses import HTMLResponse\n",
        "from IPython.core.interactiveshell import asyncio\n",
        "import uvicorn\n",
        "from fastapi.templating import Jinja2Templates\n",
        "from fastapi.staticfiles import StaticFiles\n",
        "import schemas\n",
        "app = FastAPI()\n",
        "\n",
        "templates = Jinja2Templates(directory='/content/templates')\n",
        "app.mount(\"/content/static\", StaticFiles(directory=\"/content/static\"), name=\"static\")\n",
        "\n",
        "\n",
        "# storage = FastAPI(title='FASTAPI')\n",
        "# fakeDatabase = {\n",
        "#     1: {'task': \"hello\"},\n",
        "# }\n",
        "\n",
        "@app.get('/', response_class=HTMLResponse)\n",
        "def home(request: Request):\n",
        "    return templates.TemplateResponse(\"base.html\", {\"request\": request})\n",
        "@app.post(\"/predict\")\n",
        "async def predict(item: schemas.Item):\n",
        "    response = process(item.message)\n",
        "    message = {\"answer\": response}\n",
        "    return message\n",
        "\n",
        "\n",
        "\n",
        "# @storage.get('/')\n",
        "# async def index():\n",
        "#   return {\"data\": \"successfully\"}\n",
        "# @storage.get(\"/{lang}\")\n",
        "# async def getItem(lang: str):\n",
        "#   if lang:\n",
        "#     sol = process(lang)\n",
        "#     new_id = len(fakeDatabase.keys()) + 1\n",
        "#     fakeDatabase[new_id] = {'task': sol}\n",
        "#     return fakeDatabase\n",
        "#   else:\n",
        "#     return {\"data\": \"failed\"}\n",
        "\n",
        "  "
      ]
    },
    {
      "cell_type": "code",
      "execution_count": null,
      "metadata": {
        "colab": {
          "background_save": true,
          "base_uri": "https://localhost:8080/"
        },
        "id": "2vZQw7JovSeF",
        "outputId": "362dba9e-182d-460b-8ffd-87449765cba6"
      },
      "outputs": [
        {
          "name": "stderr",
          "output_type": "stream",
          "text": [
            "INFO:     Started server process [70]\n",
            "INFO:     Waiting for application startup.\n",
            "INFO:     Application startup complete.\n",
            "INFO:     Uvicorn running on http://127.0.0.1:8000 (Press CTRL+C to quit)\n"
          ]
        },
        {
          "name": "stdout",
          "output_type": "stream",
          "text": [
            "REST API started\n",
            "Your public API URL: http://e198-35-189-174-205.ngrok.io\n",
            "You can for example open the following URL in your browser: http://e198-35-189-174-205.ngrok.io?target_lang=en&text=Hallo%20Welt\n",
            "INFO:     41.216.107.113:0 - \"GET / HTTP/1.1\" 200 OK\n",
            "INFO:     41.216.107.113:0 - \"GET /style.css HTTP/1.1\" 200 OK\n",
            "INFO:     41.216.107.113:0 - \"GET /favicon.ico HTTP/1.1\" 404 Not Found\n",
            "INFO:     41.216.107.113:0 - \"POST /predict HTTP/1.1\" 200 OK\n",
            "INFO:     41.216.107.113:0 - \"POST /predict HTTP/1.1\" 200 OK\n",
            "INFO:     41.216.107.113:0 - \"POST /predict HTTP/1.1\" 200 OK\n",
            "INFO:     41.216.107.113:0 - \"POST /predict HTTP/1.1\" 200 OK\n",
            "INFO:     41.216.107.113:0 - \"POST /predict HTTP/1.1\" 200 OK\n",
            "INFO:     41.216.107.113:0 - \"POST /predict HTTP/1.1\" 200 OK\n",
            "INFO:     41.216.107.113:0 - \"POST /predict HTTP/1.1\" 200 OK\n",
            "INFO:     41.216.107.113:0 - \"POST /predict HTTP/1.1\" 200 OK\n",
            "INFO:     41.216.107.113:0 - \"POST /predict HTTP/1.1\" 200 OK\n",
            "INFO:     41.216.107.113:0 - \"POST /predict HTTP/1.1\" 200 OK\n",
            "INFO:     41.216.107.113:0 - \"POST /predict HTTP/1.1\" 200 OK\n",
            "INFO:     41.216.107.113:0 - \"POST /predict HTTP/1.1\" 200 OK\n"
          ]
        }
      ],
      "source": [
        "import nest_asyncio\n",
        "from pyngrok import ngrok\n",
        "import uvicorn\n",
        "\n",
        "ngrok_tunnel = ngrok.connect(8000)\n",
        "print(\"REST API started\")\n",
        "print(\"Your public API URL:\", ngrok_tunnel.public_url)\n",
        "print(\"You can for example open the following URL in your browser: {}?target_lang=en&text=Hallo%20Welt\".format(ngrok_tunnel.public_url))\n",
        "\n",
        "nest_asyncio.apply()\n",
        "uvicorn.run(app, port=8000)"
      ]
    },
    {
      "cell_type": "code",
      "execution_count": null,
      "metadata": {
        "id": "SoFQPG4MxASg"
      },
      "outputs": [],
      "source": []
    }
  ],
  "metadata": {
    "colab": {
      "provenance": [],
      "authorship_tag": "ABX9TyOrTIDUBLr6XPINCkrxNoI6",
      "include_colab_link": true
    },
    "kernelspec": {
      "display_name": "Python 3",
      "name": "python3"
    },
    "language_info": {
      "name": "python"
    }
  },
  "nbformat": 4,
  "nbformat_minor": 0
}