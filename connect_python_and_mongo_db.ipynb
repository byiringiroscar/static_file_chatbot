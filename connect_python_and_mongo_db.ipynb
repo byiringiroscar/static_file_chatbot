{
  "nbformat": 4,
  "nbformat_minor": 0,
  "metadata": {
    "colab": {
      "provenance": [],
      "authorship_tag": "ABX9TyNtA9eBB619gM294voKZxbQ",
      "include_colab_link": true
    },
    "kernelspec": {
      "name": "python3",
      "display_name": "Python 3"
    },
    "language_info": {
      "name": "python"
    }
  },
  "cells": [
    {
      "cell_type": "markdown",
      "metadata": {
        "id": "view-in-github",
        "colab_type": "text"
      },
      "source": [
        "<a href=\"https://colab.research.google.com/github/byiringiroscar/static_file_chatbot/blob/main/connect_python_and_mongo_db.ipynb\" target=\"_parent\"><img src=\"https://colab.research.google.com/assets/colab-badge.svg\" alt=\"Open In Colab\"/></a>"
      ]
    },
    {
      "cell_type": "code",
      "execution_count": null,
      "metadata": {
        "colab": {
          "base_uri": "https://localhost:8080/"
        },
        "id": "SeOOm_7gaYBB",
        "outputId": "93f29452-3325-4108-c107-31b0c70d2365"
      },
      "outputs": [
        {
          "output_type": "stream",
          "name": "stdout",
          "text": [
            "Looking in indexes: https://pypi.org/simple, https://us-python.pkg.dev/colab-wheels/public/simple/\n",
            "Requirement already satisfied: pymongo in /usr/local/lib/python3.8/dist-packages (4.3.3)\n",
            "Requirement already satisfied: dnspython<3.0.0,>=1.16.0 in /usr/local/lib/python3.8/dist-packages (from pymongo) (2.2.1)\n"
          ]
        }
      ],
      "source": [
        "!pip install pymongo"
      ]
    },
    {
      "cell_type": "code",
      "source": [
        "import pymongo\n",
        "from urllib.parse import quote_plus\n",
        "from pymongo import MongoClient\n",
        "username = quote_plus('admin')\n",
        "password = quote_plus('Admin123')\n",
        "cluster = 'Cluster0'\n",
        "# authSource = '<authSource>'\n",
        "# authMechanism = '<authMechanism>'\n",
        "urii = 'mongodb+srv://' + username + ':'+ password + '@cluster0.pbhtn9t.mongodb.net/?retryWrites=true&w=majority'\n",
        "client = pymongo.MongoClient(urii)\n",
        "result = client[\"rssb_company\"][\"text\"].find()\n",
        "# print results\n",
        "for i in result:\n",
        "    print(i)"
      ],
      "metadata": {
        "id": "Ob_dBxEwiMFa"
      },
      "execution_count": 64,
      "outputs": []
    },
    {
      "cell_type": "code",
      "source": [
        "# initialize our connection\n",
        "client = MongoClient(urii)\n",
        "db = client.test"
      ],
      "metadata": {
        "id": "GukJWEbya1x2"
      },
      "execution_count": 65,
      "outputs": []
    },
    {
      "cell_type": "code",
      "source": [
        "# connect to our db name rssb_company\n",
        "db = client['rssb_company']"
      ],
      "metadata": {
        "id": "vvmGqknkbWr-"
      },
      "execution_count": 60,
      "outputs": []
    },
    {
      "cell_type": "code",
      "source": [
        "# connect to our db table rssb_review\n",
        "collection = db['rssb_review']\n"
      ],
      "metadata": {
        "id": "xAXPhszgb692"
      },
      "execution_count": 61,
      "outputs": []
    },
    {
      "cell_type": "code",
      "source": [
        "# count all data we have\n",
        "collection.count_documents({})"
      ],
      "metadata": {
        "colab": {
          "base_uri": "https://localhost:8080/"
        },
        "id": "7JojwrHxlrsM",
        "outputId": "9b72a1a0-4285-4aa2-94e4-e3c4ef546aa2"
      },
      "execution_count": 62,
      "outputs": [
        {
          "output_type": "execute_result",
          "data": {
            "text/plain": [
              "1"
            ]
          },
          "metadata": {},
          "execution_count": 62
        }
      ]
    },
    {
      "cell_type": "code",
      "source": [
        "# insert only one data by using insert_one\n",
        "collection.insert_one({\"message\": \"hello\"})"
      ],
      "metadata": {
        "colab": {
          "base_uri": "https://localhost:8080/"
        },
        "id": "2unBWfYoXDKA",
        "outputId": "44634637-dbf1-4ec2-c7d9-018e8174f5dd"
      },
      "execution_count": 63,
      "outputs": [
        {
          "output_type": "execute_result",
          "data": {
            "text/plain": [
              "<pymongo.results.InsertOneResult at 0x7fb654b8b1c0>"
            ]
          },
          "metadata": {},
          "execution_count": 63
        }
      ]
    },
    {
      "cell_type": "code",
      "source": [
        "# view all data in list format\n",
        "list(collection.find())"
      ],
      "metadata": {
        "colab": {
          "base_uri": "https://localhost:8080/"
        },
        "id": "IWQPynPqcT0o",
        "outputId": "59a0e510-8e16-4b76-bfc5-b5c084333d9b"
      },
      "execution_count": null,
      "outputs": [
        {
          "output_type": "execute_result",
          "data": {
            "text/plain": [
              "[{'_id': ObjectId('639e9cb15d97bf6b64ff5287'), 'message': 'hello'}]"
            ]
          },
          "metadata": {},
          "execution_count": 56
        }
      ]
    },
    {
      "cell_type": "code",
      "source": [
        "# find one data by using find_one\n",
        "collection.find_one({'message': \"hello\"})"
      ],
      "metadata": {
        "colab": {
          "base_uri": "https://localhost:8080/"
        },
        "id": "fznDMdq9mgYb",
        "outputId": "605e599d-3e42-47fa-fe5b-5a58ba1dfb9d"
      },
      "execution_count": null,
      "outputs": [
        {
          "output_type": "execute_result",
          "data": {
            "text/plain": [
              "{'_id': ObjectId('639e9cb15d97bf6b64ff5287'), 'message': 'hello'}"
            ]
          },
          "metadata": {},
          "execution_count": 53
        }
      ]
    },
    {
      "cell_type": "markdown",
      "source": [
        "update data"
      ],
      "metadata": {
        "id": "zP-uxQ3ZmwPW"
      }
    },
    {
      "cell_type": "code",
      "source": [
        "data_updates = {\"message\": \"hello\"}\n",
        "collection.update_one({\"message\": \"tatiana\"}, {'$set': data_updates})"
      ],
      "metadata": {
        "colab": {
          "base_uri": "https://localhost:8080/"
        },
        "id": "QWyP8ylZmXHK",
        "outputId": "cf2f1b34-ec9c-4a44-a8ee-71a57e43176d"
      },
      "execution_count": null,
      "outputs": [
        {
          "output_type": "execute_result",
          "data": {
            "text/plain": [
              "<pymongo.results.UpdateResult at 0x7fb6583f74c0>"
            ]
          },
          "metadata": {},
          "execution_count": 55
        }
      ]
    },
    {
      "cell_type": "code",
      "source": [],
      "metadata": {
        "id": "QyJQPIKRnf8b"
      },
      "execution_count": null,
      "outputs": []
    }
  ]
}